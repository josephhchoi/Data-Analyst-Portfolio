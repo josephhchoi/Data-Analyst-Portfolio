{
 "cells": [
  {
   "cell_type": "markdown",
   "id": "118b993f-e4e7-4d2c-81f1-4f775b25f450",
   "metadata": {},
   "source": [
    "# DSC320: Binomial Distribution and Working with Random Data"
   ]
  },
  {
   "cell_type": "markdown",
   "id": "80dadaf6-25d3-4d84-afdc-810245fbfe2a",
   "metadata": {},
   "source": [
    "**Name**: Joseph Choi <br>\n",
    "**Class**: DSC410-T301 Predictive Analytics (2243-1)"
   ]
  },
  {
   "cell_type": "code",
   "execution_count": 16,
   "id": "0bb67060-2225-4760-b9c6-428469626b8f",
   "metadata": {
    "tags": []
   },
   "outputs": [],
   "source": [
    "# Setup\n",
    "\n",
    "import numpy as np\n",
    "from scipy.stats import binom\n",
    "import matplotlib.pyplot as plt"
   ]
  },
  {
   "cell_type": "markdown",
   "id": "5e7d0b6a-aecf-45e9-b3fe-b504222bb175",
   "metadata": {},
   "source": [
    "## 1. Using the Binomial Distribution\n",
    "An ensemble model is a model that uses multiple different models to build a better model. E.g., a \n",
    "random forest classifier uses multiple decision trees to “vote” for the best answer. For this exercise, \n",
    "assume that an ensemble model uses majority vote to predict a binary target and that each individual \n",
    "model is independent of every other model. Use Python code to answer the following questions. \n",
    "\n",
    "**Hint**: The binom package from scipy.stats is useful for this problem, but make sure you are using \n",
    "the correct functions for your calculations. "
   ]
  },
  {
   "cell_type": "markdown",
   "id": "a109c5b5-78f2-482d-aa3d-248bdabd3e24",
   "metadata": {},
   "source": [
    "### (a) If an ensemble model is composed of 15 individual models that each have 63% accuracy, what is the ensemble model accuracy? "
   ]
  },
  {
   "cell_type": "code",
   "execution_count": 2,
   "id": "b7b32f29-63e5-4a6c-ad76-40257797c729",
   "metadata": {
    "tags": []
   },
   "outputs": [
    {
     "data": {
      "text/plain": [
       "0.8512830492077245"
      ]
     },
     "execution_count": 2,
     "metadata": {},
     "output_type": "execute_result"
    }
   ],
   "source": [
    "\"\"\"\n",
    "Code Description:\n",
    "    - To calculate the ensemble model accuracy, using the bionmial distribution\n",
    "    - Plan: Summing up the probabilities of getting at least half of the individual models' predictions correct via binomial distribution \n",
    "    - Why at least half of the individual models' predictions? \n",
    "        - In ensemble model predictions are determined by the most commonly predicted class among the individual's models (majority voting)\n",
    "    - Provided parameters:\n",
    "        - Number of individual models (n = 15)\n",
    "        - Probability of success (p = 0.63)\n",
    "\n",
    "Code Breakdown:\n",
    "    - Part 1: Setting up given parameters\n",
    "    - Part 2: Calculating ensemble model accuracy using binomial distribution\n",
    "        - Calculating the sum of probabilities for getting at least half of the individual models' predictions correct\n",
    "        - \"for k in range((n + 1) // 2, n + 1)\": \n",
    "            - Iterating over values of k from half of the number of individual models rounded down to the nearest integer to the total number of individual models\n",
    "            - Range represents the possible number of successful predictions (from at least half to all)\n",
    "        - \"binom.pmf(k, n, p)\": Calculating the probability mass function (pmf) of the binomial distribution for each value of k\n",
    "            - k: Number of successful predictions\n",
    "            - n: Number of individual models\n",
    "            - p: Probability of success\n",
    "        - \"sum()\": Sums up probabilities calculated for each value of k\n",
    "    - Part 3: Printing output\n",
    "\"\"\"\n",
    "\n",
    "# Part 1:\n",
    "n = 15  \n",
    "p = 0.63  \n",
    "\n",
    "# Part 2:\n",
    "ensemble_accuracy = sum(binom.pmf(k, n, p) for k in range((n + 1) // 2, n + 1))\n",
    "\n",
    "# Part 3:\n",
    "ensemble_accuracy"
   ]
  },
  {
   "cell_type": "markdown",
   "id": "d34cbf0a-e66c-4cc9-8d7f-54e584b2edc2",
   "metadata": {},
   "source": [
    "#### Output Interpretation:\n",
    "- The ensemble model is expected have an accuracy of of ~85.13%\n",
    "- Important to note that an ensemble model conbines the predictions of multiple individual models using majority voting"
   ]
  },
  {
   "cell_type": "markdown",
   "id": "e99770dc-8a9e-40a5-90dc-1f337111f36c",
   "metadata": {},
   "source": [
    "### (b) What would the accuracy of the 15 individual models need to be in order for the ensemble model to have 95% accuracy? Find the smallest whole number percentage so this is satisfied. "
   ]
  },
  {
   "cell_type": "code",
   "execution_count": 8,
   "id": "7a915374-dfea-4911-b7d5-4dfe847260f7",
   "metadata": {
    "tags": []
   },
   "outputs": [
    {
     "name": "stdout",
     "output_type": "stream",
     "text": [
      "Accuracy for 95% ensemble accuracy: 71\n"
     ]
    }
   ],
   "source": [
    "\"\"\"\n",
    "Code Description:\n",
    "    - To determine the accuracy required for individual models to achieve a target ensemble accuracy using the binomial distribution\n",
    "    - Plan: Find the minimum whole number percentage accuracy needed for individual models to ensure the ensemble model achieves a specified target accuracy\n",
    "    - Provided parameters:\n",
    "        - Number of individual models (n = 15)\n",
    "        - Target ensemble accuracy (target_ensemble_accuracy = 0.95)\n",
    "\n",
    "Code Breakdown:\n",
    "    - Part 1: Setting up given parameters\n",
    "    - Part 2: Iterating over possible individual model accuracies (from 1% to 100%) via \"range(1, 101)\"\n",
    "        - For each accuracy, convert it to a probability (percentage divided by 100)\n",
    "    - Part 3: Calculating ensemble accuracy using binomial distribution by summing up the probabilities for getting at least half of the individual models' predictions correct via \"sum(binom.pmf(...)\"\n",
    "    - Part 4: Iterating until the ensemble accuracy meets or exceeds the target accuracy (check if ensemble accuracy meets the target)\n",
    "        - If the target accuracy is met or exceeded, print out the accuracy of individual models needed to achieve the ensemble target accuracy and terminate the loop\n",
    "\"\"\"\n",
    "\n",
    "# Part 1:\n",
    "n = 15  \n",
    "target_ensemble_accuracy1 = 0.95 \n",
    "\n",
    "# Part 2:\n",
    "for individual_accuracy1 in range(1, 101):  \n",
    "    p = individual_accuracy1 / 100  \n",
    "\n",
    "    # Part 3:\n",
    "    ensemble_accuracy = sum(binom.pmf(k, n, p) for k in range((n + 1) // 2, n + 1))\n",
    "\n",
    "    # Part 4:\n",
    "    if ensemble_accuracy >= target_ensemble_accuracy1:\n",
    "        print(\"Accuracy for 95% ensemble accuracy:\", individual_accuracy1)\n",
    "        break"
   ]
  },
  {
   "cell_type": "markdown",
   "id": "4bc82c36-cb82-415e-9f64-db32a2f3785b",
   "metadata": {},
   "source": [
    "### (c) If each individual model has 63% accuracy, how many individual models are needed for the ensemble model to have 95% accuracy? Find the smallest odd number of models (so there is a clear majority), so that this is satisfied."
   ]
  },
  {
   "cell_type": "code",
   "execution_count": 7,
   "id": "cb7c1fe7-de44-40eb-9c46-14ed634f5b37",
   "metadata": {
    "tags": []
   },
   "outputs": [
    {
     "name": "stdout",
     "output_type": "stream",
     "text": [
      "Number of individual models needed for 95% ensemble accuracy: 39\n"
     ]
    }
   ],
   "source": [
    "\"\"\"\n",
    "Code Description:\n",
    "    - To determine the minimum number of individual models needed for the ensemble model to achieve a target accuracy using the binomial distribution\n",
    "    - Plan: Find the smallest odd number of models that results in the ensemble model having an accuracy of at least 95%\n",
    "    - Provided parameters:\n",
    "        - Accuracy of each model (individual_accuracy = 0.63)\n",
    "        - Target ensemble accuracy (target_ensemble_accuracy = 0.95)\n",
    "\n",
    "Code Breakdown:\n",
    "    - Part 1: Setting up given parameters\n",
    "    - Part 2: Iterating over possible numbers of individual models (starting from 1, incrementing by 2 for odd numbers) via \"range(1, 101, 2)\"\n",
    "        - Part 3: For each number of models, calculating the ensemble accuracy using the binomial distribution via \"sum(binom.pmf(...)\"\n",
    "        - Part 4: Iterating until the ensemble accuracy meets or exceeds the target accuracy\n",
    "            - If the target accuracy is met or exceeded, print out the number of individual models needed to achieve the ensemble target accuracy and terminate the loop\n",
    "\"\"\"\n",
    "\n",
    "# Part 1:\n",
    "individual_accuracy2 = 0.63  \n",
    "target_ensemble_accuracy2 = 0.95\n",
    "\n",
    "# Part 2:\n",
    "for num_models in range(1, 101, 2):\n",
    "    \n",
    "    # Part 3:\n",
    "    ensemble_accuracy = sum(binom.pmf(k, num_models, individual_accuracy2) for k in range((num_models + 1) // 2, num_models + 1))\n",
    "    \n",
    "    # Part 4:\n",
    "    if ensemble_accuracy >= target_ensemble_accuracy2:\n",
    "        print(\"Number of individual models needed for 95% ensemble accuracy:\", num_models)\n",
    "        break"
   ]
  },
  {
   "cell_type": "markdown",
   "id": "c978a84d-521c-4deb-ab1e-a4080859b639",
   "metadata": {},
   "source": [
    "## 2. Working with Random Data\n",
    "Suppose that a random variable X can take on values 1, 2, 3, 4, or 5.\n",
    "\n",
    "**Note**: You can combine as much as you like of parts (b) and (c) into a single function. They are \n",
    "separate in the problem statement to make sure what you need to do is clear."
   ]
  },
  {
   "cell_type": "markdown",
   "id": "42d29638-f98e-47e7-b2cb-bfd5fff65f88",
   "metadata": {},
   "source": [
    "### (a) Make up your own probability mass function (pmf) for X. Make sure it satisfies the requirements of a pmf. "
   ]
  },
  {
   "cell_type": "code",
   "execution_count": 5,
   "id": "325c1e98-b2c3-4b20-983d-8d13b34dc079",
   "metadata": {
    "tags": []
   },
   "outputs": [
    {
     "name": "stdout",
     "output_type": "stream",
     "text": [
      "1. There are no negatives so they satisfy pmf requirements\n",
      "2. Sum of all probabilities must equal 1 so they satisfy requirments\n"
     ]
    }
   ],
   "source": [
    "\"\"\"\n",
    "Code Description:\n",
    "    - Creating own pmf that satisfies pmf requirements\n",
    "    - pmf must satisfy two requirements:\n",
    "        - Each probability must be non-negative\n",
    "        - Sum of all probabilities must equal 1 \n",
    "        \n",
    "Code Breakdown:\n",
    "    - Part 1: Defining the pmf for the variable X\n",
    "        - Using dictionary where: \n",
    "            - Keys are values of X\n",
    "            - Values are the probabilities\n",
    "    - Part 2: Checking if the pmf satisfies the requirements\n",
    "    - Part 3: Checking if each probability is non-negative by iterating over the probabilities\n",
    "    - Part 4: Checking if the sum of all probabilities equals 1 by calculatubg the sum of all probabilities and comparing it to 1\n",
    "    - Part 3-4: Providing feedback based on the checks\n",
    "\"\"\"\n",
    "\n",
    "# Part 1:\n",
    "pmf_X = {\n",
    "    1: 0.2,\n",
    "    2: 0.3,\n",
    "    3: 0.1,\n",
    "    4: 0.2,\n",
    "    5: 0.2\n",
    "}\n",
    "\n",
    "# Part 2:\n",
    "\n",
    "# Part 3:\n",
    "if all(prob >= 0 for prob in pmf_X.values()):\n",
    "    print(\"1. There are no negatives so they satisfy pmf requirements\")\n",
    "else:\n",
    "    print(\"Does not satisfy pmf requirements\")\n",
    "\n",
    "# Part 4:\n",
    "if sum(pmf_X.values()) == 1:\n",
    "    print(\"2. Sum of all probabilities must equal 1 so they satisfy requirments\")\n",
    "else:\n",
    "    print(\"Does not satisfy pmf requirements\")"
   ]
  },
  {
   "cell_type": "markdown",
   "id": "6f23a862-aa41-4106-b05d-c017db57fc32",
   "metadata": {},
   "source": [
    "### (b) Build a function that will generate 50 random X-values from the pmf you created in part (a) and return the mean of these values. "
   ]
  },
  {
   "cell_type": "code",
   "execution_count": 6,
   "id": "e80c8796-3b2d-4440-bba8-193952576c11",
   "metadata": {
    "tags": []
   },
   "outputs": [
    {
     "name": "stdout",
     "output_type": "stream",
     "text": [
      "Mean: 2.94\n"
     ]
    }
   ],
   "source": [
    "\"\"\"\n",
    "Code Description:\n",
    "    - Building a function to generate random X-values based on a provided pmf and return the mean of these values\n",
    "    - Function's two parameters:\n",
    "        - pmf (probability mass function)\n",
    "        - num_samples (number of random samples to generate)\n",
    "    - After generating random X-values based on the pmf, the function calculates the mean of these values and returns it\n",
    "\n",
    "Code Breakdown:\n",
    "    - Part 1: Building the function generate_X that takes in two parameters (pmf & num_samples)\n",
    "    - Part 2: Generating random X-values based on the provided pmf\n",
    "        - Using \"random.choice()\" to generate random X-values from the keys of the pmf with probabilities specified by the values of the pmf\n",
    "        - \"list(pmf.keys()): pmf.keys()\": Returns the keys (possible values of the random variable X) from the pmf dictionary\n",
    "        - \"size=num_samples\": Specifies the number of samples to generates (value of 'num_samples')\n",
    "        - \"p=list(pmf.values())\": Specifies the probabilities associated with eachvalue in the 'pmf.keys()' list\n",
    "    - Part 3: Calculating the mean of the generated X-values\n",
    "        - Using \"mean()\" to calculate the mean of the generated X-values\n",
    "    - Part 4: Returning the calculated mean of the generated X-values\n",
    "    - Part 5: generate_X is deployed with \"pmf_X\" and 50 as the number of samples\n",
    "        - Mean of the generated random X-values is printed out as output\n",
    "\"\"\"\n",
    "\n",
    "# Part 1: \n",
    "def generate_X(pmf, num_samples):\n",
    "\n",
    "    # Part 2:\n",
    "    X_values = np.random.choice( # Generating random X-values based on pmf\n",
    "        list(pmf.keys()), # List of possible values (keys of pmf)\n",
    "        size=num_samples, # Number of samples to generate\n",
    "        p=list(pmf.values()) # Probabilities associated with each value\n",
    "    )\n",
    "    \n",
    "    # Part 3:\n",
    "    mean_X = np.mean(X_values)\n",
    "    \n",
    "    # Part 4:\n",
    "    return mean_X\n",
    "\n",
    "# Part 5:\n",
    "mean_X_values = generate_X(pmf_X, 50)\n",
    "print(\"Mean:\", mean_X_values)"
   ]
  },
  {
   "cell_type": "markdown",
   "id": "6c70e349-52b3-4b3e-becb-ef5a6b1a978d",
   "metadata": {},
   "source": [
    "### (c) Now, build a function that will run your function in part b, 1,000 times and store the means in a list."
   ]
  },
  {
   "cell_type": "code",
   "execution_count": 14,
   "id": "e1421d8a-f0e3-47c9-8a53-b13d175575c4",
   "metadata": {},
   "outputs": [
    {
     "data": {
      "text/plain": [
       "[2.78, 2.84, 2.8, 2.76, 2.98, 3.32, 2.52, 2.58, 3.22, 2.78]"
      ]
     },
     "execution_count": 14,
     "metadata": {},
     "output_type": "execute_result"
    }
   ],
   "source": [
    "\"\"\"\n",
    "Code Description:\n",
    "    - Building a function to run the generate_X 1,000 times and storing the means in a list\n",
    "        - Iterating 1,000 times, generating random X-values each time and calculating their mean\n",
    "        - Storing mean outputs in a list and returned\n",
    "\n",
    "Code Breakdown:\n",
    "    - Part 1: Defining the function \"generate_X_1000\" which takes in parameters (pmf, num_samples)\n",
    "    - Part 2: Initializing an empty list to store the means of each iteration\n",
    "    - Part 3: Iterating 1,000 times via \"range(1000)\": \n",
    "        - Inside the loop, generating X-values using the \"generate_X\" and calculating their mean\n",
    "        - Appending the mean to the list of means via \"append()\"\n",
    "    - Part 4: Returning the list of means containing the means of all iterations\n",
    "    - Part 5: Calling the generate_X_1000 function with pmf_X and 50 as the number of samples (same parameters as b)\n",
    "    - Part 6: Printing out the first 10 means from the list\n",
    "\"\"\"\n",
    "\n",
    "# Part 1:\n",
    "def generate_X_1000(pmf, num_samples):\n",
    "    \n",
    "    # Part 2:\n",
    "    means_list = []\n",
    "    \n",
    "    # Part 3:\n",
    "    for _ in range(1000):\n",
    "        mean_X = generate_X(pmf, num_samples) \n",
    "        means_list.append(mean_X) \n",
    "        \n",
    "    # Part 4:\n",
    "    return means_list\n",
    "\n",
    "# Part 5:\n",
    "means = generate_X_1000(pmf_X, 50) \n",
    "\n",
    "# Part 6:\n",
    "means[:10]"
   ]
  },
  {
   "cell_type": "markdown",
   "id": "afbe8721-ea27-4c2d-bea7-23a622ab18a7",
   "metadata": {},
   "source": [
    "### (d) Create a histogram of the means in the list from part c. Describe the shape of this histogram. What theorem tells us that it will look the way it does? "
   ]
  },
  {
   "cell_type": "code",
   "execution_count": 17,
   "id": "a2067458-db1c-42ac-9a3e-9c482b938dd5",
   "metadata": {},
   "outputs": [
    {
     "data": {
      "image/png": "[encoded data removed]",
      "text/plain": [
       "<Figure size 640x480 with 1 Axes>"
      ]
     },
     "metadata": {},
     "output_type": "display_data"
    }
   ],
   "source": [
    "\"\"\"\n",
    "Code Description:\n",
    "    - Creating a histogram to visualize the distribution using \"means\" list from (c) \n",
    "\"\"\"\n",
    "\n",
    "# Histogram:\n",
    "plt.hist(means, bins=20, color='skyblue', edgecolor='black')\n",
    "plt.title('Histogram: Means')  \n",
    "plt.xlabel('Mean Values') \n",
    "plt.ylabel('Freq.')  \n",
    "plt.show() "
   ]
  },
  {
   "cell_type": "markdown",
   "id": "82683449-c247-4f3a-8f79-7e6e0489f304",
   "metadata": {},
   "source": [
    "#### Response:\n",
    "The shape of the histogram looks like a bell-shaped curve. This indicates that it is a normal distribution. This aligns with CLT as it describes that as the sample size increases, the distribution of sample means tends to approach a normal distribution. Therefore, the histogram shows a bell shape as expected by the CLT. "
   ]
  },
  {
   "cell_type": "markdown",
   "id": "e9cf6b37-11ec-4764-b4dd-7e7c76edc061",
   "metadata": {
    "tags": []
   },
   "source": [
    "### (e) What is the mean and standard deviation of your list of means? What are their theoretical values? "
   ]
  },
  {
   "cell_type": "code",
   "execution_count": 19,
   "id": "eb666897-ac37-47d6-ba20-aa6ccde614b7",
   "metadata": {},
   "outputs": [],
   "source": [
    "# Calculating the mean and std of the list of means via \"mean()\" & \"std()\"\n",
    "mean = np.mean(means)\n",
    "std = np.std(means)"
   ]
  },
  {
   "cell_type": "code",
   "execution_count": 20,
   "id": "0e3831eb-58d2-4544-8509-48fba0b675fe",
   "metadata": {
    "tags": []
   },
   "outputs": [
    {
     "data": {
      "text/plain": [
       "2.8983199999999996"
      ]
     },
     "execution_count": 20,
     "metadata": {},
     "output_type": "execute_result"
    }
   ],
   "source": [
    "# Printing the mean\n",
    "mean"
   ]
  },
  {
   "cell_type": "code",
   "execution_count": 21,
   "id": "49c1ed1f-1b22-4b2b-ac87-99886c59dda0",
   "metadata": {
    "tags": []
   },
   "outputs": [
    {
     "data": {
      "text/plain": [
       "0.20961196912390284"
      ]
     },
     "execution_count": 21,
     "metadata": {},
     "output_type": "execute_result"
    }
   ],
   "source": [
    "# Printing the std\n",
    "std"
   ]
  },
  {
   "cell_type": "markdown",
   "id": "0fe7a299-d00b-4665-818c-0cb819500c29",
   "metadata": {},
   "source": [
    "#### Response:\n",
    "The theoretical values for the mean of the list of \"means\" should be close to the population mean. This was calculated in (b) as **2.94**. Therefore, the mean output of **2.90** is in line with the theoretical expectation."
   ]
  }
 ],
 "metadata": {
  "kernelspec": {
   "display_name": "Python 3 (ipykernel)",
   "language": "python",
   "name": "python3"
  },
  "language_info": {
   "codemirror_mode": {
    "name": "ipython",
    "version": 3
   },
   "file_extension": ".py",
   "mimetype": "text/x-python",
   "name": "python",
   "nbconvert_exporter": "python",
   "pygments_lexer": "ipython3",
   "version": "3.10.10"
  }
 },
 "nbformat": 4,
 "nbformat_minor": 5
}
