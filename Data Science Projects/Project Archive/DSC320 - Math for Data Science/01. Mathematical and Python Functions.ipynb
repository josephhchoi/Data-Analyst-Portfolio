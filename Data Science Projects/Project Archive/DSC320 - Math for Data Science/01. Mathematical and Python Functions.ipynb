{
 "cells": [
  {
   "cell_type": "markdown",
   "id": "0bf99d20-0a34-4215-aeeb-57995ff04b0f",
   "metadata": {},
   "source": [
    "# DSC320: Mathematical and Python Functions\n",
    "**Name**: Joseph Choi <br>\n",
    "**Class**: DSC320-T301 Math for Data Science (2243-1)"
   ]
  },
  {
   "cell_type": "markdown",
   "id": "ca0c0185-2a92-40d8-b457-7f816887c543",
   "metadata": {},
   "source": [
    "## Assignment 1\n",
    "- Create a function that takes in two numerical arrays of the same length (think about one array as actual values and the other as predicted values) and calculates the RMSE between them.\n",
    "- Apply your RMSE function to the columns “sale price” and “sale price pred” in the file hous\u0002ing data.csv. file and report your result. The sale price has been predicted from the square footage of the house."
   ]
  },
  {
   "cell_type": "code",
   "execution_count": 25,
   "id": "3ea40522-007d-4fdb-a9d5-a6c69d159000",
   "metadata": {},
   "outputs": [],
   "source": [
    "# Setup\n",
    "import pandas as pd\n",
    "import numpy as np"
   ]
  },
  {
   "cell_type": "code",
   "execution_count": 26,
   "id": "79ed6f92-a758-4cdb-ad8a-869d54d716ed",
   "metadata": {},
   "outputs": [],
   "source": [
    "\"\"\"\n",
    "Code Description: \n",
    "\n",
    "    - Creating a function that computes the RMSE\n",
    "    - Building the function to take in two arrays:\n",
    "        - 'actual_values': actual observed values (sale_price)\n",
    "        - 'predicted_values': values predicted by a model (sale_price_pred)\n",
    "    - Function has 3 Parts:\n",
    "        - 1st Part: \n",
    "            - Checks lengths of the arrays are the same via 'if' & 'len()'\n",
    "            - If the length differs, it alerts with message 'arrays: not same length' via 'raise' & 'ValueError()''\n",
    "        - 2nd Part: \n",
    "            - 'predicted - actual' AND THEN squaring the difference via 'subtract()' & 'square()'\n",
    "        - 3rd Part: \n",
    "            - Take the mean of the 1st calc AND THEN square root the output via 'mean()' & 'sqrt()'    \n",
    "\"\"\"\n",
    "\n",
    "def rmse_calc(actual, predicted):\n",
    "    \n",
    "    # 1st Part:\n",
    "    if len(actual) != len(predicted):\n",
    "        raise ValueError(\"arrays: not same length\")\n",
    "    \n",
    "    # 2nd Part:\n",
    "    rmse_nested = np.square(np.subtract(predicted, actual))\n",
    "    \n",
    "    # 3rd Part:\n",
    "    rmse_final = np.sqrt(np.mean(rmse_nested))\n",
    "    \n",
    "    return rmse_final"
   ]
  },
  {
   "cell_type": "code",
   "execution_count": 27,
   "id": "eb63b5c2-c79c-4b19-a47d-138a16224e24",
   "metadata": {},
   "outputs": [
    {
     "data": {
      "text/plain": [
       "55064.068833898666"
      ]
     },
     "execution_count": 27,
     "metadata": {},
     "output_type": "execute_result"
    }
   ],
   "source": [
    "\"\"\"\n",
    "Code Description: \n",
    "\n",
    "    - 1st Part: \n",
    "        - Importing 'housing data' csv file and extracting 'sale price' and 'sale price pred' columns\n",
    "    - 2nd Part: Calculating rmse using:\n",
    "        - 'rmse_calc' function\n",
    "        - actual_prices (sale_price)\n",
    "        - predicted_prices (sale_price_pred)\n",
    "\"\"\"\n",
    "\n",
    "# 1st Part:\n",
    "data = pd.read_csv('housing_data.csv')\n",
    "actual_prices = data['sale_price']\n",
    "predicted_prices = data['sale_price_pred']\n",
    "\n",
    "# 2nd Part: \n",
    "rmse_result = rmse_calc(actual_prices, predicted_prices)\n",
    "\n",
    "# Printing results\n",
    "rmse_result"
   ]
  },
  {
   "cell_type": "markdown",
   "id": "663b2a6f-60ff-4360-b5a9-113d605f873f",
   "metadata": {},
   "source": [
    "## Assignment 2\n",
    "- Repeat problem (1a) above with MAE.\n",
    "- Repeat problem (1b) above with MAE."
   ]
  },
  {
   "cell_type": "code",
   "execution_count": 28,
   "id": "49a918d8-8611-4c77-9a1b-9cb7941f3360",
   "metadata": {},
   "outputs": [],
   "source": [
    "\"\"\"\n",
    "Code Description: \n",
    "\n",
    "    - Creating a function that computes the MAE\n",
    "    - Building the function to take in two arrays:\n",
    "        - 'actual_values': Actual observed values (sale_price)\n",
    "        - 'predicted_values': Values predicted by a model (sale_price_pred)\n",
    "    - Function has 3 Parts:\n",
    "        - 1st Part: \n",
    "            - Checks lengths of the arrays are the same via 'if' & 'len()'\n",
    "            - If the length differs, it alerts with message 'arrays: not same length' via 'raise' & 'ValueError()''\n",
    "        - 2nd Part: \n",
    "            - 'predicted - actual' AND THEN takes the absolute value of the difference via 'subtract()' & 'square()'\n",
    "        - 3rd Part: \n",
    "            - Takes the mean of the 1st calculation via 'mean()'\n",
    "\"\"\"\n",
    "\n",
    "def mae_calc(actual, predicted):\n",
    "    \n",
    "    # 1st Part:\n",
    "    if len(actual) != len(predicted):\n",
    "        raise ValueError(\"arrays: not same length\")\n",
    "    \n",
    "    # 2nd Part:\n",
    "    mae_nested = np.abs(np.subtract(predicted, actual))\n",
    "    \n",
    "    # 3rd Part:\n",
    "    mae_final = np.mean(mae_nested)\n",
    "    \n",
    "    return mae_final"
   ]
  },
  {
   "cell_type": "code",
   "execution_count": 29,
   "id": "a418c35f-57b5-4aee-abf0-6ce0bcd2f192",
   "metadata": {},
   "outputs": [
    {
     "data": {
      "text/plain": [
       "37438.689162705436"
      ]
     },
     "execution_count": 29,
     "metadata": {},
     "output_type": "execute_result"
    }
   ],
   "source": [
    "\"\"\"\n",
    "Code Description: \n",
    "\n",
    "    - Calculating MAE using:\n",
    "        - 'mae_calc' function\n",
    "        - actual_prices (sale_price)\n",
    "        - predicted_prices (sale_price_pred)\n",
    "\"\"\"\n",
    "\n",
    "# Calculating MAE\n",
    "mae_result = mae_calc(actual_prices, predicted_prices)\n",
    "\n",
    "# Printing results\n",
    "mae_result"
   ]
  },
  {
   "cell_type": "markdown",
   "id": "4955fbfd-6353-4da3-a9fc-df08160b9d9c",
   "metadata": {},
   "source": [
    "## Assignment 3\n",
    "- Build a function that takes in two binary arrays of the same length, where one is actual values and the other predicted values, that calculates the prediction accuracy.\n",
    "- Apply your accuracy function to the columns “actual” and “predicted” in the mushroom data.csv file and report your result. The columns in this data set indicate the mushroom is poisonous with a “p” and if it is edible with an “e”."
   ]
  },
  {
   "cell_type": "code",
   "execution_count": 37,
   "id": "992c3a63-8c82-4d6b-8849-8ab4d5439041",
   "metadata": {},
   "outputs": [],
   "source": [
    "\"\"\"\n",
    "Code Description: \n",
    "\n",
    "    - Creating a function that computes the prediction accuracy\n",
    "    - Building the function to take in two arrays:\n",
    "        - 'actual_values': Actual observed values (sale_price)\n",
    "        - 'predicted_values': Values predicted by a model (sale_price_pred)\n",
    "    - Function has 4 Parts:\n",
    "        - 1st Part: \n",
    "            - Checks lengths of the arrays are the same via 'if' & 'len()'\n",
    "            - If the length differs, it alerts with message 'arrays: not same length' via 'raise' & 'ValueError()''\n",
    "        - 2nd Part: \n",
    "            - Calculating # of correct predictions AND the total # of predictions:\n",
    "            - Correct predictions: Adding up all the 'True' as same output from actual and predicted equates to correct prediction\n",
    "            - Total predictions: Retrieving the length of one of the arrays\n",
    "        - 3rd Part: \n",
    "            - Dividing 'correct_pred' by 'total_pred' to calculate accuracy %\n",
    "\"\"\"\n",
    "\n",
    "def accuracy_calc(actual, predicted):\n",
    "    \n",
    "    # 1st Part:\n",
    "    if len(actual) != len(predicted):\n",
    "        raise ValueError(\"arrays: not same length\")\n",
    "    \n",
    "    # 2nd Part:\n",
    "    correct_pred = sum(actual == predicted)\n",
    "    total_pred = len(actual)\n",
    "    \n",
    "    # 3rd Part:\n",
    "    accuracy_final = (correct_pred / total_pred) * 100\n",
    "    \n",
    "    return accuracy_final"
   ]
  },
  {
   "cell_type": "code",
   "execution_count": 38,
   "id": "21739af8-1310-49de-b762-eb829fd9c3c6",
   "metadata": {},
   "outputs": [
    {
     "data": {
      "text/plain": [
       "84.71196454948301"
      ]
     },
     "execution_count": 38,
     "metadata": {},
     "output_type": "execute_result"
    }
   ],
   "source": [
    "\"\"\"\n",
    "Code Description: \n",
    "\n",
    "    - 1st Part: \n",
    "        - Importing 'mushroom data' csv file and extracting 'actual' and 'predicted' columns\n",
    "    - 2nd Part: Calculating accuracy using:\n",
    "        - 'accuracy_final' function\n",
    "        - actual_values (actual)\n",
    "        - predicted_values (predicted)\n",
    "\"\"\"\n",
    "\n",
    "# 1st Part:\n",
    "data = pd.read_csv('mushroom_data.csv')\n",
    "actual_values = data['actual']\n",
    "predicted_values = data['predicted']\n",
    "\n",
    "# 2nd Part:\n",
    "accuracy_result = accuracy_calc(actual_values, predicted_values)\n",
    "\n",
    "# Printing results\n",
    "accuracy_result"
   ]
  },
  {
   "cell_type": "markdown",
   "id": "4c6cf9b7-8f4d-4fcc-9f44-278fbc7877d5",
   "metadata": {},
   "source": [
    "## Assignment 4\n",
    "- Use the Python package matplotlib to plot this function.\n",
    "- Use your graph to estimate the value of p that minimizes the error. Report your result.\n",
    "- Use your graph to estimate the minimum error. Report your result."
   ]
  },
  {
   "cell_type": "code",
   "execution_count": 40,
   "id": "7446416e-42ac-4e49-89ad-27a3fdb249eb",
   "metadata": {},
   "outputs": [],
   "source": [
    "# Setup\n",
    "import matplotlib.pyplot as plt"
   ]
  },
  {
   "cell_type": "code",
   "execution_count": 44,
   "id": "6fc81d91-7b7c-4593-9532-e5083d813fa4",
   "metadata": {},
   "outputs": [],
   "source": [
    "\"\"\"\n",
    "Code Description: \n",
    "\n",
    "        - Defining a function that computes error function based on parameter 'p' \n",
    "        - Using provided function from assignment\n",
    "        - 'p': Set parameter/variable of a model\n",
    "\"\"\"\n",
    "\n",
    "def error_function(p):\n",
    "    \n",
    "    ef_result = 0.005 * p**6 - 0.27 * p**5 + 5.998 * p**4 - 69.919 * p**3 + 449.17 * p**2 - 1499.7 * p + 2028\n",
    "    \n",
    "    return ef_result"
   ]
  },
  {
   "cell_type": "code",
   "execution_count": 54,
   "id": "86a5e260-a21a-4ebb-bccf-46a122a597dd",
   "metadata": {},
   "outputs": [
    {
     "data": {
      "image/png": "[encoded data removed]",
      "text/plain": [
       "<Figure size 800x600 with 1 Axes>"
      ]
     },
     "metadata": {},
     "output_type": "display_data"
    }
   ],
   "source": [
    "\"\"\"\n",
    "Code Description:\n",
    "\n",
    "    - Part 1:\n",
    "        - Generating a range of values for 'p' and naming it 'p_array'\n",
    "        - Using 'linspace()' to generate an array that contains 100 values between -10 to 10\n",
    "    - Part 2:\n",
    "        - Calculating the error values by using:\n",
    "            - function 'error_function'\n",
    "            - p: 'p_array'\n",
    "    - Part 3:\n",
    "        - Plotting the error function via 'matplotlib'\n",
    "\"\"\"\n",
    "\n",
    "\n",
    "# Part 1:\n",
    "p_array = np.linspace(-10, 10, 100)\n",
    "\n",
    "# Part 2:\n",
    "error_values = error_function(p_values)\n",
    "\n",
    "# Part 3:\n",
    "plt.figure(figsize=(8, 6))\n",
    "plt.plot(p_values, error_values)\n",
    "plt.xlabel('p')\n",
    "plt.ylabel('Error')\n",
    "plt.title('Error Function')\n",
    "plt.grid(True)\n",
    "\n",
    "# Printing results\n",
    "plt.show()"
   ]
  },
  {
   "cell_type": "markdown",
   "id": "a3109740",
   "metadata": {},
   "source": [
    "#### Reporting Results:\n",
    "- The estimate value of p that minimizes the error is **2.5** as that is where it appears to be the lowest point on the graph (where p = 2.5) \n",
    "- The estimate minimum error is **0** as that is where it appears to be the lowest point on the graph (where Error = 0) "
   ]
  }
 ],
 "metadata": {
  "kernelspec": {
   "display_name": "Python 3 (ipykernel)",
   "language": "python",
   "name": "python3"
  },
  "language_info": {
   "codemirror_mode": {
    "name": "ipython",
    "version": 3
   },
   "file_extension": ".py",
   "mimetype": "text/x-python",
   "name": "python",
   "nbconvert_exporter": "python",
   "pygments_lexer": "ipython3",
   "version": "3.9.13"
  }
 },
 "nbformat": 4,
 "nbformat_minor": 5
}
