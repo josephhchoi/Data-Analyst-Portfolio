{
 "cells": [
  {
   "cell_type": "markdown",
   "id": "ed993129-3fa4-4055-bf42-52f49beadbc6",
   "metadata": {},
   "source": [
    "# DSC320: Data Scaling and Working with DataFrames"
   ]
  },
  {
   "cell_type": "markdown",
   "id": "e34d6790-c607-44b5-9e8f-f4698393f300",
   "metadata": {},
   "source": [
    "**Name**: Joseph Choi <br>\n",
    "**Class**: DSC320-T301 Math for Data Science (2243-1)"
   ]
  },
  {
   "cell_type": "code",
   "execution_count": 34,
   "id": "bbb5b5cf-62e4-467b-936b-ea302d061401",
   "metadata": {},
   "outputs": [],
   "source": [
    "# Setup\n",
    "import math\n",
    "import pandas as pd"
   ]
  },
  {
   "cell_type": "markdown",
   "id": "edaad8dc-390b-4ef2-84b9-bbe763129144",
   "metadata": {},
   "source": [
    "#### JC Notes:\n",
    "**Scaling**: \n",
    "- Adjusting the range of values for your input features so that they all fall within the same scale\n",
    "- Prevents any single feature to disproportionately influence the model's performance"
   ]
  },
  {
   "cell_type": "markdown",
   "id": "1c5c9950-96c9-47b0-b320-366664a14e67",
   "metadata": {},
   "source": [
    "## 1. Data Normalization"
   ]
  },
  {
   "cell_type": "code",
   "execution_count": 35,
   "id": "d799e46a-da65-4e76-ad3b-d06687a840e3",
   "metadata": {},
   "outputs": [],
   "source": [
    "\"\"\"\n",
    "Code Description: Defining a function that takes in vector and normalizes it\n",
    "\n",
    "Formula Breakdown:\n",
    "- Xi: Specific value or values in the vector that I want to normalize\n",
    "- min{x1,x2,...,xn}: Min value in the vector\n",
    "- max{x1,x2,...,xn}: Max value in the vector\n",
    "\n",
    "Code Breakdown:\n",
    "- 1st Part: Calculating the min and max values in vector\n",
    "- 2nd Part: Normalizing vectors based on provided formula\n",
    "    - 'for x in vector': looping through each value in vector\n",
    "- 3rd Part: Returning output (normalized vector)\n",
    "\"\"\"\n",
    "\n",
    "def data_normalization(vector):\n",
    "    \n",
    "    # 1st Part:\n",
    "    norm_min_val = min(vector)\n",
    "    norm_max_val = max(vector)\n",
    "    \n",
    "    # 2nd Part:\n",
    "    normalized = [(x - norm_min_val) / (norm_max_val - norm_min_val) for x in vector]   \n",
    "    \n",
    "    # 3rd Part:\n",
    "    return normalized"
   ]
  },
  {
   "cell_type": "markdown",
   "id": "cf71836f-b75b-49c9-8ef4-b23798195b02",
   "metadata": {},
   "source": [
    "## 2. Data Standardization"
   ]
  },
  {
   "cell_type": "code",
   "execution_count": 36,
   "id": "b57759f9-a8b9-49f8-a461-1c3598bc9f99",
   "metadata": {},
   "outputs": [],
   "source": [
    "\"\"\"\n",
    "Code Description: Defining a function that takes in vector and standardizes it\n",
    "\n",
    "Formula Breakdown:\n",
    "- Xi: Specific value or values in the vector that I want to standardize\n",
    "- x_: Mean\n",
    "- sx: Standard deviation = SQRT((xi - x_)^2 * 1/n)\n",
    "\n",
    "Code Breakdown:\n",
    "- 1st Part: Calculating the mean and standard deviation\n",
    "- 2nd Part: Standardizing the vectors based on provided formula\n",
    "    - 'for x in vector': looping through each value in vector\n",
    "- 3rd Part: Returning output (standardized vector)\n",
    "\"\"\"\n",
    "\n",
    "def data_standardization(vector):\n",
    "\n",
    "    # 1st Part:\n",
    "    stand_mean_val = sum(vector) / len(vector)\n",
    "    stand_std_dev = math.sqrt(sum((x - stand_mean_val) ** 2 for x in vector) / len(vector))\n",
    "\n",
    "    \n",
    "    # 2nd Part:\n",
    "    standardized = [(x - stand_mean_val) / stand_std_dev for x in vector]\n",
    "    \n",
    "    # 3rd Part:\n",
    "    return standardized"
   ]
  },
  {
   "cell_type": "markdown",
   "id": "632290cb-20ec-4ca0-9e9f-5bb9a3fe5b4a",
   "metadata": {},
   "source": [
    "## 3. Working with a DataFrame"
   ]
  },
  {
   "cell_type": "code",
   "execution_count": 37,
   "id": "6afa1fa5-fcc7-4258-9700-c5551d963ded",
   "metadata": {},
   "outputs": [
    {
     "data": {
      "text/html": [
       "<div>\n",
       "<style scoped>\n",
       "    .dataframe tbody tr th:only-of-type {\n",
       "        vertical-align: middle;\n",
       "    }\n",
       "\n",
       "    .dataframe tbody tr th {\n",
       "        vertical-align: top;\n",
       "    }\n",
       "\n",
       "    .dataframe thead th {\n",
       "        text-align: right;\n",
       "    }\n",
       "</style>\n",
       "<table border=\"1\" class=\"dataframe\">\n",
       "  <thead>\n",
       "    <tr style=\"text-align: right;\">\n",
       "      <th></th>\n",
       "      <th>housing_median_age</th>\n",
       "      <th>total_bedrooms</th>\n",
       "      <th>households</th>\n",
       "      <th>median_income</th>\n",
       "      <th>median_house_value</th>\n",
       "    </tr>\n",
       "  </thead>\n",
       "  <tbody>\n",
       "    <tr>\n",
       "      <th>0</th>\n",
       "      <td>41</td>\n",
       "      <td>129.0</td>\n",
       "      <td>126</td>\n",
       "      <td>8.3252</td>\n",
       "      <td>452600.0</td>\n",
       "    </tr>\n",
       "    <tr>\n",
       "      <th>1</th>\n",
       "      <td>21</td>\n",
       "      <td>1106.0</td>\n",
       "      <td>1138</td>\n",
       "      <td>8.3014</td>\n",
       "      <td>358500.0</td>\n",
       "    </tr>\n",
       "    <tr>\n",
       "      <th>2</th>\n",
       "      <td>52</td>\n",
       "      <td>190.0</td>\n",
       "      <td>177</td>\n",
       "      <td>7.2574</td>\n",
       "      <td>352100.0</td>\n",
       "    </tr>\n",
       "  </tbody>\n",
       "</table>\n",
       "</div>"
      ],
      "text/plain": [
       "   housing_median_age  total_bedrooms  households  median_income   \n",
       "0                  41           129.0         126         8.3252  \\\n",
       "1                  21          1106.0        1138         8.3014   \n",
       "2                  52           190.0         177         7.2574   \n",
       "\n",
       "   median_house_value  \n",
       "0            452600.0  \n",
       "1            358500.0  \n",
       "2            352100.0  "
      ]
     },
     "execution_count": 37,
     "metadata": {},
     "output_type": "execute_result"
    }
   ],
   "source": [
    "# Loading csv file 'calif_housing_data.csv'\n",
    "calif_housing_df = pd.read_csv('calif_housing_data.csv')\n",
    "\n",
    "# Creating copy to work off of\n",
    "calif_housing_copy = calif_housing_df.copy()\n",
    "calif_housing_copy.head(3)"
   ]
  },
  {
   "cell_type": "markdown",
   "id": "2feb33d3-1ad5-4dce-a569-ac2c61092655",
   "metadata": {},
   "source": [
    "### (a) How many rows does this data set have?"
   ]
  },
  {
   "cell_type": "code",
   "execution_count": 38,
   "id": "a8c58d7f-f5e9-40e5-8ed9-7d8283abef79",
   "metadata": {},
   "outputs": [
    {
     "data": {
      "text/plain": [
       "20640"
      ]
     },
     "execution_count": 38,
     "metadata": {},
     "output_type": "execute_result"
    }
   ],
   "source": [
    "# Finding the number of rows via shape\n",
    "\n",
    "rows = calif_housing_copy.shape[0]\n",
    "rows"
   ]
  },
  {
   "cell_type": "markdown",
   "id": "cef5327d-6423-4ef7-859d-48b6a876c8d8",
   "metadata": {},
   "source": [
    "#### (b)  What is the target vector for your model?"
   ]
  },
  {
   "cell_type": "markdown",
   "id": "69fb8f64-5835-4476-8b08-d9e88da1e673",
   "metadata": {},
   "source": [
    "**Response**: <br> Since we are building a model to predict the median house value per instructions, the target vector in this scenario is the 'median_house_value' column"
   ]
  },
  {
   "cell_type": "code",
   "execution_count": 40,
   "id": "5b56559d-f866-4122-8492-565471cddd41",
   "metadata": {
    "tags": []
   },
   "outputs": [],
   "source": [
    "# Setting the target vector\n",
    "target_vector = calif_housing_copy['median_house_value']"
   ]
  },
  {
   "cell_type": "markdown",
   "id": "489db09f-c960-41ea-8d4d-97ec4e6176ef",
   "metadata": {},
   "source": [
    "#### (c) Create a new feature by taking the total bedrooms divided by the number of households. What does this new feature represent?"
   ]
  },
  {
   "cell_type": "code",
   "execution_count": 41,
   "id": "1853d400-1fdf-4c9b-81ea-d08e21a63a9e",
   "metadata": {
    "tags": []
   },
   "outputs": [
    {
     "data": {
      "text/html": [
       "<div>\n",
       "<style scoped>\n",
       "    .dataframe tbody tr th:only-of-type {\n",
       "        vertical-align: middle;\n",
       "    }\n",
       "\n",
       "    .dataframe tbody tr th {\n",
       "        vertical-align: top;\n",
       "    }\n",
       "\n",
       "    .dataframe thead th {\n",
       "        text-align: right;\n",
       "    }\n",
       "</style>\n",
       "<table border=\"1\" class=\"dataframe\">\n",
       "  <thead>\n",
       "    <tr style=\"text-align: right;\">\n",
       "      <th></th>\n",
       "      <th>housing_median_age</th>\n",
       "      <th>total_bedrooms</th>\n",
       "      <th>households</th>\n",
       "      <th>median_income</th>\n",
       "      <th>median_house_value</th>\n",
       "      <th>avg_bed_per_household</th>\n",
       "    </tr>\n",
       "  </thead>\n",
       "  <tbody>\n",
       "    <tr>\n",
       "      <th>0</th>\n",
       "      <td>41</td>\n",
       "      <td>129.0</td>\n",
       "      <td>126</td>\n",
       "      <td>8.3252</td>\n",
       "      <td>452600.0</td>\n",
       "      <td>1.023810</td>\n",
       "    </tr>\n",
       "    <tr>\n",
       "      <th>1</th>\n",
       "      <td>21</td>\n",
       "      <td>1106.0</td>\n",
       "      <td>1138</td>\n",
       "      <td>8.3014</td>\n",
       "      <td>358500.0</td>\n",
       "      <td>0.971880</td>\n",
       "    </tr>\n",
       "    <tr>\n",
       "      <th>2</th>\n",
       "      <td>52</td>\n",
       "      <td>190.0</td>\n",
       "      <td>177</td>\n",
       "      <td>7.2574</td>\n",
       "      <td>352100.0</td>\n",
       "      <td>1.073446</td>\n",
       "    </tr>\n",
       "  </tbody>\n",
       "</table>\n",
       "</div>"
      ],
      "text/plain": [
       "   housing_median_age  total_bedrooms  households  median_income   \n",
       "0                  41           129.0         126         8.3252  \\\n",
       "1                  21          1106.0        1138         8.3014   \n",
       "2                  52           190.0         177         7.2574   \n",
       "\n",
       "   median_house_value  avg_bed_per_household  \n",
       "0            452600.0               1.023810  \n",
       "1            358500.0               0.971880  \n",
       "2            352100.0               1.073446  "
      ]
     },
     "execution_count": 41,
     "metadata": {},
     "output_type": "execute_result"
    }
   ],
   "source": [
    "# Creating a new feature per instructions\n",
    "calif_housing_copy['avg_bed_per_household'] = calif_housing_copy['total_bedrooms'] / calif_housing_copy['households']\n",
    "calif_housing_copy.head(3)"
   ]
  },
  {
   "cell_type": "markdown",
   "id": "d09f9e86-77cd-4fdd-be76-5b54fec5981b",
   "metadata": {},
   "source": [
    "**Response**: <br> \n",
    "The new feature represents average bedrooms per household."
   ]
  },
  {
   "cell_type": "markdown",
   "id": "075b0146-1994-46a7-8c97-28ace0ee5c14",
   "metadata": {},
   "source": [
    "#### (d) Create a new data frame that has three features: the median age, median income, and the new feature created in part c"
   ]
  },
  {
   "cell_type": "code",
   "execution_count": 50,
   "id": "c5149ec2-12ce-40b6-9b76-3e639d83d1e6",
   "metadata": {
    "tags": []
   },
   "outputs": [
    {
     "data": {
      "text/html": [
       "<div>\n",
       "<style scoped>\n",
       "    .dataframe tbody tr th:only-of-type {\n",
       "        vertical-align: middle;\n",
       "    }\n",
       "\n",
       "    .dataframe tbody tr th {\n",
       "        vertical-align: top;\n",
       "    }\n",
       "\n",
       "    .dataframe thead th {\n",
       "        text-align: right;\n",
       "    }\n",
       "</style>\n",
       "<table border=\"1\" class=\"dataframe\">\n",
       "  <thead>\n",
       "    <tr style=\"text-align: right;\">\n",
       "      <th></th>\n",
       "      <th>housing_median_age</th>\n",
       "      <th>median_income</th>\n",
       "      <th>avg_bed_per_household</th>\n",
       "    </tr>\n",
       "  </thead>\n",
       "  <tbody>\n",
       "    <tr>\n",
       "      <th>0</th>\n",
       "      <td>41</td>\n",
       "      <td>8.3252</td>\n",
       "      <td>1.023810</td>\n",
       "    </tr>\n",
       "    <tr>\n",
       "      <th>1</th>\n",
       "      <td>21</td>\n",
       "      <td>8.3014</td>\n",
       "      <td>0.971880</td>\n",
       "    </tr>\n",
       "    <tr>\n",
       "      <th>2</th>\n",
       "      <td>52</td>\n",
       "      <td>7.2574</td>\n",
       "      <td>1.073446</td>\n",
       "    </tr>\n",
       "  </tbody>\n",
       "</table>\n",
       "</div>"
      ],
      "text/plain": [
       "   housing_median_age  median_income  avg_bed_per_household\n",
       "0                  41         8.3252               1.023810\n",
       "1                  21         8.3014               0.971880\n",
       "2                  52         7.2574               1.073446"
      ]
     },
     "execution_count": 50,
     "metadata": {},
     "output_type": "execute_result"
    }
   ],
   "source": [
    "# Creating a new df with specified features\n",
    "three_features_df = calif_housing_copy[['housing_median_age', 'median_income', 'avg_bed_per_household']]\n",
    "three_features_df.head(3)"
   ]
  },
  {
   "cell_type": "markdown",
   "id": "580c3288-35e8-47ab-811a-5dac6fb70be4",
   "metadata": {},
   "source": [
    "#### (e) Take the data frame created in part d and apply data standardization to the features"
   ]
  },
  {
   "cell_type": "code",
   "execution_count": 53,
   "id": "ba5bce9b-f42a-42aa-bbcd-18a5175262fb",
   "metadata": {
    "tags": []
   },
   "outputs": [],
   "source": [
    "# Creating copies of three_features_df to apply data standardization\n",
    "\n",
    "three_features_copy1 = three_features_df.copy() # 1st Attempt\n",
    "three_features_copy2 = three_features_df.copy() # 2nd Attempt"
   ]
  },
  {
   "cell_type": "code",
   "execution_count": 54,
   "id": "d23335ef-80bf-4cfb-8199-0857799fa6d8",
   "metadata": {
    "tags": []
   },
   "outputs": [
    {
     "data": {
      "text/html": [
       "<div>\n",
       "<style scoped>\n",
       "    .dataframe tbody tr th:only-of-type {\n",
       "        vertical-align: middle;\n",
       "    }\n",
       "\n",
       "    .dataframe tbody tr th {\n",
       "        vertical-align: top;\n",
       "    }\n",
       "\n",
       "    .dataframe thead th {\n",
       "        text-align: right;\n",
       "    }\n",
       "</style>\n",
       "<table border=\"1\" class=\"dataframe\">\n",
       "  <thead>\n",
       "    <tr style=\"text-align: right;\">\n",
       "      <th></th>\n",
       "      <th>housing_median_age</th>\n",
       "      <th>median_income</th>\n",
       "      <th>avg_bed_per_household</th>\n",
       "    </tr>\n",
       "  </thead>\n",
       "  <tbody>\n",
       "    <tr>\n",
       "      <th>0</th>\n",
       "      <td>0.982143</td>\n",
       "      <td>2.344766</td>\n",
       "      <td>NaN</td>\n",
       "    </tr>\n",
       "    <tr>\n",
       "      <th>1</th>\n",
       "      <td>-0.607019</td>\n",
       "      <td>2.332238</td>\n",
       "      <td>NaN</td>\n",
       "    </tr>\n",
       "    <tr>\n",
       "      <th>2</th>\n",
       "      <td>1.856182</td>\n",
       "      <td>1.782699</td>\n",
       "      <td>NaN</td>\n",
       "    </tr>\n",
       "  </tbody>\n",
       "</table>\n",
       "</div>"
      ],
      "text/plain": [
       "   housing_median_age  median_income  avg_bed_per_household\n",
       "0            0.982143       2.344766                    NaN\n",
       "1           -0.607019       2.332238                    NaN\n",
       "2            1.856182       1.782699                    NaN"
      ]
     },
     "execution_count": 54,
     "metadata": {},
     "output_type": "execute_result"
    }
   ],
   "source": [
    "\"\"\"\n",
    "Code Description:\n",
    "- 1st attempt at standardizing features\n",
    "\n",
    "Code Breakdown:\n",
    "- 1st Part: Looping over columns in three_features_copy1 and applying standardization procedure via 'data_standardization'\n",
    "- 2nd Part: Printing standardized output\n",
    "\"\"\"\n",
    "\n",
    "# 1st Part:\n",
    "for column in three_features_copy1.columns:\n",
    "    three_features_copy1[column] = data_standardization(three_features_copy1[column])\n",
    "\n",
    "# 2nd Part: \n",
    "three_features_copy1.head(3)"
   ]
  },
  {
   "cell_type": "code",
   "execution_count": 56,
   "id": "8c1b5a8c-8157-407e-8593-012c9e1a2395",
   "metadata": {
    "tags": []
   },
   "outputs": [
    {
     "data": {
      "text/plain": [
       "housing_median_age         0\n",
       "median_income              0\n",
       "avg_bed_per_household    207\n",
       "dtype: int64"
      ]
     },
     "execution_count": 56,
     "metadata": {},
     "output_type": "execute_result"
    }
   ],
   "source": [
    "\"\"\"\n",
    "1st Attempt Notes:\n",
    "- Noticed 'NaN' in 'avg_bed_per_household' column\n",
    "- Checking to see if there are any null values in the original df\n",
    "- Output: 207 null values in 'avg_bed_per_household'\n",
    "\"\"\"\n",
    "\n",
    "three_features_df.isnull().sum()"
   ]
  },
  {
   "cell_type": "code",
   "execution_count": 57,
   "id": "cca104d6-019c-41f9-977b-ec2cab62c554",
   "metadata": {
    "tags": []
   },
   "outputs": [
    {
     "data": {
      "text/html": [
       "<div>\n",
       "<style scoped>\n",
       "    .dataframe tbody tr th:only-of-type {\n",
       "        vertical-align: middle;\n",
       "    }\n",
       "\n",
       "    .dataframe tbody tr th {\n",
       "        vertical-align: top;\n",
       "    }\n",
       "\n",
       "    .dataframe thead th {\n",
       "        text-align: right;\n",
       "    }\n",
       "</style>\n",
       "<table border=\"1\" class=\"dataframe\">\n",
       "  <thead>\n",
       "    <tr style=\"text-align: right;\">\n",
       "      <th></th>\n",
       "      <th>housing_median_age</th>\n",
       "      <th>median_income</th>\n",
       "      <th>avg_bed_per_household</th>\n",
       "    </tr>\n",
       "  </thead>\n",
       "  <tbody>\n",
       "    <tr>\n",
       "      <th>0</th>\n",
       "      <td>0.982143</td>\n",
       "      <td>2.344766</td>\n",
       "      <td>-0.154640</td>\n",
       "    </tr>\n",
       "    <tr>\n",
       "      <th>1</th>\n",
       "      <td>-0.607019</td>\n",
       "      <td>2.332238</td>\n",
       "      <td>-0.264265</td>\n",
       "    </tr>\n",
       "    <tr>\n",
       "      <th>2</th>\n",
       "      <td>1.856182</td>\n",
       "      <td>1.782699</td>\n",
       "      <td>-0.049855</td>\n",
       "    </tr>\n",
       "  </tbody>\n",
       "</table>\n",
       "</div>"
      ],
      "text/plain": [
       "   housing_median_age  median_income  avg_bed_per_household\n",
       "0            0.982143       2.344766              -0.154640\n",
       "1           -0.607019       2.332238              -0.264265\n",
       "2            1.856182       1.782699              -0.049855"
      ]
     },
     "execution_count": 57,
     "metadata": {},
     "output_type": "execute_result"
    }
   ],
   "source": [
    "\"\"\"\n",
    "Code Description:\n",
    "- 2nd attempt at standardizing features\n",
    "- Found missing values in 'avg_bed_per_household' column\n",
    "- Replace null values with the mean of the column\n",
    "- Then, re-apply data standardization\n",
    "\n",
    "Code Breakdown:\n",
    "- 1st Part: Calculating the mean of 'avg_bed_per_household'\n",
    "- 2nd Part: Filling missing values with the calculated mean\n",
    "- 3rd Part: Looping over columns in three_features_copy2 and applying standardization procedure via 'data_standardization'\n",
    "- 4th Part: Printing standardized output\n",
    "\"\"\"\n",
    "\n",
    "# 1st Part:\n",
    "avg_bed_mean = three_features_copy2['avg_bed_per_household'].mean()\n",
    "\n",
    "# 2nd Part:\n",
    "three_features_copy2['avg_bed_per_household'].fillna(avg_bed_mean, inplace=True)\n",
    "\n",
    "# 3rd Part:\n",
    "for column in three_features_copy2.columns:\n",
    "    three_features_copy2[column] = data_standardization(three_features_copy2[column])\n",
    "\n",
    "# 4th Part: \n",
    "three_features_copy2.head(3)"
   ]
  }
 ],
 "metadata": {
  "kernelspec": {
   "display_name": "Python 3 (ipykernel)",
   "language": "python",
   "name": "python3"
  },
  "language_info": {
   "codemirror_mode": {
    "name": "ipython",
    "version": 3
   },
   "file_extension": ".py",
   "mimetype": "text/x-python",
   "name": "python",
   "nbconvert_exporter": "python",
   "pygments_lexer": "ipython3",
   "version": "3.10.10"
  }
 },
 "nbformat": 4,
 "nbformat_minor": 5
}
