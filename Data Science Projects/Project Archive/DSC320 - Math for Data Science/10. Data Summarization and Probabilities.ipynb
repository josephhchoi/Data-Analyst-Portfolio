{
 "cells": [
  {
   "cell_type": "markdown",
   "id": "cbbf9532-a1a9-417e-92a2-307c0c49121f",
   "metadata": {},
   "source": [
    "# DSC320: Data Summarization and Probabilities"
   ]
  },
  {
   "cell_type": "markdown",
   "id": "22ac3586-ba4a-4902-b28c-5da78cefb1de",
   "metadata": {},
   "source": [
    "**Name**: Joseph Choi <br>\n",
    "**Class**: DSC410-T301 Predictive Analytics (2243-1)"
   ]
  },
  {
   "cell_type": "code",
   "execution_count": 5,
   "id": "e7e6f97d-542b-4fed-acc7-6d5091db15e2",
   "metadata": {
    "tags": []
   },
   "outputs": [],
   "source": [
    "# Setup\n",
    "import pandas as pd\n",
    "import numpy as np\n",
    "import matplotlib.pyplot as plt"
   ]
  },
  {
   "cell_type": "markdown",
   "id": "9279d80f-d041-4b19-b0de-20bb8a675910",
   "metadata": {},
   "source": [
    "## 1. Summarizing Data:"
   ]
  },
  {
   "cell_type": "code",
   "execution_count": 2,
   "id": "b7bde813-8d75-4b4f-989d-6715de609a03",
   "metadata": {
    "tags": []
   },
   "outputs": [
    {
     "data": {
      "text/html": [
       "<div>\n",
       "<style scoped>\n",
       "    .dataframe tbody tr th:only-of-type {\n",
       "        vertical-align: middle;\n",
       "    }\n",
       "\n",
       "    .dataframe tbody tr th {\n",
       "        vertical-align: top;\n",
       "    }\n",
       "\n",
       "    .dataframe thead th {\n",
       "        text-align: right;\n",
       "    }\n",
       "</style>\n",
       "<table border=\"1\" class=\"dataframe\">\n",
       "  <thead>\n",
       "    <tr style=\"text-align: right;\">\n",
       "      <th></th>\n",
       "      <th>0</th>\n",
       "      <th>1</th>\n",
       "      <th>2</th>\n",
       "      <th>3</th>\n",
       "      <th>4</th>\n",
       "    </tr>\n",
       "  </thead>\n",
       "  <tbody>\n",
       "    <tr>\n",
       "      <th>name</th>\n",
       "      <td>Ryan Tannehill</td>\n",
       "      <td>Drew Brees</td>\n",
       "      <td>Lamar Jackson</td>\n",
       "      <td>Kirk Cousins</td>\n",
       "      <td>Russell Wilson</td>\n",
       "    </tr>\n",
       "    <tr>\n",
       "      <th>team</th>\n",
       "      <td>TEN</td>\n",
       "      <td>NO</td>\n",
       "      <td>BAL</td>\n",
       "      <td>MIN</td>\n",
       "      <td>SEA</td>\n",
       "    </tr>\n",
       "    <tr>\n",
       "      <th>games</th>\n",
       "      <td>12.0</td>\n",
       "      <td>11.0</td>\n",
       "      <td>15.0</td>\n",
       "      <td>15.0</td>\n",
       "      <td>16.0</td>\n",
       "    </tr>\n",
       "    <tr>\n",
       "      <th>att</th>\n",
       "      <td>286.0</td>\n",
       "      <td>378.0</td>\n",
       "      <td>401.0</td>\n",
       "      <td>444.0</td>\n",
       "      <td>516.0</td>\n",
       "    </tr>\n",
       "    <tr>\n",
       "      <th>cmp</th>\n",
       "      <td>201.0</td>\n",
       "      <td>281.0</td>\n",
       "      <td>265.0</td>\n",
       "      <td>307.0</td>\n",
       "      <td>341.0</td>\n",
       "    </tr>\n",
       "    <tr>\n",
       "      <th>comp_pct</th>\n",
       "      <td>70.3</td>\n",
       "      <td>74.3</td>\n",
       "      <td>66.1</td>\n",
       "      <td>69.1</td>\n",
       "      <td>66.1</td>\n",
       "    </tr>\n",
       "    <tr>\n",
       "      <th>yds</th>\n",
       "      <td>2742.0</td>\n",
       "      <td>2979.0</td>\n",
       "      <td>3127.0</td>\n",
       "      <td>3603.0</td>\n",
       "      <td>4110.0</td>\n",
       "    </tr>\n",
       "    <tr>\n",
       "      <th>ypa</th>\n",
       "      <td>9.6</td>\n",
       "      <td>7.9</td>\n",
       "      <td>7.8</td>\n",
       "      <td>8.1</td>\n",
       "      <td>8.0</td>\n",
       "    </tr>\n",
       "    <tr>\n",
       "      <th>td</th>\n",
       "      <td>22.0</td>\n",
       "      <td>27.0</td>\n",
       "      <td>36.0</td>\n",
       "      <td>26.0</td>\n",
       "      <td>31.0</td>\n",
       "    </tr>\n",
       "    <tr>\n",
       "      <th>int</th>\n",
       "      <td>6.0</td>\n",
       "      <td>4.0</td>\n",
       "      <td>6.0</td>\n",
       "      <td>6.0</td>\n",
       "      <td>5.0</td>\n",
       "    </tr>\n",
       "    <tr>\n",
       "      <th>sack</th>\n",
       "      <td>31.0</td>\n",
       "      <td>12.0</td>\n",
       "      <td>23.0</td>\n",
       "      <td>28.0</td>\n",
       "      <td>48.0</td>\n",
       "    </tr>\n",
       "    <tr>\n",
       "      <th>loss</th>\n",
       "      <td>212.0</td>\n",
       "      <td>89.0</td>\n",
       "      <td>106.0</td>\n",
       "      <td>206.0</td>\n",
       "      <td>319.0</td>\n",
       "    </tr>\n",
       "    <tr>\n",
       "      <th>rating</th>\n",
       "      <td>117.5</td>\n",
       "      <td>116.3</td>\n",
       "      <td>113.3</td>\n",
       "      <td>107.4</td>\n",
       "      <td>106.3</td>\n",
       "    </tr>\n",
       "  </tbody>\n",
       "</table>\n",
       "</div>"
      ],
      "text/plain": [
       "                       0           1              2             3   \n",
       "name      Ryan Tannehill  Drew Brees  Lamar Jackson  Kirk Cousins  \\\n",
       "team                 TEN          NO            BAL           MIN   \n",
       "games               12.0        11.0           15.0          15.0   \n",
       "att                286.0       378.0          401.0         444.0   \n",
       "cmp                201.0       281.0          265.0         307.0   \n",
       "comp_pct            70.3        74.3           66.1          69.1   \n",
       "yds               2742.0      2979.0         3127.0        3603.0   \n",
       "ypa                  9.6         7.9            7.8           8.1   \n",
       "td                  22.0        27.0           36.0          26.0   \n",
       "int                  6.0         4.0            6.0           6.0   \n",
       "sack                31.0        12.0           23.0          28.0   \n",
       "loss               212.0        89.0          106.0         206.0   \n",
       "rating             117.5       116.3          113.3         107.4   \n",
       "\n",
       "                       4  \n",
       "name      Russell Wilson  \n",
       "team                 SEA  \n",
       "games               16.0  \n",
       "att                516.0  \n",
       "cmp                341.0  \n",
       "comp_pct            66.1  \n",
       "yds               4110.0  \n",
       "ypa                  8.0  \n",
       "td                  31.0  \n",
       "int                  5.0  \n",
       "sack                48.0  \n",
       "loss               319.0  \n",
       "rating             106.3  "
      ]
     },
     "execution_count": 2,
     "metadata": {},
     "output_type": "execute_result"
    }
   ],
   "source": [
    "# Loading qb_stats dataset and displaying results:\n",
    "\n",
    "qb_stats_dataset = pd.read_csv('qb_stats.csv')\n",
    "qb_stats_dataset.head().T"
   ]
  },
  {
   "cell_type": "markdown",
   "id": "3672c03b-89cc-49c9-ae3f-5f57af980c72",
   "metadata": {},
   "source": [
    "### (a) Find the mean of each numerical column of data\n",
    "### (b) Find the standard deviation of each numerical column of data"
   ]
  },
  {
   "cell_type": "code",
   "execution_count": 4,
   "id": "d7a67597-6c7f-4c33-b560-caab92429fa8",
   "metadata": {
    "tags": []
   },
   "outputs": [
    {
     "data": {
      "text/html": [
       "<div>\n",
       "<style scoped>\n",
       "    .dataframe tbody tr th:only-of-type {\n",
       "        vertical-align: middle;\n",
       "    }\n",
       "\n",
       "    .dataframe tbody tr th {\n",
       "        vertical-align: top;\n",
       "    }\n",
       "\n",
       "    .dataframe thead th {\n",
       "        text-align: right;\n",
       "    }\n",
       "</style>\n",
       "<table border=\"1\" class=\"dataframe\">\n",
       "  <thead>\n",
       "    <tr style=\"text-align: right;\">\n",
       "      <th></th>\n",
       "      <th>games</th>\n",
       "      <th>att</th>\n",
       "      <th>cmp</th>\n",
       "      <th>comp_pct</th>\n",
       "      <th>yds</th>\n",
       "      <th>ypa</th>\n",
       "      <th>td</th>\n",
       "      <th>int</th>\n",
       "      <th>sack</th>\n",
       "      <th>loss</th>\n",
       "      <th>rating</th>\n",
       "    </tr>\n",
       "  </thead>\n",
       "  <tbody>\n",
       "    <tr>\n",
       "      <th>count</th>\n",
       "      <td>32.000000</td>\n",
       "      <td>32.000000</td>\n",
       "      <td>32.000000</td>\n",
       "      <td>32.000000</td>\n",
       "      <td>32.000000</td>\n",
       "      <td>32.000000</td>\n",
       "      <td>32.000000</td>\n",
       "      <td>32.000000</td>\n",
       "      <td>32.000000</td>\n",
       "      <td>32.000000</td>\n",
       "      <td>32.000000</td>\n",
       "    </tr>\n",
       "    <tr>\n",
       "      <th>mean</th>\n",
       "      <td>14.125000</td>\n",
       "      <td>478.406250</td>\n",
       "      <td>306.562500</td>\n",
       "      <td>64.296875</td>\n",
       "      <td>3515.062500</td>\n",
       "      <td>7.375000</td>\n",
       "      <td>22.375000</td>\n",
       "      <td>10.343750</td>\n",
       "      <td>32.312500</td>\n",
       "      <td>217.093750</td>\n",
       "      <td>93.387500</td>\n",
       "    </tr>\n",
       "    <tr>\n",
       "      <th>std</th>\n",
       "      <td>2.406309</td>\n",
       "      <td>110.360366</td>\n",
       "      <td>68.929575</td>\n",
       "      <td>3.627537</td>\n",
       "      <td>852.437489</td>\n",
       "      <td>0.796768</td>\n",
       "      <td>6.256609</td>\n",
       "      <td>5.839849</td>\n",
       "      <td>10.514008</td>\n",
       "      <td>70.786075</td>\n",
       "      <td>11.054725</td>\n",
       "    </tr>\n",
       "    <tr>\n",
       "      <th>min</th>\n",
       "      <td>8.000000</td>\n",
       "      <td>247.000000</td>\n",
       "      <td>160.000000</td>\n",
       "      <td>58.800000</td>\n",
       "      <td>1707.000000</td>\n",
       "      <td>6.100000</td>\n",
       "      <td>6.000000</td>\n",
       "      <td>4.000000</td>\n",
       "      <td>12.000000</td>\n",
       "      <td>89.000000</td>\n",
       "      <td>78.300000</td>\n",
       "    </tr>\n",
       "    <tr>\n",
       "      <th>25%</th>\n",
       "      <td>13.000000</td>\n",
       "      <td>443.250000</td>\n",
       "      <td>272.750000</td>\n",
       "      <td>61.900000</td>\n",
       "      <td>3026.250000</td>\n",
       "      <td>6.775000</td>\n",
       "      <td>19.000000</td>\n",
       "      <td>6.000000</td>\n",
       "      <td>25.250000</td>\n",
       "      <td>167.250000</td>\n",
       "      <td>85.250000</td>\n",
       "    </tr>\n",
       "    <tr>\n",
       "      <th>50%</th>\n",
       "      <td>15.000000</td>\n",
       "      <td>492.000000</td>\n",
       "      <td>315.500000</td>\n",
       "      <td>64.100000</td>\n",
       "      <td>3566.000000</td>\n",
       "      <td>7.100000</td>\n",
       "      <td>22.000000</td>\n",
       "      <td>9.000000</td>\n",
       "      <td>33.500000</td>\n",
       "      <td>212.000000</td>\n",
       "      <td>89.850000</td>\n",
       "    </tr>\n",
       "    <tr>\n",
       "      <th>75%</th>\n",
       "      <td>16.000000</td>\n",
       "      <td>548.750000</td>\n",
       "      <td>355.000000</td>\n",
       "      <td>66.100000</td>\n",
       "      <td>4042.750000</td>\n",
       "      <td>7.925000</td>\n",
       "      <td>26.000000</td>\n",
       "      <td>13.000000</td>\n",
       "      <td>38.500000</td>\n",
       "      <td>263.250000</td>\n",
       "      <td>101.100000</td>\n",
       "    </tr>\n",
       "    <tr>\n",
       "      <th>max</th>\n",
       "      <td>16.000000</td>\n",
       "      <td>626.000000</td>\n",
       "      <td>408.000000</td>\n",
       "      <td>74.300000</td>\n",
       "      <td>5109.000000</td>\n",
       "      <td>9.600000</td>\n",
       "      <td>36.000000</td>\n",
       "      <td>30.000000</td>\n",
       "      <td>48.000000</td>\n",
       "      <td>397.000000</td>\n",
       "      <td>117.500000</td>\n",
       "    </tr>\n",
       "  </tbody>\n",
       "</table>\n",
       "</div>"
      ],
      "text/plain": [
       "           games         att         cmp   comp_pct          yds        ypa   \n",
       "count  32.000000   32.000000   32.000000  32.000000    32.000000  32.000000  \\\n",
       "mean   14.125000  478.406250  306.562500  64.296875  3515.062500   7.375000   \n",
       "std     2.406309  110.360366   68.929575   3.627537   852.437489   0.796768   \n",
       "min     8.000000  247.000000  160.000000  58.800000  1707.000000   6.100000   \n",
       "25%    13.000000  443.250000  272.750000  61.900000  3026.250000   6.775000   \n",
       "50%    15.000000  492.000000  315.500000  64.100000  3566.000000   7.100000   \n",
       "75%    16.000000  548.750000  355.000000  66.100000  4042.750000   7.925000   \n",
       "max    16.000000  626.000000  408.000000  74.300000  5109.000000   9.600000   \n",
       "\n",
       "              td        int       sack        loss      rating  \n",
       "count  32.000000  32.000000  32.000000   32.000000   32.000000  \n",
       "mean   22.375000  10.343750  32.312500  217.093750   93.387500  \n",
       "std     6.256609   5.839849  10.514008   70.786075   11.054725  \n",
       "min     6.000000   4.000000  12.000000   89.000000   78.300000  \n",
       "25%    19.000000   6.000000  25.250000  167.250000   85.250000  \n",
       "50%    22.000000   9.000000  33.500000  212.000000   89.850000  \n",
       "75%    26.000000  13.000000  38.500000  263.250000  101.100000  \n",
       "max    36.000000  30.000000  48.000000  397.000000  117.500000  "
      ]
     },
     "execution_count": 4,
     "metadata": {},
     "output_type": "execute_result"
    }
   ],
   "source": [
    "# Displaying summary for numerical features:\n",
    "    \n",
    "qb_numerical_summary = qb_stats_dataset.describe()\n",
    "qb_numerical_summary"
   ]
  },
  {
   "cell_type": "markdown",
   "id": "e06c276f-495c-4891-91aa-2ed76e4ed993",
   "metadata": {},
   "source": [
    "### (c) Create a histogram of the number of yards; label it appropriately"
   ]
  },
  {
   "cell_type": "code",
   "execution_count": 6,
   "id": "5c2d83af-e268-45bb-89fb-25a15880b99f",
   "metadata": {
    "tags": []
   },
   "outputs": [
    {
     "data": {
      "image/png": "[encoded data removed]",
      "text/plain": [
       "<Figure size 600x200 with 1 Axes>"
      ]
     },
     "metadata": {},
     "output_type": "display_data"
    }
   ],
   "source": [
    "# Histogram:\n",
    "\n",
    "plt.figure(figsize=(6, 2))\n",
    "plt.hist(qb_stats_dataset['yds'], bins=20, color='skyblue', edgecolor='black')\n",
    "plt.title('Histogram: Number of Yards')\n",
    "plt.xlabel('Number of Yards')\n",
    "plt.ylabel('Freq.')\n",
    "plt.grid(True)\n",
    "plt.show()"
   ]
  },
  {
   "cell_type": "markdown",
   "id": "293415f2-3c43-4a2b-8623-0c0902198384",
   "metadata": {},
   "source": [
    "### (d) Create a boxplot of the number of touchdowns. Identify any outliers"
   ]
  },
  {
   "cell_type": "code",
   "execution_count": 9,
   "id": "be1299fa-dfe4-49ff-9d97-5c7dd51d19d4",
   "metadata": {
    "tags": []
   },
   "outputs": [
    {
     "data": {
      "image/png": "[encoded data removed]",
      "text/plain": [
       "<Figure size 600x200 with 1 Axes>"
      ]
     },
     "metadata": {},
     "output_type": "display_data"
    }
   ],
   "source": [
    "# Boxplot: \n",
    "\n",
    "plt.figure(figsize=(6, 2))\n",
    "plt.boxplot(qb_stats_dataset['td'], vert=False)\n",
    "plt.title('Boxplot: Number of Touchdowns')\n",
    "plt.xlabel('Number of Touchdowns')\n",
    "plt.yticks([])\n",
    "plt.grid(True)\n",
    "plt.show()"
   ]
  },
  {
   "cell_type": "code",
   "execution_count": 11,
   "id": "7fe9d012-d281-434f-abae-c38533e40898",
   "metadata": {
    "tags": []
   },
   "outputs": [
    {
     "name": "stdout",
     "output_type": "stream",
     "text": [
      "Identified outliers:\n",
      "1     27.0\n",
      "2     36.0\n",
      "4     31.0\n",
      "7     27.0\n",
      "9     30.0\n",
      "12    27.0\n",
      "14    11.0\n",
      "18    18.0\n",
      "24     6.0\n",
      "26    33.0\n",
      "27    17.0\n",
      "28    13.0\n",
      "29    17.0\n",
      "31    16.0\n",
      "Name: td, dtype: float64\n"
     ]
    }
   ],
   "source": [
    "# Identify outliers:\n",
    "\n",
    "# Logic: Values below Q1 - 1.5 * IQR  OR  above Q3 + 1.5 * IQR are considered outliers.\n",
    "\n",
    "touchdowns = qb_stats_dataset['td']\n",
    "outliers = touchdowns[(touchdowns < touchdowns.quantile(0.25)) | (touchdowns > touchdowns.quantile(0.75))]\n",
    "if not outliers.empty:\n",
    "    print(\"Identified outliers:\")\n",
    "    print(outliers)"
   ]
  },
  {
   "cell_type": "markdown",
   "id": "5aa4243c-966c-46e2-9e59-307fd6b18ad1",
   "metadata": {},
   "source": [
    "## Calculating Probabilities from Data:"
   ]
  },
  {
   "cell_type": "code",
   "execution_count": 12,
   "id": "811d7d5b-2fc2-428a-a81d-1e3ae8d78713",
   "metadata": {
    "tags": []
   },
   "outputs": [
    {
     "data": {
      "text/html": [
       "<div>\n",
       "<style scoped>\n",
       "    .dataframe tbody tr th:only-of-type {\n",
       "        vertical-align: middle;\n",
       "    }\n",
       "\n",
       "    .dataframe tbody tr th {\n",
       "        vertical-align: top;\n",
       "    }\n",
       "\n",
       "    .dataframe thead th {\n",
       "        text-align: right;\n",
       "    }\n",
       "</style>\n",
       "<table border=\"1\" class=\"dataframe\">\n",
       "  <thead>\n",
       "    <tr style=\"text-align: right;\">\n",
       "      <th></th>\n",
       "      <th>0</th>\n",
       "      <th>1</th>\n",
       "      <th>2</th>\n",
       "      <th>3</th>\n",
       "      <th>4</th>\n",
       "    </tr>\n",
       "  </thead>\n",
       "  <tbody>\n",
       "    <tr>\n",
       "      <th>hair_color</th>\n",
       "      <td>brown</td>\n",
       "      <td>brown</td>\n",
       "      <td>brown</td>\n",
       "      <td>brown</td>\n",
       "      <td>brown</td>\n",
       "    </tr>\n",
       "    <tr>\n",
       "      <th>eye_color</th>\n",
       "      <td>brown</td>\n",
       "      <td>brown</td>\n",
       "      <td>blue</td>\n",
       "      <td>green</td>\n",
       "      <td>brown</td>\n",
       "    </tr>\n",
       "  </tbody>\n",
       "</table>\n",
       "</div>"
      ],
      "text/plain": [
       "                0      1      2      3      4\n",
       "hair_color  brown  brown  brown  brown  brown\n",
       "eye_color   brown  brown   blue  green  brown"
      ]
     },
     "execution_count": 12,
     "metadata": {},
     "output_type": "execute_result"
    }
   ],
   "source": [
    "# Loading survey_data dataset and displaying results:\n",
    "\n",
    "survey_data_dataset = pd.read_csv('survey_data.csv')\n",
    "survey_data_dataset.head().T"
   ]
  },
  {
   "cell_type": "markdown",
   "id": "ef1f9650-fdd3-4b1e-8139-021a88e470e9",
   "metadata": {},
   "source": [
    "### (a) Based off of this data, what is the probability a college student has brown hair?"
   ]
  },
  {
   "cell_type": "code",
   "execution_count": 15,
   "id": "73044ff3-a3df-4cf2-96f9-7ef32442ddbb",
   "metadata": {
    "tags": []
   },
   "outputs": [
    {
     "data": {
      "text/plain": [
       "0.5123456790123457"
      ]
     },
     "execution_count": 15,
     "metadata": {},
     "output_type": "execute_result"
    }
   ],
   "source": [
    "# Counting the total students via 'len()'\n",
    "total_students = len(survey_data_dataset)\n",
    "\n",
    "# Counting the total students with brown hair\n",
    "brown_hair_students = survey_data_dataset[survey_data_dataset['hair_color'] == 'brown']\n",
    "total_brown_hair_students = len(brown_hair_students)\n",
    "\n",
    "# Calculating the probability of students with brown hair\n",
    "probability_brown_hair_students = total_brown_hair_students / total_students\n",
    "\n",
    "# Printing results:\n",
    "probability_brown_hair_students"
   ]
  },
  {
   "cell_type": "markdown",
   "id": "e9f830c7-3d95-4eb1-bbb3-2db230a7e585",
   "metadata": {},
   "source": [
    "### (b) Based off of this data, what is the probability a college student has blue eyes? "
   ]
  },
  {
   "cell_type": "code",
   "execution_count": 16,
   "id": "2665c6b4-d4d7-4bfa-b71b-fb7e566e8c47",
   "metadata": {
    "tags": []
   },
   "outputs": [
    {
     "data": {
      "text/plain": [
       "0.24691358024691357"
      ]
     },
     "execution_count": 16,
     "metadata": {},
     "output_type": "execute_result"
    }
   ],
   "source": [
    "# Counting the total students with blue eyes\n",
    "blue_eye_students = survey_data_dataset[survey_data_dataset['eye_color'] == 'blue']\n",
    "total_blue_eye_students = len(blue_eye_students)\n",
    "\n",
    "# Calculating the probability of students having blue eyes\n",
    "probability_blue_eye_students = total_blue_eye_students / total_students\n",
    "\n",
    "# Printing results:\n",
    "probability_blue_eye_students"
   ]
  },
  {
   "cell_type": "markdown",
   "id": "6e222aaf-17fb-47a3-88db-cc2606d57973",
   "metadata": {},
   "source": [
    "### (c) Based off of this data, what is the probability a college student has blue eyes given that they have brown hair? "
   ]
  },
  {
   "cell_type": "code",
   "execution_count": 17,
   "id": "435e3011-b80f-4edb-a96b-b0e724d12376",
   "metadata": {
    "tags": []
   },
   "outputs": [
    {
     "data": {
      "text/plain": [
       "0.21686746987951808"
      ]
     },
     "execution_count": 17,
     "metadata": {},
     "output_type": "execute_result"
    }
   ],
   "source": [
    "\"\"\"\n",
    "Code Description:\n",
    "    - Interpreting this question as finding the proportion of students with blue eyes among those who already have brown hair\n",
    "\n",
    "Code Breakdown:\n",
    "    - Identify the students who have both brown hair and blue eyes \n",
    "    - Divide the number of students with both brown hair and blue eyes by the total number of students with brown hair\n",
    "\"\"\"\n",
    "\n",
    "# Counting the total students with brown hair and blue eyes\n",
    "brown_hair_blue_eye_students = survey_data_dataset[(survey_data_dataset['hair_color'] == 'brown') & (survey_data_dataset['eye_color'] == 'blue')]\n",
    "total_brown_hair_blue_eye_students = len(brown_hair_blue_eye_students)\n",
    "\n",
    "# Calculating the probability of students having blue eyes given that they have brown hair\n",
    "probability_blue_eyes_given_brown_hair_students = total_brown_hair_blue_eye_students / total_brown_hair_students\n",
    "\n",
    "# Printing results:\n",
    "probability_blue_eyes_given_brown_hair_students"
   ]
  },
  {
   "cell_type": "markdown",
   "id": "fe0f7685-9240-4e0e-b974-6a534a8b6995",
   "metadata": {},
   "source": [
    "### (d) Based off of this data, what is the probability a college student has brown hair given that they have blue eyes?"
   ]
  },
  {
   "cell_type": "code",
   "execution_count": 18,
   "id": "340a815b-99c4-4b64-8d2e-d9d4510c4625",
   "metadata": {
    "tags": []
   },
   "outputs": [
    {
     "data": {
      "text/plain": [
       "0.45"
      ]
     },
     "execution_count": 18,
     "metadata": {},
     "output_type": "execute_result"
    }
   ],
   "source": [
    "\"\"\"\n",
    "Code Description:\n",
    "    - Interpreting this question as finding the proportion of students with brown hair among those who already have blue eyes\n",
    "\n",
    "Code Breakdown:\n",
    "    - Identify the students who have both brown hair and blue eyes \n",
    "    - Divide the number of students with both brown hair and blue eyes by the total number of students with blue eyes\n",
    "\"\"\"\n",
    "\n",
    "# Calculating the probability of students having brown hair given that they have blue eyes\n",
    "probability_brown_hair_given_blue_eyes_students = total_brown_hair_blue_eye_students / total_blue_eye_students\n",
    "\n",
    "# Printing results:\n",
    "probability_brown_hair_given_blue_eyes_students"
   ]
  },
  {
   "cell_type": "markdown",
   "id": "6042234d-ab7c-45d2-98b4-02456cf37728",
   "metadata": {},
   "source": [
    "### (e) Do your results above indicate that college students having brown hair and blue eyes are independent of one another? Explain. "
   ]
  },
  {
   "cell_type": "markdown",
   "id": "5cd87cf0-5329-43f6-a2d2-e1255669428d",
   "metadata": {
    "tags": []
   },
   "source": [
    "The conditional probabilities computed are:\n",
    "- Probability of blue eyes given brown hair is 0.2169\n",
    "- Probability of blue eyes given brown hair is 0.45\n",
    "\n",
    "If these events were independent, then both probabilities would have been equal. Since they are different, we can label them as not independent of one another. "
   ]
  },
  {
   "cell_type": "markdown",
   "id": "cbb17bfe-fc49-4033-bb85-d016b70945b9",
   "metadata": {},
   "source": [
    "### (f) Create a bar graph of the hair color and eye color of this group of students. Label the graphs appropriately."
   ]
  },
  {
   "cell_type": "code",
   "execution_count": 22,
   "id": "82dd2a51-3b5d-4d14-bf61-4f81ef2218d9",
   "metadata": {
    "tags": []
   },
   "outputs": [],
   "source": [
    "# Counting values of each hair color\n",
    "hair_color_counts = survey_data_dataset['hair_color'].value_counts()\n",
    "\n",
    "# Counting values of each eye color\n",
    "eye_color_counts = survey_data_dataset['eye_color'].value_counts()"
   ]
  },
  {
   "cell_type": "code",
   "execution_count": 23,
   "id": "908e7f2b-31be-43f0-8f1e-dffc250c39a3",
   "metadata": {
    "tags": []
   },
   "outputs": [
    {
     "data": {
      "image/png": "[encoded data removed]",
      "text/plain": [
       "<Figure size 600x200 with 1 Axes>"
      ]
     },
     "metadata": {},
     "output_type": "display_data"
    }
   ],
   "source": [
    "# Hair color bar graph:\n",
    "\n",
    "plt.figure(figsize=(6, 2))\n",
    "plt.bar(hair_color_counts.index, hair_color_counts.values, color='skyblue')\n",
    "plt.title('Bar Graph: Hair Color')\n",
    "plt.xlabel('Hair Color')\n",
    "plt.ylabel('Freq.')\n",
    "plt.xticks(rotation=45)\n",
    "plt.grid(axis='y', linestyle='--', alpha=0.7)\n",
    "plt.tight_layout()\n",
    "plt.show()"
   ]
  },
  {
   "cell_type": "code",
   "execution_count": 24,
   "id": "1d8286ea-2ea1-4405-9fed-0d026cdce1b1",
   "metadata": {
    "tags": []
   },
   "outputs": [
    {
     "data": {
      "image/png": "[encoded data removed]",
      "text/plain": [
       "<Figure size 600x200 with 1 Axes>"
      ]
     },
     "metadata": {},
     "output_type": "display_data"
    }
   ],
   "source": [
    "# Eye color bar graph:\n",
    "\n",
    "plt.figure(figsize=(6, 2))\n",
    "plt.bar(eye_color_counts.index, eye_color_counts.values, color='lightcoral')\n",
    "plt.title('Bar Graph: Eye Color')\n",
    "plt.xlabel('Eye Color')\n",
    "plt.ylabel('Freq.')\n",
    "plt.xticks(rotation=45)\n",
    "plt.grid(axis='y', linestyle='--', alpha=0.7)\n",
    "plt.tight_layout()\n",
    "plt.show()"
   ]
  }
 ],
 "metadata": {
  "kernelspec": {
   "display_name": "Python 3 (ipykernel)",
   "language": "python",
   "name": "python3"
  },
  "language_info": {
   "codemirror_mode": {
    "name": "ipython",
    "version": 3
   },
   "file_extension": ".py",
   "mimetype": "text/x-python",
   "name": "python",
   "nbconvert_exporter": "python",
   "pygments_lexer": "ipython3",
   "version": "3.10.10"
  }
 },
 "nbformat": 4,
 "nbformat_minor": 5
}
