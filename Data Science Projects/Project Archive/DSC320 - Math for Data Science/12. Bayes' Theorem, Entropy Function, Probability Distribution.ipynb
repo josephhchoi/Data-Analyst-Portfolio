{
 "cells": [
  {
   "cell_type": "markdown",
   "id": "4ca27119-558e-4a98-80bf-a0daaf961de6",
   "metadata": {},
   "source": [
    "# DSC320: Bayes' Theorem, Entropy Function, Probability Distribution"
   ]
  },
  {
   "cell_type": "markdown",
   "id": "8afc1bfb-6fa0-4c14-8482-c073afbf7433",
   "metadata": {
    "tags": []
   },
   "source": [
    "**Name**: Joseph Choi <br>\n",
    "**Class**: DSC410-T301 Predictive Analytics (2243-1)"
   ]
  },
  {
   "cell_type": "code",
   "execution_count": null,
   "id": "ae2ba571-4cd6-40d3-8486-93b1b2bfe531",
   "metadata": {},
   "outputs": [],
   "source": [
    "# Setup\n"
   ]
  },
  {
   "cell_type": "markdown",
   "id": "2d5d245f-a0dc-466b-a4f2-14e5c7829604",
   "metadata": {},
   "source": [
    "## 1. Calculating Probabilities using Bayes’ Theorem \n",
    "A computer graphics card is manufactured using three different processes, A, B, and C. The following \n",
    "tree diagram gives the probability that a graphics card is manufactured with each process and the \n",
    "probability of defective and non-defective cards from each process.\n",
    "\n",
    "Use Bayes’ Theorem to calculate the following probabilities. These can be done by hand or in Python."
   ]
  },
  {
   "cell_type": "code",
   "execution_count": 1,
   "id": "368b7a1a-63f3-4251-b8c0-e4e81af4cdff",
   "metadata": {
    "tags": []
   },
   "outputs": [],
   "source": [
    "# In order per process:\n",
    "    # Probability of defective\n",
    "    # Probability of not defective\n",
    "    # Probability of process\n",
    "\n",
    "# Process A:\n",
    "P_Def_A = 0.03  \n",
    "P_NotDef_A = 0.97\n",
    "P_A = 0.5       \n",
    "\n",
    "# B:\n",
    "P_Def_B = 0.02  \n",
    "P_NotDef_B = 0.98\n",
    "P_B = 0.3       \n",
    "\n",
    "# C:\n",
    "P_Def_C = 0.04  \n",
    "P_NotDef_C = 0.96\n",
    "P_C = 0.2       "
   ]
  },
  {
   "cell_type": "markdown",
   "id": "2bf6fb15-5738-438a-bc62-1f3bcc1d26fc",
   "metadata": {},
   "source": [
    "### (a) If a randomly chosen graphics card is defective, what is the probability it was manufactured using Process A? "
   ]
  },
  {
   "cell_type": "code",
   "execution_count": 2,
   "id": "d7c40c93-ae60-4d24-8ce0-d66c7aa0155d",
   "metadata": {},
   "outputs": [
    {
     "data": {
      "text/plain": [
       "0.5172413793103449"
      ]
     },
     "execution_count": 2,
     "metadata": {},
     "output_type": "execute_result"
    }
   ],
   "source": [
    "\"\"\"\n",
    "Code Description:\n",
    "    - Equation (Bayes' Theorem) that will be used to calculate (a) output:\n",
    "        - (P_Def_A * P_A) / P_Def\n",
    "    - \"P_Def_A\": Probability that the card was manufactured by Process A that was defective\n",
    "    - \"P_A\": Probability that a card was manufactured by Process A\n",
    "    - \"P_Def\": Total probaiblity that a card is defective\n",
    "        - Calculating by defective probabilities from each process and adding them up\n",
    "\"\"\"\n",
    "\n",
    "# Calculating P_Def:\n",
    "P_Def = (P_Def_A * P_A) + (P_Def_B * P_B) + (P_Def_C * P_C)\n",
    "\n",
    "# Calculating P_A_Def (final output):\n",
    "P_A_Def = (P_Def_A * P_A) / P_Def\n",
    "\n",
    "# Printing output\n",
    "P_A_Def"
   ]
  },
  {
   "cell_type": "markdown",
   "id": "e2dbf7c2-8381-4561-a4de-f50f1f2fa63b",
   "metadata": {},
   "source": [
    "### (b) If a randomly chosen graphics card is not defective, what is the probability it was manufactured using Process C?"
   ]
  },
  {
   "cell_type": "code",
   "execution_count": 4,
   "id": "00c1a3c7-152e-4f3a-ae9b-b3b2a3073d4b",
   "metadata": {},
   "outputs": [
    {
     "data": {
      "text/plain": [
       "0.1977342945417096"
      ]
     },
     "execution_count": 4,
     "metadata": {},
     "output_type": "execute_result"
    }
   ],
   "source": [
    "\"\"\"\n",
    "Code Description:\n",
    "    - Equation (Bayes' Theorem) that will be used to calculate (b) output:\n",
    "        - (P_NotDef_C * P_C) / P_NotDef\n",
    "    - \"P_NotDef_C\": Probability that the card was manufactured by Process C and is not defective\n",
    "    - \"P_C\": Probability that a card was manufactured by Process C\n",
    "    - \"P_NotDef\": Total probability that a card is not defective\n",
    "        - Calculated by summing the products of the probabilities of non-defective cards from each process and their manufacturing probabilities\n",
    "\"\"\"\n",
    "\n",
    "# Calculating P_NotDef:\n",
    "P_NotDef = (P_NotDef_A * P_A) + (P_NotDef_B * P_B) + (P_NotDef_C * P_C)\n",
    "\n",
    "# Calculating P_C_NotDef (final output):\n",
    "P_C_NotDef = (P_NotDef_C * P_C) / P_NotDef\n",
    "\n",
    "# Printing output\n",
    "P_C_NotDef"
   ]
  },
  {
   "cell_type": "markdown",
   "id": "da350fb5-7996-405f-8526-a36200509335",
   "metadata": {},
   "source": [
    "## 2. Entropy Function for a Probability Distribution \n",
    "Create a Python function that takes in an array of probabilities p1,p2,...,pn, from a discrete prob\n",
    "ability distribution with n possible outcomes and returns the entropy of the corresponding random \n",
    "variable. Use the formula on p. 143 of Essential Math for Data Science to calculate the entropy. "
   ]
  },
  {
   "cell_type": "code",
   "execution_count": 13,
   "id": "d3be11ea-0503-4097-a08a-25d6b462aa45",
   "metadata": {
    "tags": []
   },
   "outputs": [],
   "source": [
    "# Setup\n",
    "\n",
    "import numpy as np"
   ]
  },
  {
   "cell_type": "code",
   "execution_count": 8,
   "id": "8584a87f-b2b1-4a7a-bc55-b7bfb57e4161",
   "metadata": {},
   "outputs": [],
   "source": [
    "\"\"\"\n",
    "Code Description:\n",
    "    - Formula from textbook (differential entropy):\n",
    "        - H(P) = - SUM ( p(x) log2p(x)dx )\n",
    "            - H(P): Differential entropy\n",
    "            - p(x): pdf (probability density function)\n",
    "            - log2p(x): log base 2 of probability density p(x)\n",
    "\"\"\"\n",
    "\n",
    "def text_entropy(P):\n",
    "    return -np.sum(P * np.log2(P))"
   ]
  },
  {
   "cell_type": "code",
   "execution_count": 11,
   "id": "c8f6585d-655b-4fcc-810f-d4570f0be1c8",
   "metadata": {
    "tags": []
   },
   "outputs": [],
   "source": [
    "\"\"\"\n",
    "Code Description:\n",
    "    - Defining function that: \n",
    "        - Part 1: Takes a list or numpy array of probabilities as input (p1, p2, ..., pn)\n",
    "        - Part 2: Validates that the input array represents a valid probability distribution (non-negative and sum to 1)\n",
    "        - Part 3: Computing the entropy using the Shannon entropy formula \n",
    "            - Ignoring probabilities that are zero as they do not contribute to the entropy\n",
    "\"\"\"\n",
    "\n",
    "def exercise_entropy(P):\n",
    "    \n",
    "    # Part 1: \n",
    "    P = np.asarray(P)\n",
    "    \n",
    "    # Part 2: \n",
    "    if not np.isclose(P.sum(), 1):\n",
    "        raise ValueError(\"The probabilities must sum to 1.\")\n",
    "    if (P < 0).any():\n",
    "        raise ValueError(\"Probabilities must be non-negative.\")\n",
    "    \n",
    "    # Part 3: \n",
    "    entropy = -np.sum(P * np.log2(P), where=(P > 0))\n",
    "    \n",
    "    return entropy"
   ]
  },
  {
   "cell_type": "code",
   "execution_count": 14,
   "id": "30cb6b64-04de-42ae-bf24-d0a1c50404f1",
   "metadata": {
    "tags": []
   },
   "outputs": [
    {
     "data": {
      "text/plain": [
       "1.4854752972273344"
      ]
     },
     "execution_count": 14,
     "metadata": {},
     "output_type": "execute_result"
    }
   ],
   "source": [
    "# Testing function:\n",
    "\n",
    "# Dummy array\n",
    "example = [0.2, 0.5, 0.3]\n",
    "\n",
    "# Executing function\n",
    "example = exercise_entropy(example)\n",
    "example"
   ]
  },
  {
   "cell_type": "markdown",
   "id": "acc3c773-0153-488d-87db-a489dd5ce065",
   "metadata": {},
   "source": [
    "## 3. Calculating Entropies of Probability Distributions \n",
    "Two random variables X and Y can take on the values 1, 2,..., 5 with the following probabilities."
   ]
  },
  {
   "cell_type": "markdown",
   "id": "f34b54b9-3ed6-4786-b5bb-0e1bbbc66449",
   "metadata": {},
   "source": [
    "### (a) Use the function you created in the previous problem to calculate the entropies of X and Y"
   ]
  },
  {
   "cell_type": "code",
   "execution_count": 16,
   "id": "0e27abb7-9b27-4e8e-a14c-6d6ec8d5a87a",
   "metadata": {
    "tags": []
   },
   "outputs": [],
   "source": [
    "# Probabilities for X and Y provided per exercise:\n",
    "\n",
    "P_X = [0.2, 0.2, 0.2, 0.2, 0.2]\n",
    "P_Y = [0.1, 0.4, 0.1, 0.3, 0.1]"
   ]
  },
  {
   "cell_type": "code",
   "execution_count": 17,
   "id": "ad3fc25a-f40a-49eb-ac50-3619bf0ff890",
   "metadata": {},
   "outputs": [
    {
     "data": {
      "text/plain": [
       "(2.321928094887362, 2.046439344671015)"
      ]
     },
     "execution_count": 17,
     "metadata": {},
     "output_type": "execute_result"
    }
   ],
   "source": [
    "# Calculating entropies using function \"exercise_entropy\"\n",
    "E_X = exercise_entropy(P_X)\n",
    "E_Y = exercise_entropy(P_Y)\n",
    "\n",
    "E_X, E_Y"
   ]
  },
  {
   "cell_type": "markdown",
   "id": "5ac90c69-ca8b-4bda-8c4f-074d11ad16d8",
   "metadata": {},
   "source": [
    "### (b) Compare the two values found in part (a). Which one is bigger? Explain intuitively why this is the case"
   ]
  },
  {
   "cell_type": "markdown",
   "id": "1e4df4bb-7b2b-4300-b33e-8d0f7a4434f7",
   "metadata": {},
   "source": [
    "#### Response:\n",
    "Entropy of X came out bigger than entropy of Y as the distribution of X is uniform (constant probability of 0.2 from x=1 to x=5). This trait maximizes uncertainty since there is no preference for any specific value. Distribution of Y is less uniform with staggered probabilities from y=1 to y=5. This reduces the uncertainty of Y's outcome. "
   ]
  }
 ],
 "metadata": {
  "kernelspec": {
   "display_name": "Python 3 (ipykernel)",
   "language": "python",
   "name": "python3"
  },
  "language_info": {
   "codemirror_mode": {
    "name": "ipython",
    "version": 3
   },
   "file_extension": ".py",
   "mimetype": "text/x-python",
   "name": "python",
   "nbconvert_exporter": "python",
   "pygments_lexer": "ipython3",
   "version": "3.10.10"
  }
 },
 "nbformat": 4,
 "nbformat_minor": 5
}
