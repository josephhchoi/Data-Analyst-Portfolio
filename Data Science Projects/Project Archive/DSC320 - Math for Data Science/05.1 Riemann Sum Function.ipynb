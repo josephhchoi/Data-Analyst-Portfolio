{
 "cells": [
  {
   "cell_type": "markdown",
   "id": "2b55f4f2-4a9b-4071-a3af-f5f51068e92a",
   "metadata": {},
   "source": [
    "# DSC320: Riemann Sum Function"
   ]
  },
  {
   "cell_type": "markdown",
   "id": "aed92c8c-473c-4611-b29d-a1140e5c9a08",
   "metadata": {},
   "source": [
    "**Name**: Joseph Choi <br>\n",
    "**Class**: DSC320-T301 Math for Data Science (2243-1)"
   ]
  },
  {
   "cell_type": "code",
   "execution_count": 29,
   "id": "1f7a680b-8b8c-46c8-81df-84b68c0e789a",
   "metadata": {
    "tags": []
   },
   "outputs": [],
   "source": [
    "# Setup\n",
    "import math"
   ]
  },
  {
   "cell_type": "markdown",
   "id": "9b11271a-6fe9-46a1-8c2a-6e359d1925fd",
   "metadata": {},
   "source": [
    "## Assignment 1: Riemann Sum Function"
   ]
  },
  {
   "cell_type": "code",
   "execution_count": 30,
   "id": "8cb7133c-8ba7-4aa1-87b7-db64178e153a",
   "metadata": {
    "tags": []
   },
   "outputs": [],
   "source": [
    "\"\"\"\n",
    "Code Description:\n",
    "    - Defining a function that calculates the right Riemann sum of a function f on the interval [a, b] with n rectangles\n",
    "    - 4 Parameters:\n",
    "        - f: Mathematical function to calculate the sum\n",
    "        - a: Left endpoint of the interval\n",
    "        - b: Right endpoint of the interval\n",
    "        - n: # of rectangles\n",
    "    - 'riemann_sum' Breakdown:\n",
    "        - 'for k in range(1, n + 1)': Looping over value 'k' from 1 to 'n' ([1,2,3, ..., n])\n",
    "        - 'a + k * delta_x': Calculating the x-coordinate of the right endpoint of each rectangle\n",
    "        - 'delta_x': Width of the rectangle\n",
    "\"\"\"\n",
    "\n",
    "def right_riemann_sum(f, a, b, n):\n",
    "\n",
    "    delta_x = (b - a) / n # Delta X: Width of the rectangles\n",
    "    riemann_sum = sum(f(a + (k * delta_x)) * delta_x for k in range(1, n + 1))\n",
    "    return riemann_sum"
   ]
  },
  {
   "cell_type": "markdown",
   "id": "0a00eb71-c6a6-47ca-889f-395706f342ff",
   "metadata": {
    "tags": []
   },
   "source": [
    "## Assignment 2: Using the Riemann Sum Function to Find the Area Under a Curve"
   ]
  },
  {
   "cell_type": "markdown",
   "id": "08b17bd7-199a-4422-90bd-08eb613ac11a",
   "metadata": {},
   "source": [
    "#### (a) Sketch a graph of f and the rectangles that make up the right Riemann sum R4 on the interval [0, 2]. This can be done by hand.\n",
    "Attached another file for the hand-drawn graph"
   ]
  },
  {
   "cell_type": "markdown",
   "id": "ccba0bcc-0943-4fba-b5c6-959e8a29750f",
   "metadata": {},
   "source": [
    "#### (b) Use the function you created in the previous problem to calculate R4."
   ]
  },
  {
   "cell_type": "code",
   "execution_count": 31,
   "id": "5bc356a9-5f07-4f7f-b769-3aaa056e6ba8",
   "metadata": {
    "tags": []
   },
   "outputs": [
    {
     "data": {
      "text/plain": [
       "2.4957090681024408"
      ]
     },
     "execution_count": 31,
     "metadata": {},
     "output_type": "execute_result"
    }
   ],
   "source": [
    "\"\"\"\n",
    "Code Description:\n",
    "    - Using the right_riemann_sum function created from Assignment 1 to calculate R4 of f(x) = sqrt(4-x^2)\n",
    "    - Code Breakdown:\n",
    "        - 1st Part: Defining the provided function f(x) = sqrt(4 - x^2)\n",
    "        - 2nd Part: Defining the interval and number of rectangles\n",
    "        - 3rd Part: Calculating the right Riemann sum R4\n",
    "\"\"\"\n",
    "\n",
    "# 1st Part:\n",
    "def f(x):\n",
    "    return math.sqrt(4 - x**2)\n",
    "\n",
    "# 2nd Part:\n",
    "a = 0\n",
    "b = 2\n",
    "n = 4\n",
    "\n",
    "# 3rd Part:\n",
    "riemann_sum_R4 = right_riemann_sum(f, a, b, n)\n",
    "\n",
    "# Printing result\n",
    "riemann_sum_R4"
   ]
  },
  {
   "cell_type": "markdown",
   "id": "9ba51713-2b97-49de-8f0a-b26a720fe203",
   "metadata": {
    "tags": []
   },
   "source": [
    "#### (c) Calculate appropriate right Riemann sums to find the area under the curve y = f(x) on the interval [0, 2]. Does the value of this area have a special name?"
   ]
  },
  {
   "cell_type": "code",
   "execution_count": 33,
   "id": "b93c8103-48a6-482f-ba7b-c06ac8fededc",
   "metadata": {
    "tags": []
   },
   "outputs": [
    {
     "data": {
      "text/plain": [
       "3.141572616401957"
      ]
     },
     "execution_count": 33,
     "metadata": {},
     "output_type": "execute_result"
    }
   ],
   "source": [
    "\"\"\"\n",
    "Code Description:\n",
    "    - Defining the function that calculates the area under the sum\n",
    "    - 4 Parameters:\n",
    "        - f: Mathematical function to calculate the sum\n",
    "        - a: Left endpoint of the interval\n",
    "        - b: Right endpoint of the interval\n",
    "        - n: # of rectangles\n",
    "    - Code Breakdown:\n",
    "        - 1st Part: Defining the the definite integral function\n",
    "        - 2nd Part: Setting up the parameters\n",
    "        - 3rd Part: Calculating the definite integral (area under the curve)\n",
    "\"\"\"\n",
    "\n",
    "# 1st Part:\n",
    "def definite_integral(f, a, b, n):\n",
    "    area_under_curve = right_riemann_sum(f, a, b, n)\n",
    "    return area_under_curve\n",
    "\n",
    "# 2nd Part:\n",
    "a = 0\n",
    "b = 2\n",
    "n = 100000 # Generally, the higher the n, the better the estimation of the definite integral\n",
    "\n",
    "# 3rd Part:\n",
    "definite_integral_value = definite_integral(f, a, b, n)\n",
    "\n",
    "# Printing result\n",
    "definite_integral_value"
   ]
  },
  {
   "cell_type": "markdown",
   "id": "699f0ed0-9f5f-4a27-b053-ddedcb262679",
   "metadata": {},
   "source": [
    "**Response**: The value of the area is called AUC or the area under the curve."
   ]
  }
 ],
 "metadata": {
  "kernelspec": {
   "display_name": "Python 3 (ipykernel)",
   "language": "python",
   "name": "python3"
  },
  "language_info": {
   "codemirror_mode": {
    "name": "ipython",
    "version": 3
   },
   "file_extension": ".py",
   "mimetype": "text/x-python",
   "name": "python",
   "nbconvert_exporter": "python",
   "pygments_lexer": "ipython3",
   "version": "3.10.10"
  }
 },
 "nbformat": 4,
 "nbformat_minor": 5
}
