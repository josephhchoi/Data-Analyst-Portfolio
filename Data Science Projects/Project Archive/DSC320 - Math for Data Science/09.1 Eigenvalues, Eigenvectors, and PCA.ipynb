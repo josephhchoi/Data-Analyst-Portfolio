{
 "cells": [
  {
   "cell_type": "markdown",
   "id": "a1a2c235-59d9-4d81-a7fb-e727fb2e389d",
   "metadata": {},
   "source": [
    "# DSC320: Eigenvalues, Eigenvectors, and PCA"
   ]
  },
  {
   "cell_type": "markdown",
   "id": "a4b5a73d-cf30-415d-86f1-b99c9ebcae14",
   "metadata": {
    "tags": []
   },
   "source": [
    "**Name**: Joseph Choi <br>\n",
    "**Class**: DSC410-T301 Predictive Analytics (2243-1)"
   ]
  },
  {
   "cell_type": "code",
   "execution_count": 45,
   "id": "f91ae6fc-b701-4480-b299-90519d9513ea",
   "metadata": {
    "tags": []
   },
   "outputs": [],
   "source": [
    "# Setup\n",
    "import numpy as np\n",
    "import pandas as pd\n",
    "import matplotlib.pyplot as plt\n",
    "from sklearn.decomposition import PCA"
   ]
  },
  {
   "cell_type": "markdown",
   "id": "41a5cd0e-90d9-4200-9683-c8098093c5f1",
   "metadata": {},
   "source": [
    "## 1. Find the Eigenvalues and Eigenvectors of a Matrix"
   ]
  },
  {
   "cell_type": "code",
   "execution_count": 5,
   "id": "77536605-2eca-46db-8572-f98d6b3bf9cd",
   "metadata": {
    "tags": []
   },
   "outputs": [
    {
     "data": {
      "text/plain": [
       "array([[ 4,  0,  1],\n",
       "       [-1, -6, -2],\n",
       "       [ 5,  0,  0]])"
      ]
     },
     "execution_count": 5,
     "metadata": {},
     "output_type": "execute_result"
    }
   ],
   "source": [
    "# Defining matrix A per instruction\n",
    "A = np.array([\n",
    "    [4, 0, 1],\n",
    "    [-1, -6, -2],\n",
    "    [5, 0, 0]\n",
    "])\n",
    "\n",
    "# Printing result:\n",
    "A"
   ]
  },
  {
   "cell_type": "markdown",
   "id": "f04624ca-311a-4059-ade8-26956ab11d43",
   "metadata": {},
   "source": [
    "### (a + b): \n",
    "- Is the vector [123] an eigenvector of A? Verify your answer with a calculation in Python\n",
    "- Is the vector [010] an eigenvector of A? Verify your answer with a calculation in Python"
   ]
  },
  {
   "cell_type": "code",
   "execution_count": 28,
   "id": "59d834b8-e831-422c-8910-968e184a4f01",
   "metadata": {
    "tags": []
   },
   "outputs": [
    {
     "name": "stdout",
     "output_type": "stream",
     "text": [
      "The vector [123] is not an eigenvector of A\n",
      "The vector [010] is an eigenvector of A with eigenvalue -6.0\n"
     ]
    }
   ],
   "source": [
    "\"\"\"\n",
    "Code Description:\n",
    "    - Verify if provided vectors are eigenvectors of matrix A \n",
    "    - Condition: \n",
    "        - If A*v is equal to lambda*v (where A is the matrix, v is the eigenvector,  lambda is the first eigenvalue), v is confirmed to be an eigenvector of A\n",
    "Code Breakdown:\n",
    "    - 1st Part: Defining the vectors for both a & b(v1 and v2)\n",
    "        Vectors are used to be tested as eigenvectors of matrix A\n",
    "    - 2nd Part: Computing A * v for both vectors (Av1 and Av2)\n",
    "        - Matrix-vector multiplication between A and v1/v2\n",
    "        - These transformed vectors are necessary to verify if the given vectors are eigenvectors\n",
    "    - 3rd Part: Computing eigenvalues and eigenvectors of A\n",
    "        - via \"np.linalg.eig(A)\"\n",
    "    - 4th Part: Checking if v1 and v2 are eigenvectors by comparing A*v to lambda*v\n",
    "        - Using \"allclose()\" to check if two specified arraysa are equal within a tolerance\n",
    "        - Comparing A*v with the first eigenvalue (lambda) multiplied by v \n",
    "\"\"\"\n",
    "\n",
    "# Defining the vectors\n",
    "v1 = np.array([1, 2, 3])\n",
    "v2 = np.array([0, 1, 0])\n",
    "\n",
    "# Computing A * v for both vectors\n",
    "Av1 = np.dot(A, v1)\n",
    "Av2 = np.dot(A, v2)\n",
    "\n",
    "# Computing eigenvalues and eigenvectors\n",
    "eigenvalues, eigenvectors = np.linalg.eig(A)\n",
    "\n",
    "# Checking if v1 and v2 are eigenvectors\n",
    "is_eigenvector_v1 = np.allclose(np.dot(A, v1), eigenvalues[0] * v1)\n",
    "is_eigenvector_v2 = np.allclose(np.dot(A, v2), eigenvalues[0] * v2)"
   ]
  },
  {
   "cell_type": "code",
   "execution_count": 32,
   "id": "aeaf6b18-849c-4baa-9ef2-c597d9adee03",
   "metadata": {
    "tags": []
   },
   "outputs": [
    {
     "data": {
      "text/plain": [
       "False"
      ]
     },
     "execution_count": 32,
     "metadata": {},
     "output_type": "execute_result"
    }
   ],
   "source": [
    "# Printing result for 1a:\n",
    "is_eigenvector_v1"
   ]
  },
  {
   "cell_type": "code",
   "execution_count": null,
   "id": "9190e250-ce27-478a-ae02-38f0401fbebc",
   "metadata": {},
   "outputs": [],
   "source": [
    "# Printing result for 1b:\n",
    "is_eigenvector_v2"
   ]
  },
  {
   "cell_type": "markdown",
   "id": "4b9044e7-a23e-42e5-99d2-52d5601b7789",
   "metadata": {},
   "source": [
    "#### Output:\n",
    "- **Condition**: If A*v is equal to lambda*v, v is confirmed to be an eigenvector of A\n",
    "- **1a**: Vector [123] is not an eigenvector of A as it does not meet the condition\n",
    "- **1b**: Vector [010] is an eigenvector of A with eigenvalue -6.0 is it does meet the condition"
   ]
  },
  {
   "cell_type": "markdown",
   "id": "3454d86e-6615-4c85-86e7-ef0177533df6",
   "metadata": {},
   "source": [
    "### (c) Use Python to find all of the eigenvalues and eigenvectors of A"
   ]
  },
  {
   "cell_type": "code",
   "execution_count": 33,
   "id": "9923a03a-6ecd-412c-9f80-180fc117fabb",
   "metadata": {
    "tags": []
   },
   "outputs": [],
   "source": [
    "# Computing eigenvalues and eigenvectors\n",
    "eigenvalues, eigenvectors = np.linalg.eig(A)"
   ]
  },
  {
   "cell_type": "code",
   "execution_count": 30,
   "id": "77e77c8e-fba4-4040-9047-fee6428d3b06",
   "metadata": {
    "tags": []
   },
   "outputs": [
    {
     "data": {
      "text/plain": [
       "array([-6.,  5., -1.])"
      ]
     },
     "execution_count": 30,
     "metadata": {},
     "output_type": "execute_result"
    }
   ],
   "source": [
    "# Printing all of the eigenvalues of A\n",
    "eigenvalues"
   ]
  },
  {
   "cell_type": "code",
   "execution_count": 31,
   "id": "3cebc674-f8f5-4603-bbed-4552e92363aa",
   "metadata": {
    "tags": []
   },
   "outputs": [
    {
     "data": {
      "text/plain": [
       "array([[ 0.        ,  0.69431384, -0.18493168],\n",
       "       [ 1.        , -0.18935832, -0.33287702],\n",
       "       [ 0.        ,  0.69431384,  0.9246584 ]])"
      ]
     },
     "execution_count": 31,
     "metadata": {},
     "output_type": "execute_result"
    }
   ],
   "source": [
    "# Printing all of the eigenvectors of A\n",
    "eigenvectors"
   ]
  },
  {
   "cell_type": "markdown",
   "id": "d0fcc9d3-e52d-4388-80c0-0ad5cf835424",
   "metadata": {},
   "source": [
    "## 2. Principal Component Analysis"
   ]
  },
  {
   "cell_type": "code",
   "execution_count": 37,
   "id": "bc1c199d-127a-4fc5-970b-a05aaa8b221b",
   "metadata": {
    "tags": []
   },
   "outputs": [
    {
     "data": {
      "text/html": [
       "<div>\n",
       "<style scoped>\n",
       "    .dataframe tbody tr th:only-of-type {\n",
       "        vertical-align: middle;\n",
       "    }\n",
       "\n",
       "    .dataframe tbody tr th {\n",
       "        vertical-align: top;\n",
       "    }\n",
       "\n",
       "    .dataframe thead th {\n",
       "        text-align: right;\n",
       "    }\n",
       "</style>\n",
       "<table border=\"1\" class=\"dataframe\">\n",
       "  <thead>\n",
       "    <tr style=\"text-align: right;\">\n",
       "      <th></th>\n",
       "      <th>name</th>\n",
       "      <th>critic_score</th>\n",
       "      <th>user_score</th>\n",
       "      <th>total_shipped</th>\n",
       "    </tr>\n",
       "  </thead>\n",
       "  <tbody>\n",
       "    <tr>\n",
       "      <th>0</th>\n",
       "      <td>Mario Kart Wii</td>\n",
       "      <td>8.2</td>\n",
       "      <td>9.1</td>\n",
       "      <td>37.14</td>\n",
       "    </tr>\n",
       "    <tr>\n",
       "      <th>1</th>\n",
       "      <td>Wii Sports Resort</td>\n",
       "      <td>8.0</td>\n",
       "      <td>8.8</td>\n",
       "      <td>33.09</td>\n",
       "    </tr>\n",
       "    <tr>\n",
       "      <th>2</th>\n",
       "      <td>New Super Mario Bros.</td>\n",
       "      <td>9.1</td>\n",
       "      <td>8.1</td>\n",
       "      <td>30.80</td>\n",
       "    </tr>\n",
       "    <tr>\n",
       "      <th>3</th>\n",
       "      <td>New Super Mario Bros. Wii</td>\n",
       "      <td>8.6</td>\n",
       "      <td>9.2</td>\n",
       "      <td>30.22</td>\n",
       "    </tr>\n",
       "    <tr>\n",
       "      <th>4</th>\n",
       "      <td>Mario Kart DS</td>\n",
       "      <td>9.1</td>\n",
       "      <td>9.4</td>\n",
       "      <td>23.60</td>\n",
       "    </tr>\n",
       "    <tr>\n",
       "      <th>5</th>\n",
       "      <td>Pokemon X/Y</td>\n",
       "      <td>8.9</td>\n",
       "      <td>9.7</td>\n",
       "      <td>16.37</td>\n",
       "    </tr>\n",
       "    <tr>\n",
       "      <th>6</th>\n",
       "      <td>Pokemon Black / White Version</td>\n",
       "      <td>8.6</td>\n",
       "      <td>9.0</td>\n",
       "      <td>15.64</td>\n",
       "    </tr>\n",
       "    <tr>\n",
       "      <th>7</th>\n",
       "      <td>Halo 3</td>\n",
       "      <td>9.6</td>\n",
       "      <td>9.5</td>\n",
       "      <td>14.50</td>\n",
       "    </tr>\n",
       "    <tr>\n",
       "      <th>8</th>\n",
       "      <td>Super Smash Bros. Brawl</td>\n",
       "      <td>9.2</td>\n",
       "      <td>9.7</td>\n",
       "      <td>13.29</td>\n",
       "    </tr>\n",
       "    <tr>\n",
       "      <th>9</th>\n",
       "      <td>Super Mario Galaxy</td>\n",
       "      <td>9.7</td>\n",
       "      <td>9.6</td>\n",
       "      <td>12.78</td>\n",
       "    </tr>\n",
       "  </tbody>\n",
       "</table>\n",
       "</div>"
      ],
      "text/plain": [
       "                            name  critic_score  user_score  total_shipped\n",
       "0                 Mario Kart Wii           8.2         9.1          37.14\n",
       "1              Wii Sports Resort           8.0         8.8          33.09\n",
       "2          New Super Mario Bros.           9.1         8.1          30.80\n",
       "3      New Super Mario Bros. Wii           8.6         9.2          30.22\n",
       "4                  Mario Kart DS           9.1         9.4          23.60\n",
       "5                    Pokemon X/Y           8.9         9.7          16.37\n",
       "6  Pokemon Black / White Version           8.6         9.0          15.64\n",
       "7                         Halo 3           9.6         9.5          14.50\n",
       "8        Super Smash Bros. Brawl           9.2         9.7          13.29\n",
       "9             Super Mario Galaxy           9.7         9.6          12.78"
      ]
     },
     "execution_count": 37,
     "metadata": {},
     "output_type": "execute_result"
    }
   ],
   "source": [
    "# Loading and printing csv file 'video_game_data'\n",
    "video_game_df = pd.read_csv('video_game_data.csv')\n",
    "video_game_df.head(10)"
   ]
  },
  {
   "cell_type": "markdown",
   "id": "c15e8840-65e7-4118-9d00-b4252b2498c6",
   "metadata": {},
   "source": [
    "### (a) Make a scatterplot of the user scores versus critics scores "
   ]
  },
  {
   "cell_type": "code",
   "execution_count": 46,
   "id": "e9c14767-1ddb-4819-ab97-031e0608a447",
   "metadata": {
    "tags": []
   },
   "outputs": [
    {
     "data": {
      "image/png": "[encoded data removed]",
      "text/plain": [
       "<Figure size 600x400 with 1 Axes>"
      ]
     },
     "metadata": {},
     "output_type": "display_data"
    }
   ],
   "source": [
    "# Scatterplot: UserScores vs. CriticsScores\n",
    "\n",
    "# Extracting the critic scores and user scores from the DataFrame\n",
    "critic_scores_col = video_game_df['critic_score']\n",
    "user_scores_col = video_game_df['user_score']\n",
    "\n",
    "# Creating a scatter plot\n",
    "plt.figure(figsize=(6, 4))\n",
    "plt.scatter(critic_scores_col, user_scores_col, color='salmon', alpha=0.5)\n",
    "\n",
    "# Adding labels and title\n",
    "plt.title('User Scores vs. Critic Scores')\n",
    "plt.xlabel('Critic Scores')\n",
    "plt.ylabel('User Scores')\n",
    "\n",
    "# Printing the scatterplot\n",
    "plt.grid(True)\n",
    "plt.show()"
   ]
  },
  {
   "cell_type": "markdown",
   "id": "d8d4e21c-0d47-4b73-be68-39ffe489e2b1",
   "metadata": {},
   "source": [
    "### (b) On your scatterplot from part (a), sketch the approximate directions of the first and second principal components"
   ]
  },
  {
   "cell_type": "markdown",
   "id": "c68fe7fb-ee7b-46e0-adef-4f053f42b1ac",
   "metadata": {},
   "source": [
    "#### Output:\n",
    "- Picture of the sketch attached\n",
    "- My Steps:\n",
    "    - Find the middle point (average location) of all the dots on the map\n",
    "    - From the middle point, draw the PC1 line in the direction where most of the dots are\n",
    "    - For PC2, draw a line perpendicular to the PC1 line. It should show the next biggest stretch of dots."
   ]
  }
 ],
 "metadata": {
  "kernelspec": {
   "display_name": "Python 3 (ipykernel)",
   "language": "python",
   "name": "python3"
  },
  "language_info": {
   "codemirror_mode": {
    "name": "ipython",
    "version": 3
   },
   "file_extension": ".py",
   "mimetype": "text/x-python",
   "name": "python",
   "nbconvert_exporter": "python",
   "pygments_lexer": "ipython3",
   "version": "3.10.10"
  }
 },
 "nbformat": 4,
 "nbformat_minor": 5
}
