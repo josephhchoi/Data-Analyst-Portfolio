{
 "cells": [
  {
   "cell_type": "markdown",
   "id": "55d0aa49-0c21-4b05-bdce-f5919f76066f",
   "metadata": {},
   "source": [
    "# DSC320: Limits, Rate of Change, Derivatives"
   ]
  },
  {
   "cell_type": "markdown",
   "id": "30a96a8b-1e85-4c13-b732-bd3364d69348",
   "metadata": {},
   "source": [
    "**Name**: Joseph Choi <br>\n",
    "**Class**: DSC320-T301 Math for Data Science (2243-1)"
   ]
  },
  {
   "cell_type": "code",
   "execution_count": 1,
   "id": "5ce225a7-2cf3-4068-aeeb-0d2cac34fbaa",
   "metadata": {
    "tags": []
   },
   "outputs": [],
   "source": [
    "# Setup\n",
    "import math"
   ]
  },
  {
   "cell_type": "markdown",
   "id": "64715ffb-818b-42bc-8f31-f8f1120d77c7",
   "metadata": {},
   "source": [
    "## Assignment 1: Calculating Limits Numerically"
   ]
  },
  {
   "cell_type": "code",
   "execution_count": 4,
   "id": "3975dfca-c032-4c27-9a67-db82ca5f9499",
   "metadata": {
    "tags": []
   },
   "outputs": [],
   "source": [
    "# Defining f(x) per instructions using provided function:\n",
    "\n",
    "def f(x):\n",
    "    return 2 * x**3 - 4 * x + 1"
   ]
  },
  {
   "cell_type": "code",
   "execution_count": 5,
   "id": "42873c61-6850-4279-a258-ca3129f2e8c2",
   "metadata": {
    "tags": []
   },
   "outputs": [],
   "source": [
    "# Defining g(x) per instructions using provided function:\n",
    "\n",
    "def g(x):\n",
    "    return (math.exp(x) - 1) / x"
   ]
  },
  {
   "cell_type": "code",
   "execution_count": 14,
   "id": "f641000f-c566-4dac-a9db-3c302ddb7330",
   "metadata": {
    "tags": []
   },
   "outputs": [
    {
     "data": {
      "text/plain": [
       "[38.178,\n",
       " 42.50179800000001,\n",
       " 42.95001799800001,\n",
       " 43.050018001999995,\n",
       " 43.50180199999999,\n",
       " 48.18200000000001]"
      ]
     },
     "execution_count": 14,
     "metadata": {},
     "output_type": "execute_result"
    }
   ],
   "source": [
    "# Calculating f(x) as x approaches 3\n",
    "f_values = [2.9, 2.99, 2.999, 3.001, 3.01, 3.1]\n",
    "f_output = [f(x) for x in f_values]\n",
    "\n",
    "# Printing result:\n",
    "f_output"
   ]
  },
  {
   "cell_type": "code",
   "execution_count": 13,
   "id": "1cae3258-c1ae-4b10-949b-8529c59f4bec",
   "metadata": {
    "tags": []
   },
   "outputs": [
    {
     "data": {
      "text/plain": [
       "[0.9995001666249781,\n",
       " 0.9950166250831893,\n",
       " 0.9516258196404048,\n",
       " 1.0005001667083846,\n",
       " 1.005016708416795,\n",
       " 1.0517091807564771]"
      ]
     },
     "execution_count": 13,
     "metadata": {},
     "output_type": "execute_result"
    }
   ],
   "source": [
    "# Calculating g(x) as x approaches 0\n",
    "g_values = [-0.001, -0.01, -0.1, 0.001, 0.01, 0.1]\n",
    "g_output = [g(x) for x in g_values]\n",
    "\n",
    "# Printing results:\n",
    "g_output"
   ]
  },
  {
   "cell_type": "markdown",
   "id": "49168e02-a226-4a09-ade1-18fc7aa22324",
   "metadata": {
    "tags": []
   },
   "source": [
    "#### Interpretation:\n",
    "For function f(x), I approximated the limit using values close to 3. Similarly, I evaluated the limit by using values close to 0 for function g(x). The function outputs that I got from parts (a) and (b) provide close estimations of the limit. If possible, you can always plug in the actual value to get the exact output. However, if you run into a situation where you can't like the g(x) example, you can always depend on approximations to observe and understand how the function behaves as it approaches the limit. \n",
    "\n",
    "If the limit can be successfully calculated by using the exact value, it indicates that the function is continuous at that exact point like the f(x) example. For g(x), since we cannot calculate 0, we can deduce that it is not continuous (gap) at that point.  "
   ]
  },
  {
   "cell_type": "markdown",
   "id": "b542a5ac-18f9-4f10-a967-78cfb8902c80",
   "metadata": {},
   "source": [
    "## Assignment 2: Average Rate of Change"
   ]
  },
  {
   "cell_type": "code",
   "execution_count": null,
   "id": "b2708cd9-d3f9-4d3f-bb41-07274b906a12",
   "metadata": {
    "tags": []
   },
   "outputs": [],
   "source": [
    "\"\"\"\n",
    "Code Description:\n",
    "    - Defining a function that calculates the avg rate of change between two points of given mathematical function (3x^2)\n",
    "    - Function takes in:\n",
    "        - 'f': Mathematical function\n",
    "        - 'a': Starting point\n",
    "        - 'b': Ending point\n",
    "    - Code Breakdown:\n",
    "        - 1st Part:\n",
    "            - 'fa = f(a)': Calculating the value of the function 'f' at point 'a'\n",
    "            - 'fb = f(b)': Calculating the value of the function 'f' at point 'b'\n",
    "        - 2nd Part:\n",
    "            - 'rate_of_change': Calculating the average rate of change per function provided in instruction\n",
    "\"\"\"\n",
    "\n",
    "def avg_rate(f, a, b):\n",
    "    # 1st Part:\n",
    "    fa = f(a)\n",
    "    fb = f(b)\n",
    "    \n",
    "    # 2nd Part:\n",
    "    rate = (fb - fa) / (b - a)\n",
    "    \n",
    "    return rate"
   ]
  },
  {
   "cell_type": "code",
   "execution_count": 21,
   "id": "3f4a5f22-5777-4308-be79-c83faed3b54d",
   "metadata": {
    "tags": []
   },
   "outputs": [],
   "source": [
    "# Defining function that represents the function 3x^2\n",
    "\n",
    "def f(x):\n",
    "    return 3 * x ** 2"
   ]
  },
  {
   "cell_type": "code",
   "execution_count": 25,
   "id": "f9ada98b-024e-4215-bdc7-dc4be7af0cb7",
   "metadata": {
    "tags": []
   },
   "outputs": [
    {
     "data": {
      "text/plain": [
       "12.0"
      ]
     },
     "execution_count": 25,
     "metadata": {},
     "output_type": "execute_result"
    }
   ],
   "source": [
    "\"\"\"\n",
    "Code Description:\n",
    "    - Testing the functionality of both functions using self defined interval points\n",
    "    - Code Breakdown:\n",
    "        - 1st Part: Defining point a and point b to be plugged into f(x)\n",
    "        - 2nd Part: Calculating the average rate of f between a and b \n",
    "\"\"\"\n",
    "\n",
    "# 1st Part:\n",
    "a = 1\n",
    "b = 3\n",
    "\n",
    "# 2nd Part:\n",
    "avg_output = avg_rate(f, a, b)\n",
    "\n",
    "# Printing results:\n",
    "avg_output"
   ]
  },
  {
   "cell_type": "markdown",
   "id": "01bf356c-ae3a-4003-a199-68455166008c",
   "metadata": {},
   "source": [
    "#### Calculation Breakdown:\n",
    "- **f(a)** = 3 * (1)^2 = 3\n",
    "- **f(b)** = 3 * (3)^2 = 27\n",
    "- **avg_output** = ( f(b) - f(a) ) / ( b-a )\n",
    "- **avg_output** = ( 27-3 ) / ( 3-1 )\n",
    "- **avg_output** = 12"
   ]
  },
  {
   "cell_type": "markdown",
   "id": "f9e4ad1d-303a-4bd4-b2e0-ff38c489f05b",
   "metadata": {},
   "source": [
    "## Assignment 3: Average Rate of Change to Instantaneous Rate of Change"
   ]
  },
  {
   "cell_type": "code",
   "execution_count": 32,
   "id": "8eba369b-d05e-44cb-a9a8-4bd40e15dead",
   "metadata": {
    "tags": []
   },
   "outputs": [],
   "source": [
    "\"\"\"\n",
    "Code Description:\n",
    "    - Defining a function that calculates the average rate of change of distance between two points of given mathematical function (4.9t^2)\n",
    "    - Function takes in:\n",
    "        - 'g': Mathematical function\n",
    "        - 't1': Starting second\n",
    "        - 't2': Ending second\n",
    "    - Code Breakdown:\n",
    "        - 1st Part:\n",
    "            - 'gt1 = g(t1)': Calculating the value of the function 'g' at point 't1'\n",
    "            - 'gt2 = g(t2)': Calculating the value of the function 'g' at point 't2'\n",
    "        - 2nd Part:\n",
    "            - 'baseball_rate': Calculating the average rate of change per function provided in instruction\n",
    "\"\"\"\n",
    "\n",
    "def baseball_avg_rate(g, t1, t2):\n",
    "    # 1st Part:\n",
    "    gt1 = g(t1)\n",
    "    gt2 = g(t2)\n",
    "    \n",
    "    # 2nd Part:\n",
    "    baseball_rate = (gt2 - gt1) / (t2 - t1)\n",
    "    \n",
    "    return baseball_rate"
   ]
  },
  {
   "cell_type": "code",
   "execution_count": 33,
   "id": "a91c4240-2eb7-4986-ac7d-ddc9d920bf89",
   "metadata": {
    "tags": []
   },
   "outputs": [],
   "source": [
    "# Defining function that represents the function 4.9t^2\n",
    "\n",
    "def g(t):\n",
    "    return 4.9 * t ** 2"
   ]
  },
  {
   "cell_type": "code",
   "execution_count": 39,
   "id": "d71dda46-8704-42a6-8f58-3dd6373633f9",
   "metadata": {
    "tags": []
   },
   "outputs": [
    {
     "data": {
      "text/plain": [
       "53.89999999999999"
      ]
     },
     "execution_count": 39,
     "metadata": {},
     "output_type": "execute_result"
    }
   ],
   "source": [
    "# Calculating the average speed of the baseball between 5-6 s\n",
    "\n",
    "t1 = 5\n",
    "t2 = 6\n",
    "\n",
    "avg_a = baseball_avg_rate(g, t1, t2)\n",
    "avg_a"
   ]
  },
  {
   "cell_type": "code",
   "execution_count": 40,
   "id": "12c35126-8eb0-4380-9862-14432bacb066",
   "metadata": {
    "tags": []
   },
   "outputs": [
    {
     "data": {
      "text/plain": [
       "51.45000000000002"
      ]
     },
     "execution_count": 40,
     "metadata": {},
     "output_type": "execute_result"
    }
   ],
   "source": [
    "# Calculating the average speed of the baseball between 5-5.5 s\n",
    "\n",
    "t1 = 5\n",
    "t2 = 5.5\n",
    "\n",
    "avg_b = baseball_avg_rate(g, t1, t2)\n",
    "avg_b"
   ]
  },
  {
   "cell_type": "code",
   "execution_count": 41,
   "id": "eb7660db-c464-4a78-a524-4b3a225b33f2",
   "metadata": {
    "tags": []
   },
   "outputs": [
    {
     "data": {
      "text/plain": [
       "49.490000000000016"
      ]
     },
     "execution_count": 41,
     "metadata": {},
     "output_type": "execute_result"
    }
   ],
   "source": [
    "# Calculating the average speed of the baseball between 5-5.1 s\n",
    "\n",
    "t1 = 5\n",
    "t2 = 5.1\n",
    "\n",
    "avg_c = baseball_avg_rate(g, t1, t2)\n",
    "avg_c"
   ]
  },
  {
   "cell_type": "code",
   "execution_count": 43,
   "id": "4dc4755d-07fc-4459-a89b-0695dcf249db",
   "metadata": {
    "tags": []
   },
   "outputs": [
    {
     "data": {
      "text/plain": [
       "48.0"
      ]
     },
     "execution_count": 43,
     "metadata": {},
     "output_type": "execute_result"
    }
   ],
   "source": [
    "# Calculating the instantaneous speed of the baseball at t=5 by shortening the interval compared to a-c\n",
    "\n",
    "t1 = 5\n",
    "t2 = 5.000000000000001\n",
    "\n",
    "avg_d = baseball_avg_rate(g, t1, t2)\n",
    "avg_d"
   ]
  },
  {
   "cell_type": "markdown",
   "id": "13445d5f-b22e-4f7c-9c69-8c29440c4718",
   "metadata": {},
   "source": [
    "#### Notes:\n",
    "- Found the derivative of f though the Power Rule\n",
    "- f'(x) = n * a * x^n-1\n",
    "- f'(x) = 2 * 4.9 x^2-1\n",
    "- f'(x) = 9.8x"
   ]
  },
  {
   "cell_type": "code",
   "execution_count": 46,
   "id": "35ddeca2-9364-40c3-91d0-ee47e4ccf4cf",
   "metadata": {
    "tags": []
   },
   "outputs": [],
   "source": [
    "# Defining function that represents the function 4.9t^2\n",
    "\n",
    "def f_derivative(t):\n",
    "    return 9.8 * t"
   ]
  },
  {
   "cell_type": "code",
   "execution_count": 47,
   "id": "d29d9112-54c7-4221-b81f-51d4d6c437c5",
   "metadata": {
    "tags": []
   },
   "outputs": [
    {
     "data": {
      "text/plain": [
       "49.0"
      ]
     },
     "execution_count": 47,
     "metadata": {},
     "output_type": "execute_result"
    }
   ],
   "source": [
    "# Evaluating the derivative of f at t = 5\n",
    "t = 5\n",
    "derivative_output = f_derivative(t)\n",
    "\n",
    "# Printing results:\n",
    "derivative_output"
   ]
  },
  {
   "cell_type": "markdown",
   "id": "22da58d0-2e99-4cad-9457-ca80a7cab7e1",
   "metadata": {},
   "source": [
    "#### Interpretation:\n",
    "Derivative output of f at t=5 came out to 49. My output from (d) is an estimation and so it came very close to 49. This demonstrates that the shorter the interval from the average rate, the more closer the output will be the same as the instantaneous rate. Therefore, (d) and the derivative evaluation will be very close in proximity but never exactly the same. "
   ]
  },
  {
   "cell_type": "markdown",
   "id": "97a06a66-d3ad-4c7b-820a-c5543e692b4d",
   "metadata": {},
   "source": [
    "## Assignment 4: Calculating and Interpreting Partial Derivatives"
   ]
  },
  {
   "cell_type": "code",
   "execution_count": 52,
   "id": "2a7b62c2-8caa-44d2-b785-a83bb19e42e5",
   "metadata": {
    "tags": []
   },
   "outputs": [
    {
     "data": {
      "text/plain": [
       "26200"
      ]
     },
     "execution_count": 52,
     "metadata": {},
     "output_type": "execute_result"
    }
   ],
   "source": [
    "# Defining 'year' and 'condition\"\n",
    "C = 8 \n",
    "Y = 5\n",
    "\n",
    "# Calculating 'selling price' (P) using provided function from instructions\n",
    "P = 16000 + 2400 * C - 1800 * Y\n",
    "P"
   ]
  },
  {
   "cell_type": "markdown",
   "id": "eef3671e-eab9-4bc2-9734-e17b54aa040d",
   "metadata": {},
   "source": [
    "#### Interpretation:\n",
    "- (b) Coefficent of C is 2400, therefore the partial derivative to C is 2400\n",
    "- (c) Coefficent of C is 1800, therefore the partial derivative to Y is 1800\n",
    "- For each unit increase in the condition rating, the predicted selling price increases by 2400\n",
    "- For each year increase in the age of the car, the predicted selling price decreases by 1800"
   ]
  }
 ],
 "metadata": {
  "kernelspec": {
   "display_name": "Python 3 (ipykernel)",
   "language": "python",
   "name": "python3"
  },
  "language_info": {
   "codemirror_mode": {
    "name": "ipython",
    "version": 3
   },
   "file_extension": ".py",
   "mimetype": "text/x-python",
   "name": "python",
   "nbconvert_exporter": "python",
   "pygments_lexer": "ipython3",
   "version": "3.10.10"
  }
 },
 "nbformat": 4,
 "nbformat_minor": 5
}
