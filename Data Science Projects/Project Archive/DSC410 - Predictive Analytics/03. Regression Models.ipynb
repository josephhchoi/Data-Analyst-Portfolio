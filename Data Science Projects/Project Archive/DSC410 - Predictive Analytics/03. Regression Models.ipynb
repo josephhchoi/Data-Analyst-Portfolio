{
 "cells": [
  {
   "cell_type": "markdown",
   "id": "9f42046e-c818-4e28-add0-e383cb3b15b1",
   "metadata": {},
   "source": [
    "# DSC410: Regression Models"
   ]
  },
  {
   "cell_type": "markdown",
   "id": "2958d5b6-b762-403f-973d-b63d09f4f2aa",
   "metadata": {},
   "source": [
    "**Name**: Joseph Choi <br>\n",
    "**Class**: DSC410-T301 Predictive Analytics (2243-1)"
   ]
  },
  {
   "cell_type": "markdown",
   "id": "bf022237-d4c2-4743-a098-985f654b1bc3",
   "metadata": {},
   "source": [
    "**Instructions**: \n",
    "- For the large data set you performed EDA on in Week 2, use one of the covered algorithms to predict y \n",
    "- Note that the target is a continuous numerical variable (regression problem)\n",
    "- You can optionally print out the R2 score"
   ]
  },
  {
   "cell_type": "markdown",
   "id": "c0921db5-ca7f-460d-aa48-ef0245b6983e",
   "metadata": {},
   "source": [
    "### Setup:"
   ]
  },
  {
   "cell_type": "code",
   "execution_count": 52,
   "id": "cd9f0827-8025-4d6f-949b-f0ae31bae0c5",
   "metadata": {
    "tags": []
   },
   "outputs": [],
   "source": [
    "# Packages:\n",
    "\n",
    "import pandas as pd\n",
    "import numpy as np\n",
    "from sklearn.linear_model import LinearRegression\n",
    "from sklearn.metrics import r2_score\n",
    "from sklearn.impute import SimpleImputer\n",
    "from sklearn.linear_model import Lasso\n",
    "from sklearn.neighbors import KNeighborsRegressor"
   ]
  },
  {
   "cell_type": "code",
   "execution_count": 33,
   "id": "bf43a493-fd00-4d81-a018-f36f64900892",
   "metadata": {
    "tags": []
   },
   "outputs": [],
   "source": [
    "# Loading 'eda_data' csv file and displaying 'eda_df'\n",
    "eda_df = pd.read_csv('eda_data.csv')"
   ]
  },
  {
   "cell_type": "markdown",
   "id": "5a7376e6-890a-4553-8756-37038325a17c",
   "metadata": {},
   "source": [
    "### Data Cleaning:"
   ]
  },
  {
   "cell_type": "code",
   "execution_count": 20,
   "id": "2f0586f6-0fc5-4ef7-8922-d51c9b5f1447",
   "metadata": {
    "tags": []
   },
   "outputs": [
    {
     "data": {
      "text/html": [
       "<div>\n",
       "<style scoped>\n",
       "    .dataframe tbody tr th:only-of-type {\n",
       "        vertical-align: middle;\n",
       "    }\n",
       "\n",
       "    .dataframe tbody tr th {\n",
       "        vertical-align: top;\n",
       "    }\n",
       "\n",
       "    .dataframe thead th {\n",
       "        text-align: right;\n",
       "    }\n",
       "</style>\n",
       "<table border=\"1\" class=\"dataframe\">\n",
       "  <thead>\n",
       "    <tr style=\"text-align: right;\">\n",
       "      <th></th>\n",
       "      <th>x0</th>\n",
       "      <th>x1</th>\n",
       "      <th>x2</th>\n",
       "      <th>x3</th>\n",
       "      <th>x4</th>\n",
       "      <th>x5</th>\n",
       "      <th>x6</th>\n",
       "      <th>x7</th>\n",
       "      <th>x8</th>\n",
       "      <th>x9</th>\n",
       "      <th>x10</th>\n",
       "      <th>x11</th>\n",
       "      <th>x12</th>\n",
       "      <th>x13</th>\n",
       "      <th>y</th>\n",
       "    </tr>\n",
       "  </thead>\n",
       "  <tbody>\n",
       "    <tr>\n",
       "      <th>0</th>\n",
       "      <td>-17.933519</td>\n",
       "      <td>6.559220</td>\n",
       "      <td>-14.452810</td>\n",
       "      <td>-4.732855</td>\n",
       "      <td>0.381673</td>\n",
       "      <td>2.563194</td>\n",
       "      <td>1306.52</td>\n",
       "      <td>-89.394348</td>\n",
       "      <td>-28.454044</td>\n",
       "      <td>-16.201298</td>\n",
       "      <td>-0.01</td>\n",
       "      <td>0.217010</td>\n",
       "      <td>9.729891</td>\n",
       "      <td>-0.786431</td>\n",
       "      <td>0.666146</td>\n",
       "    </tr>\n",
       "    <tr>\n",
       "      <th>1</th>\n",
       "      <td>-37.214754</td>\n",
       "      <td>10.774930</td>\n",
       "      <td>-15.384004</td>\n",
       "      <td>-0.077339</td>\n",
       "      <td>10.983774</td>\n",
       "      <td>-15.210206</td>\n",
       "      <td>24.86</td>\n",
       "      <td>153.032652</td>\n",
       "      <td>-32.557736</td>\n",
       "      <td>69.675903</td>\n",
       "      <td>0.00</td>\n",
       "      <td>-3.584908</td>\n",
       "      <td>35.727926</td>\n",
       "      <td>-0.985552</td>\n",
       "      <td>0.378411</td>\n",
       "    </tr>\n",
       "    <tr>\n",
       "      <th>2</th>\n",
       "      <td>0.330441</td>\n",
       "      <td>-19.609972</td>\n",
       "      <td>-9.167911</td>\n",
       "      <td>2.064124</td>\n",
       "      <td>12.071688</td>\n",
       "      <td>12.506141</td>\n",
       "      <td>110.85</td>\n",
       "      <td>-141.437276</td>\n",
       "      <td>-20.794952</td>\n",
       "      <td>55.042604</td>\n",
       "      <td>0.00</td>\n",
       "      <td>-3.991366</td>\n",
       "      <td>-9.283523</td>\n",
       "      <td>-3.394718</td>\n",
       "      <td>0.624498</td>\n",
       "    </tr>\n",
       "    <tr>\n",
       "      <th>3</th>\n",
       "      <td>-13.709765</td>\n",
       "      <td>-8.011390</td>\n",
       "      <td>6.759264</td>\n",
       "      <td>1.727615</td>\n",
       "      <td>-1.768382</td>\n",
       "      <td>24.039733</td>\n",
       "      <td>324.43</td>\n",
       "      <td>51.039653</td>\n",
       "      <td>-7.046908</td>\n",
       "      <td>-31.424419</td>\n",
       "      <td>0.01</td>\n",
       "      <td>7.908897</td>\n",
       "      <td>-2.891882</td>\n",
       "      <td>-2.690222</td>\n",
       "      <td>0.126622</td>\n",
       "    </tr>\n",
       "    <tr>\n",
       "      <th>4</th>\n",
       "      <td>-4.202598</td>\n",
       "      <td>7.076210</td>\n",
       "      <td>-26.004919</td>\n",
       "      <td>-4.269696</td>\n",
       "      <td>-3.414224</td>\n",
       "      <td>2.115989</td>\n",
       "      <td>1213.37</td>\n",
       "      <td>-31.046700</td>\n",
       "      <td>19.061182</td>\n",
       "      <td>-31.525515</td>\n",
       "      <td>-0.01</td>\n",
       "      <td>0.846719</td>\n",
       "      <td>25.497480</td>\n",
       "      <td>3.516801</td>\n",
       "      <td>0.640025</td>\n",
       "    </tr>\n",
       "  </tbody>\n",
       "</table>\n",
       "</div>"
      ],
      "text/plain": [
       "          x0         x1         x2        x3         x4         x5       x6   \n",
       "0 -17.933519   6.559220 -14.452810 -4.732855   0.381673   2.563194  1306.52  \\\n",
       "1 -37.214754  10.774930 -15.384004 -0.077339  10.983774 -15.210206    24.86   \n",
       "2   0.330441 -19.609972  -9.167911  2.064124  12.071688  12.506141   110.85   \n",
       "3 -13.709765  -8.011390   6.759264  1.727615  -1.768382  24.039733   324.43   \n",
       "4  -4.202598   7.076210 -26.004919 -4.269696  -3.414224   2.115989  1213.37   \n",
       "\n",
       "           x7         x8         x9   x10       x11        x12       x13   \n",
       "0  -89.394348 -28.454044 -16.201298 -0.01  0.217010   9.729891 -0.786431  \\\n",
       "1  153.032652 -32.557736  69.675903  0.00 -3.584908  35.727926 -0.985552   \n",
       "2 -141.437276 -20.794952  55.042604  0.00 -3.991366  -9.283523 -3.394718   \n",
       "3   51.039653  -7.046908 -31.424419  0.01  7.908897  -2.891882 -2.690222   \n",
       "4  -31.046700  19.061182 -31.525515 -0.01  0.846719  25.497480  3.516801   \n",
       "\n",
       "          y  \n",
       "0  0.666146  \n",
       "1  0.378411  \n",
       "2  0.624498  \n",
       "3  0.126622  \n",
       "4  0.640025  "
      ]
     },
     "execution_count": 20,
     "metadata": {},
     "output_type": "execute_result"
    }
   ],
   "source": [
    "# Creating a copy of the df to perform data cleaning procedures\n",
    "eda_df_copy = eda_df.copy()\n",
    "\n",
    "# Removing characters '[()$,]' from column 'x6' and converting cleaned values to float64\n",
    "eda_df_copy['x6'] = pd.to_numeric(eda_df_copy['x6'].replace('[\\$,()]', '', regex=True))\n",
    "eda_df_copy['x6'] = eda_df_copy['x6'].astype('float64')\n",
    "\n",
    "# Removing characters '%' from column 'x10' and converting cleaned values to float64\n",
    "eda_df_copy['x10'] = pd.to_numeric(eda_df_copy['x10'].str.replace('%', ''))\n",
    "\n",
    "# Printing results:\n",
    "eda_df_copy.head(5)"
   ]
  },
  {
   "cell_type": "code",
   "execution_count": 32,
   "id": "cda3fdf0-57a5-4268-807e-d879c89bfaac",
   "metadata": {
    "tags": []
   },
   "outputs": [
    {
     "name": "stdout",
     "output_type": "stream",
     "text": [
      "<class 'pandas.core.frame.DataFrame'>\n",
      "RangeIndex: 9999 entries, 0 to 9998\n",
      "Data columns (total 15 columns):\n",
      " #   Column  Non-Null Count  Dtype  \n",
      "---  ------  --------------  -----  \n",
      " 0   x0      9996 non-null   float64\n",
      " 1   x1      9995 non-null   float64\n",
      " 2   x2      9996 non-null   float64\n",
      " 3   x3      9997 non-null   float64\n",
      " 4   x4      9997 non-null   float64\n",
      " 5   x5      9999 non-null   float64\n",
      " 6   x6      9996 non-null   float64\n",
      " 7   x7      9998 non-null   float64\n",
      " 8   x8      9999 non-null   float64\n",
      " 9   x9      9996 non-null   float64\n",
      " 10  x10     9997 non-null   float64\n",
      " 11  x11     9995 non-null   float64\n",
      " 12  x12     9999 non-null   float64\n",
      " 13  x13     9998 non-null   float64\n",
      " 14  y       9999 non-null   float64\n",
      "dtypes: float64(15)\n",
      "memory usage: 1.1 MB\n"
     ]
    }
   ],
   "source": [
    "# Displaying summary of eda_df_copy\n",
    "eda_df_copy.info()"
   ]
  },
  {
   "cell_type": "markdown",
   "id": "9db085a6-12f1-47c4-a6b8-658460d834a3",
   "metadata": {},
   "source": [
    "**Interpretation**: <br>There are many null values in the dataset. Therefore, a simple imputation procedure will done to handle nulls by replacing each missing value with the mean value of that particular column."
   ]
  },
  {
   "cell_type": "code",
   "execution_count": 38,
   "id": "e83845e2-ec10-4139-923b-4fcf8fef102b",
   "metadata": {
    "tags": []
   },
   "outputs": [
    {
     "name": "stdout",
     "output_type": "stream",
     "text": [
      "<class 'pandas.core.frame.DataFrame'>\n",
      "RangeIndex: 9999 entries, 0 to 9998\n",
      "Data columns (total 15 columns):\n",
      " #   Column  Non-Null Count  Dtype  \n",
      "---  ------  --------------  -----  \n",
      " 0   x0      9999 non-null   float64\n",
      " 1   x1      9999 non-null   float64\n",
      " 2   x2      9999 non-null   float64\n",
      " 3   x3      9999 non-null   float64\n",
      " 4   x4      9999 non-null   float64\n",
      " 5   x5      9999 non-null   float64\n",
      " 6   x6      9999 non-null   float64\n",
      " 7   x7      9999 non-null   float64\n",
      " 8   x8      9999 non-null   float64\n",
      " 9   x9      9999 non-null   float64\n",
      " 10  x10     9999 non-null   float64\n",
      " 11  x11     9999 non-null   float64\n",
      " 12  x12     9999 non-null   float64\n",
      " 13  x13     9999 non-null   float64\n",
      " 14  y       9999 non-null   float64\n",
      "dtypes: float64(15)\n",
      "memory usage: 1.1 MB\n"
     ]
    }
   ],
   "source": [
    "# Initiating the mean imputing process via 'SimpleImputer()' \n",
    "imputer = SimpleImputer(strategy='mean')\n",
    "\n",
    "# Applying inputation to dataset\n",
    "eda_df_copy_imputed = pd.DataFrame(imputer.fit_transform(eda_df_copy), columns=eda_df_copy.columns)\n",
    "\n",
    "# Displaying summary of eda_df_copy_inputed\n",
    "eda_df_copy_imputed.info()"
   ]
  },
  {
   "cell_type": "markdown",
   "id": "1f8e0eb9-60a6-4414-9536-985e08b27c0a",
   "metadata": {
    "tags": []
   },
   "source": [
    "### MLR:"
   ]
  },
  {
   "cell_type": "code",
   "execution_count": 42,
   "id": "ee1a354d-a935-4f97-8cc5-0ff2d18f632d",
   "metadata": {
    "tags": []
   },
   "outputs": [],
   "source": [
    "# Splitting data into input (X) and target (y)\n",
    "mlr_X = eda_df_copy_imputed.drop('y', axis=1)\n",
    "mlr_y = eda_df_copy_imputed['y']"
   ]
  },
  {
   "cell_type": "code",
   "execution_count": 43,
   "id": "c6de7a35-03f9-4d4b-b33e-b0cb287f43ad",
   "metadata": {
    "tags": []
   },
   "outputs": [
    {
     "data": {
      "text/html": [
       "<style>#sk-container-id-2 {color: black;background-color: white;}#sk-container-id-2 pre{padding: 0;}#sk-container-id-2 div.sk-toggleable {background-color: white;}#sk-container-id-2 label.sk-toggleable__label {cursor: pointer;display: block;width: 100%;margin-bottom: 0;padding: 0.3em;box-sizing: border-box;text-align: center;}#sk-container-id-2 label.sk-toggleable__label-arrow:before {content: \"▸\";float: left;margin-right: 0.25em;color: #696969;}#sk-container-id-2 label.sk-toggleable__label-arrow:hover:before {color: black;}#sk-container-id-2 div.sk-estimator:hover label.sk-toggleable__label-arrow:before {color: black;}#sk-container-id-2 div.sk-toggleable__content {max-height: 0;max-width: 0;overflow: hidden;text-align: left;background-color: #f0f8ff;}#sk-container-id-2 div.sk-toggleable__content pre {margin: 0.2em;color: black;border-radius: 0.25em;background-color: #f0f8ff;}#sk-container-id-2 input.sk-toggleable__control:checked~div.sk-toggleable__content {max-height: 200px;max-width: 100%;overflow: auto;}#sk-container-id-2 input.sk-toggleable__control:checked~label.sk-toggleable__label-arrow:before {content: \"▾\";}#sk-container-id-2 div.sk-estimator input.sk-toggleable__control:checked~label.sk-toggleable__label {background-color: #d4ebff;}#sk-container-id-2 div.sk-label input.sk-toggleable__control:checked~label.sk-toggleable__label {background-color: #d4ebff;}#sk-container-id-2 input.sk-hidden--visually {border: 0;clip: rect(1px 1px 1px 1px);clip: rect(1px, 1px, 1px, 1px);height: 1px;margin: -1px;overflow: hidden;padding: 0;position: absolute;width: 1px;}#sk-container-id-2 div.sk-estimator {font-family: monospace;background-color: #f0f8ff;border: 1px dotted black;border-radius: 0.25em;box-sizing: border-box;margin-bottom: 0.5em;}#sk-container-id-2 div.sk-estimator:hover {background-color: #d4ebff;}#sk-container-id-2 div.sk-parallel-item::after {content: \"\";width: 100%;border-bottom: 1px solid gray;flex-grow: 1;}#sk-container-id-2 div.sk-label:hover label.sk-toggleable__label {background-color: #d4ebff;}#sk-container-id-2 div.sk-serial::before {content: \"\";position: absolute;border-left: 1px solid gray;box-sizing: border-box;top: 0;bottom: 0;left: 50%;z-index: 0;}#sk-container-id-2 div.sk-serial {display: flex;flex-direction: column;align-items: center;background-color: white;padding-right: 0.2em;padding-left: 0.2em;position: relative;}#sk-container-id-2 div.sk-item {position: relative;z-index: 1;}#sk-container-id-2 div.sk-parallel {display: flex;align-items: stretch;justify-content: center;background-color: white;position: relative;}#sk-container-id-2 div.sk-item::before, #sk-container-id-2 div.sk-parallel-item::before {content: \"\";position: absolute;border-left: 1px solid gray;box-sizing: border-box;top: 0;bottom: 0;left: 50%;z-index: -1;}#sk-container-id-2 div.sk-parallel-item {display: flex;flex-direction: column;z-index: 1;position: relative;background-color: white;}#sk-container-id-2 div.sk-parallel-item:first-child::after {align-self: flex-end;width: 50%;}#sk-container-id-2 div.sk-parallel-item:last-child::after {align-self: flex-start;width: 50%;}#sk-container-id-2 div.sk-parallel-item:only-child::after {width: 0;}#sk-container-id-2 div.sk-dashed-wrapped {border: 1px dashed gray;margin: 0 0.4em 0.5em 0.4em;box-sizing: border-box;padding-bottom: 0.4em;background-color: white;}#sk-container-id-2 div.sk-label label {font-family: monospace;font-weight: bold;display: inline-block;line-height: 1.2em;}#sk-container-id-2 div.sk-label-container {text-align: center;}#sk-container-id-2 div.sk-container {/* jupyter's `normalize.less` sets `[hidden] { display: none; }` but bootstrap.min.css set `[hidden] { display: none !important; }` so we also need the `!important` here to be able to override the default hidden behavior on the sphinx rendered scikit-learn.org. See: https://github.com/scikit-learn/scikit-learn/issues/21755 */display: inline-block !important;position: relative;}#sk-container-id-2 div.sk-text-repr-fallback {display: none;}</style><div id=\"sk-container-id-2\" class=\"sk-top-container\"><div class=\"sk-text-repr-fallback\"><pre>LinearRegression()</pre><b>In a Jupyter environment, please rerun this cell to show the HTML representation or trust the notebook. <br />On GitHub, the HTML representation is unable to render, please try loading this page with nbviewer.org.</b></div><div class=\"sk-container\" hidden><div class=\"sk-item\"><div class=\"sk-estimator sk-toggleable\"><input class=\"sk-toggleable__control sk-hidden--visually\" id=\"sk-estimator-id-2\" type=\"checkbox\" checked><label for=\"sk-estimator-id-2\" class=\"sk-toggleable__label sk-toggleable__label-arrow\">LinearRegression</label><div class=\"sk-toggleable__content\"><pre>LinearRegression()</pre></div></div></div></div></div>"
      ],
      "text/plain": [
       "LinearRegression()"
      ]
     },
     "execution_count": 43,
     "metadata": {},
     "output_type": "execute_result"
    }
   ],
   "source": [
    "# Initializing and fitting the model\n",
    "mlr_model = LinearRegression()\n",
    "mlr_model.fit(mlr_X, mlr_y)"
   ]
  },
  {
   "cell_type": "code",
   "execution_count": 45,
   "id": "ee03bef9-5b58-4950-9046-f3a4a0ac2862",
   "metadata": {
    "tags": []
   },
   "outputs": [],
   "source": [
    "# Predicting 'y' using the trained model\n",
    "mlr_predictions = mlr_model.predict(mlr_X)"
   ]
  },
  {
   "cell_type": "code",
   "execution_count": 46,
   "id": "2cedd931-1ffa-4969-9c0b-c2dbf03703cf",
   "metadata": {
    "tags": []
   },
   "outputs": [
    {
     "data": {
      "text/plain": [
       "0.0010547721715407077"
      ]
     },
     "execution_count": 46,
     "metadata": {},
     "output_type": "execute_result"
    }
   ],
   "source": [
    "# Evaluating model performance via R2 score\n",
    "mlr_r2 = r2_score(mlr_y, mlr_predictions)\n",
    "\n",
    "# Printing results:\n",
    "mlr_r2"
   ]
  },
  {
   "cell_type": "markdown",
   "id": "4d06a302-0f38-4ed1-8721-8cf42f17754c",
   "metadata": {},
   "source": [
    "### Lasso Regression:"
   ]
  },
  {
   "cell_type": "code",
   "execution_count": 48,
   "id": "73aeb61d-b238-4242-9e40-0259cd7b5219",
   "metadata": {
    "tags": []
   },
   "outputs": [],
   "source": [
    "# Splitting data into input (X) and target (y)\n",
    "lasso_X = eda_df_copy_imputed.drop('y', axis=1)\n",
    "lasso_y = eda_df_copy_imputed['y']"
   ]
  },
  {
   "cell_type": "code",
   "execution_count": 49,
   "id": "70f9d898-ee20-4546-9f45-3836c847099a",
   "metadata": {
    "tags": []
   },
   "outputs": [
    {
     "data": {
      "text/html": [
       "<style>#sk-container-id-3 {color: black;background-color: white;}#sk-container-id-3 pre{padding: 0;}#sk-container-id-3 div.sk-toggleable {background-color: white;}#sk-container-id-3 label.sk-toggleable__label {cursor: pointer;display: block;width: 100%;margin-bottom: 0;padding: 0.3em;box-sizing: border-box;text-align: center;}#sk-container-id-3 label.sk-toggleable__label-arrow:before {content: \"▸\";float: left;margin-right: 0.25em;color: #696969;}#sk-container-id-3 label.sk-toggleable__label-arrow:hover:before {color: black;}#sk-container-id-3 div.sk-estimator:hover label.sk-toggleable__label-arrow:before {color: black;}#sk-container-id-3 div.sk-toggleable__content {max-height: 0;max-width: 0;overflow: hidden;text-align: left;background-color: #f0f8ff;}#sk-container-id-3 div.sk-toggleable__content pre {margin: 0.2em;color: black;border-radius: 0.25em;background-color: #f0f8ff;}#sk-container-id-3 input.sk-toggleable__control:checked~div.sk-toggleable__content {max-height: 200px;max-width: 100%;overflow: auto;}#sk-container-id-3 input.sk-toggleable__control:checked~label.sk-toggleable__label-arrow:before {content: \"▾\";}#sk-container-id-3 div.sk-estimator input.sk-toggleable__control:checked~label.sk-toggleable__label {background-color: #d4ebff;}#sk-container-id-3 div.sk-label input.sk-toggleable__control:checked~label.sk-toggleable__label {background-color: #d4ebff;}#sk-container-id-3 input.sk-hidden--visually {border: 0;clip: rect(1px 1px 1px 1px);clip: rect(1px, 1px, 1px, 1px);height: 1px;margin: -1px;overflow: hidden;padding: 0;position: absolute;width: 1px;}#sk-container-id-3 div.sk-estimator {font-family: monospace;background-color: #f0f8ff;border: 1px dotted black;border-radius: 0.25em;box-sizing: border-box;margin-bottom: 0.5em;}#sk-container-id-3 div.sk-estimator:hover {background-color: #d4ebff;}#sk-container-id-3 div.sk-parallel-item::after {content: \"\";width: 100%;border-bottom: 1px solid gray;flex-grow: 1;}#sk-container-id-3 div.sk-label:hover label.sk-toggleable__label {background-color: #d4ebff;}#sk-container-id-3 div.sk-serial::before {content: \"\";position: absolute;border-left: 1px solid gray;box-sizing: border-box;top: 0;bottom: 0;left: 50%;z-index: 0;}#sk-container-id-3 div.sk-serial {display: flex;flex-direction: column;align-items: center;background-color: white;padding-right: 0.2em;padding-left: 0.2em;position: relative;}#sk-container-id-3 div.sk-item {position: relative;z-index: 1;}#sk-container-id-3 div.sk-parallel {display: flex;align-items: stretch;justify-content: center;background-color: white;position: relative;}#sk-container-id-3 div.sk-item::before, #sk-container-id-3 div.sk-parallel-item::before {content: \"\";position: absolute;border-left: 1px solid gray;box-sizing: border-box;top: 0;bottom: 0;left: 50%;z-index: -1;}#sk-container-id-3 div.sk-parallel-item {display: flex;flex-direction: column;z-index: 1;position: relative;background-color: white;}#sk-container-id-3 div.sk-parallel-item:first-child::after {align-self: flex-end;width: 50%;}#sk-container-id-3 div.sk-parallel-item:last-child::after {align-self: flex-start;width: 50%;}#sk-container-id-3 div.sk-parallel-item:only-child::after {width: 0;}#sk-container-id-3 div.sk-dashed-wrapped {border: 1px dashed gray;margin: 0 0.4em 0.5em 0.4em;box-sizing: border-box;padding-bottom: 0.4em;background-color: white;}#sk-container-id-3 div.sk-label label {font-family: monospace;font-weight: bold;display: inline-block;line-height: 1.2em;}#sk-container-id-3 div.sk-label-container {text-align: center;}#sk-container-id-3 div.sk-container {/* jupyter's `normalize.less` sets `[hidden] { display: none; }` but bootstrap.min.css set `[hidden] { display: none !important; }` so we also need the `!important` here to be able to override the default hidden behavior on the sphinx rendered scikit-learn.org. See: https://github.com/scikit-learn/scikit-learn/issues/21755 */display: inline-block !important;position: relative;}#sk-container-id-3 div.sk-text-repr-fallback {display: none;}</style><div id=\"sk-container-id-3\" class=\"sk-top-container\"><div class=\"sk-text-repr-fallback\"><pre>Lasso()</pre><b>In a Jupyter environment, please rerun this cell to show the HTML representation or trust the notebook. <br />On GitHub, the HTML representation is unable to render, please try loading this page with nbviewer.org.</b></div><div class=\"sk-container\" hidden><div class=\"sk-item\"><div class=\"sk-estimator sk-toggleable\"><input class=\"sk-toggleable__control sk-hidden--visually\" id=\"sk-estimator-id-3\" type=\"checkbox\" checked><label for=\"sk-estimator-id-3\" class=\"sk-toggleable__label sk-toggleable__label-arrow\">Lasso</label><div class=\"sk-toggleable__content\"><pre>Lasso()</pre></div></div></div></div></div>"
      ],
      "text/plain": [
       "Lasso()"
      ]
     },
     "execution_count": 49,
     "metadata": {},
     "output_type": "execute_result"
    }
   ],
   "source": [
    "# Initializing and fitting the Lasso Regression model\n",
    "lasso_model = Lasso()\n",
    "lasso_model.fit(lasso_X, lasso_y)"
   ]
  },
  {
   "cell_type": "code",
   "execution_count": 50,
   "id": "474c6f5f-61fd-4aa8-bc9b-dde673f57a30",
   "metadata": {
    "tags": []
   },
   "outputs": [],
   "source": [
    "# Predicting 'y' using the trained Lasso model\n",
    "lasso_predictions = lasso_model.predict(lasso_X)"
   ]
  },
  {
   "cell_type": "code",
   "execution_count": 51,
   "id": "556ffad3-7b3d-43b6-9148-57faa3ba6c97",
   "metadata": {
    "tags": []
   },
   "outputs": [
    {
     "data": {
      "text/plain": [
       "3.642776540380144e-05"
      ]
     },
     "execution_count": 51,
     "metadata": {},
     "output_type": "execute_result"
    }
   ],
   "source": [
    "# Evaluating model performance via R2 score\n",
    "lasso_r2 = r2_score(lasso_y, lasso_predictions)\n",
    "\n",
    "# Printing results:\n",
    "lasso_r2"
   ]
  },
  {
   "cell_type": "markdown",
   "id": "714b4229-d9a5-4535-a2e2-36d21be1b948",
   "metadata": {},
   "source": [
    "### KNN:"
   ]
  },
  {
   "cell_type": "code",
   "execution_count": 53,
   "id": "6ec55785-e767-4fc6-86aa-56c85479e305",
   "metadata": {
    "tags": []
   },
   "outputs": [],
   "source": [
    "# Splitting data into input (X) and target (y)\n",
    "knn_X = eda_df_copy_imputed.drop('y', axis=1)\n",
    "knn_y = eda_df_copy_imputed['y']"
   ]
  },
  {
   "cell_type": "code",
   "execution_count": 54,
   "id": "55335027-2146-4aa9-8fc8-3ce24c024412",
   "metadata": {
    "tags": []
   },
   "outputs": [
    {
     "data": {
      "text/html": [
       "<style>#sk-container-id-4 {color: black;background-color: white;}#sk-container-id-4 pre{padding: 0;}#sk-container-id-4 div.sk-toggleable {background-color: white;}#sk-container-id-4 label.sk-toggleable__label {cursor: pointer;display: block;width: 100%;margin-bottom: 0;padding: 0.3em;box-sizing: border-box;text-align: center;}#sk-container-id-4 label.sk-toggleable__label-arrow:before {content: \"▸\";float: left;margin-right: 0.25em;color: #696969;}#sk-container-id-4 label.sk-toggleable__label-arrow:hover:before {color: black;}#sk-container-id-4 div.sk-estimator:hover label.sk-toggleable__label-arrow:before {color: black;}#sk-container-id-4 div.sk-toggleable__content {max-height: 0;max-width: 0;overflow: hidden;text-align: left;background-color: #f0f8ff;}#sk-container-id-4 div.sk-toggleable__content pre {margin: 0.2em;color: black;border-radius: 0.25em;background-color: #f0f8ff;}#sk-container-id-4 input.sk-toggleable__control:checked~div.sk-toggleable__content {max-height: 200px;max-width: 100%;overflow: auto;}#sk-container-id-4 input.sk-toggleable__control:checked~label.sk-toggleable__label-arrow:before {content: \"▾\";}#sk-container-id-4 div.sk-estimator input.sk-toggleable__control:checked~label.sk-toggleable__label {background-color: #d4ebff;}#sk-container-id-4 div.sk-label input.sk-toggleable__control:checked~label.sk-toggleable__label {background-color: #d4ebff;}#sk-container-id-4 input.sk-hidden--visually {border: 0;clip: rect(1px 1px 1px 1px);clip: rect(1px, 1px, 1px, 1px);height: 1px;margin: -1px;overflow: hidden;padding: 0;position: absolute;width: 1px;}#sk-container-id-4 div.sk-estimator {font-family: monospace;background-color: #f0f8ff;border: 1px dotted black;border-radius: 0.25em;box-sizing: border-box;margin-bottom: 0.5em;}#sk-container-id-4 div.sk-estimator:hover {background-color: #d4ebff;}#sk-container-id-4 div.sk-parallel-item::after {content: \"\";width: 100%;border-bottom: 1px solid gray;flex-grow: 1;}#sk-container-id-4 div.sk-label:hover label.sk-toggleable__label {background-color: #d4ebff;}#sk-container-id-4 div.sk-serial::before {content: \"\";position: absolute;border-left: 1px solid gray;box-sizing: border-box;top: 0;bottom: 0;left: 50%;z-index: 0;}#sk-container-id-4 div.sk-serial {display: flex;flex-direction: column;align-items: center;background-color: white;padding-right: 0.2em;padding-left: 0.2em;position: relative;}#sk-container-id-4 div.sk-item {position: relative;z-index: 1;}#sk-container-id-4 div.sk-parallel {display: flex;align-items: stretch;justify-content: center;background-color: white;position: relative;}#sk-container-id-4 div.sk-item::before, #sk-container-id-4 div.sk-parallel-item::before {content: \"\";position: absolute;border-left: 1px solid gray;box-sizing: border-box;top: 0;bottom: 0;left: 50%;z-index: -1;}#sk-container-id-4 div.sk-parallel-item {display: flex;flex-direction: column;z-index: 1;position: relative;background-color: white;}#sk-container-id-4 div.sk-parallel-item:first-child::after {align-self: flex-end;width: 50%;}#sk-container-id-4 div.sk-parallel-item:last-child::after {align-self: flex-start;width: 50%;}#sk-container-id-4 div.sk-parallel-item:only-child::after {width: 0;}#sk-container-id-4 div.sk-dashed-wrapped {border: 1px dashed gray;margin: 0 0.4em 0.5em 0.4em;box-sizing: border-box;padding-bottom: 0.4em;background-color: white;}#sk-container-id-4 div.sk-label label {font-family: monospace;font-weight: bold;display: inline-block;line-height: 1.2em;}#sk-container-id-4 div.sk-label-container {text-align: center;}#sk-container-id-4 div.sk-container {/* jupyter's `normalize.less` sets `[hidden] { display: none; }` but bootstrap.min.css set `[hidden] { display: none !important; }` so we also need the `!important` here to be able to override the default hidden behavior on the sphinx rendered scikit-learn.org. See: https://github.com/scikit-learn/scikit-learn/issues/21755 */display: inline-block !important;position: relative;}#sk-container-id-4 div.sk-text-repr-fallback {display: none;}</style><div id=\"sk-container-id-4\" class=\"sk-top-container\"><div class=\"sk-text-repr-fallback\"><pre>KNeighborsRegressor()</pre><b>In a Jupyter environment, please rerun this cell to show the HTML representation or trust the notebook. <br />On GitHub, the HTML representation is unable to render, please try loading this page with nbviewer.org.</b></div><div class=\"sk-container\" hidden><div class=\"sk-item\"><div class=\"sk-estimator sk-toggleable\"><input class=\"sk-toggleable__control sk-hidden--visually\" id=\"sk-estimator-id-4\" type=\"checkbox\" checked><label for=\"sk-estimator-id-4\" class=\"sk-toggleable__label sk-toggleable__label-arrow\">KNeighborsRegressor</label><div class=\"sk-toggleable__content\"><pre>KNeighborsRegressor()</pre></div></div></div></div></div>"
      ],
      "text/plain": [
       "KNeighborsRegressor()"
      ]
     },
     "execution_count": 54,
     "metadata": {},
     "output_type": "execute_result"
    }
   ],
   "source": [
    "# Initializing and fitting the KNN Regression model\n",
    "knn_model = KNeighborsRegressor()\n",
    "knn_model.fit(knn_X, knn_y)"
   ]
  },
  {
   "cell_type": "code",
   "execution_count": 55,
   "id": "6e13d863-e336-44c8-8d0d-17e8d11830fa",
   "metadata": {
    "tags": []
   },
   "outputs": [],
   "source": [
    "# Predicting 'y' using the trained KNN model\n",
    "knn_predictions = knn_model.predict(knn_X)"
   ]
  },
  {
   "cell_type": "code",
   "execution_count": 56,
   "id": "668eb45b-8104-437c-a57b-58333942b2f9",
   "metadata": {
    "tags": []
   },
   "outputs": [
    {
     "data": {
      "text/plain": [
       "0.20746493103417973"
      ]
     },
     "execution_count": 56,
     "metadata": {},
     "output_type": "execute_result"
    }
   ],
   "source": [
    "# Evaluating model performance via R2 score\n",
    "knn_r2 = r2_score(knn_y, knn_predictions)\n",
    "\n",
    "# Printing results\n",
    "knn_r2"
   ]
  }
 ],
 "metadata": {
  "kernelspec": {
   "display_name": "Python 3 (ipykernel)",
   "language": "python",
   "name": "python3"
  },
  "language_info": {
   "codemirror_mode": {
    "name": "ipython",
    "version": 3
   },
   "file_extension": ".py",
   "mimetype": "text/x-python",
   "name": "python",
   "nbconvert_exporter": "python",
   "pygments_lexer": "ipython3",
   "version": "3.10.10"
  }
 },
 "nbformat": 4,
 "nbformat_minor": 5
}
