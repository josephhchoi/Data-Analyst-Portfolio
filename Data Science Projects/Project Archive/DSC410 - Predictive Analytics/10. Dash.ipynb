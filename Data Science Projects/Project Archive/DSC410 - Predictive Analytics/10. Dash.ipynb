{
  "nbformat": 4,
  "nbformat_minor": 0,
  "metadata": {
    "colab": {
      "provenance": [],
      "authorship_tag": "ABX9TyMOYnt6fr9PrwOkcNY92iBR",
      "include_colab_link": true
    },
    "kernelspec": {
      "name": "python3",
      "display_name": "Python 3"
    },
    "language_info": {
      "name": "python"
    }
  },
  "cells": [
    {
      "cell_type": "markdown",
      "metadata": {
        "id": "view-in-github",
        "colab_type": "text"
      },
      "source": [
        "<a href=\"https://colab.research.google.com/github/josephhchoi/Bellevue-DSC/blob/main/DSC410_W11_Dash.ipynb\" target=\"_parent\"><img src=\"https://colab.research.google.com/assets/colab-badge.svg\" alt=\"Open In Colab\"/></a>"
      ]
    },
    {
      "cell_type": "markdown",
      "source": [
        "# DSC410: Dash"
      ],
      "metadata": {
        "id": "hlfdUXBNtmJV"
      }
    },
    {
      "cell_type": "markdown",
      "source": [
        "## Table of Content:\n",
        "- Model Setup\n",
        "- Dash App\n",
        "- Additional Documentation"
      ],
      "metadata": {
        "id": "qR6bpOtWttKB"
      }
    },
    {
      "cell_type": "markdown",
      "source": [
        "## Model Setup:\n",
        "- Setting up my scaler and random forest classifier model from week 8"
      ],
      "metadata": {
        "id": "tOkgX1x6ttUm"
      }
    },
    {
      "cell_type": "code",
      "source": [
        "# Setup\n",
        "import pandas as pd\n",
        "from sklearn.model_selection import train_test_split, cross_val_score, GridSearchCV\n",
        "from sklearn.ensemble import RandomForestClassifier\n",
        "from sklearn.metrics import accuracy_score, precision_score, recall_score, f1_score, roc_auc_score\n",
        "from sklearn.preprocessing import StandardScaler"
      ],
      "metadata": {
        "id": "bIGTVXKouQj1"
      },
      "execution_count": 9,
      "outputs": []
    },
    {
      "cell_type": "code",
      "execution_count": 1,
      "metadata": {
        "id": "EkSuldbWp4tk"
      },
      "outputs": [],
      "source": [
        "# Loading in the cleaned, preprocessed, and feature engineered df from W8 exercise\n",
        "travel_insurance_final = pd.read_csv('/content/travel_insurance_final.csv')\n",
        "\n",
        "# Splitting the data into features and target variable\n",
        "X = travel_insurance_final.drop('Claim', axis=1)\n",
        "y = travel_insurance_final['Claim']\n",
        "\n",
        "# Splitting the data into training and testing sets\n",
        "X_train, X_test, y_train, y_test = train_test_split(X, y, test_size=0.2, random_state=42)\n",
        "\n",
        "# Splitting the data into features and target variable\n",
        "X = travel_insurance_final.drop('Claim', axis=1)\n",
        "y = travel_insurance_final['Claim']\n",
        "\n",
        "# Splitting the data into training and testing sets\n",
        "X_train, X_test, y_train, y_test = train_test_split(X, y, test_size=0.2, random_state=42)\n",
        "\n",
        "# Standardizing the features\n",
        "scaler = StandardScaler()\n",
        "X_train_scaled = scaler.fit_transform(X_train)\n",
        "X_test_scaled = scaler.transform(X_test)\n",
        "\n",
        "# Defining the random forest classifier\n",
        "rf_classifier = RandomForestClassifier()\n",
        "\n",
        "# Fitting the model to the training data\n",
        "rf_classifier.fit(X_train_scaled, y_train)\n",
        "\n",
        "# Making predictions on the test set\n",
        "y_pred = rf_classifier.predict(X_test_scaled)"
      ]
    },
    {
      "cell_type": "markdown",
      "source": [
        "## Dash App:\n",
        "- Implementing my scaler and random forest classifier model into Dash\n",
        "- Referenced code in textbook Hands-on Predictive Analytics (pg. 292-300)"
      ],
      "metadata": {
        "id": "bnj5t0ilugQy"
      }
    },
    {
      "cell_type": "code",
      "source": [
        "# Setup\n",
        "import dash\n",
        "from dash import dcc\n",
        "from dash import html\n",
        "from dash.dependencies import Input, Output, State\n",
        "import joblib\n",
        "import numpy as np\n",
        "import pandas as pd"
      ],
      "metadata": {
        "id": "zeK2JqpJun0p"
      },
      "execution_count": 10,
      "outputs": []
    },
    {
      "cell_type": "code",
      "source": [
        "\"\"\"\n",
        "Code Description:\n",
        "  - Serializing and saving machine learning models via \"joblib\"\n",
        "  - Dealing with two objects:\n",
        "    - RandomForestClassifier model\n",
        "    - StandardScaler object\n",
        "\n",
        "Code Breakdown:\n",
        "  - Step 1: Specifying file paths\n",
        "  - Step 2: Saving the \"rf_classifier\" model\n",
        "  - Step 3: Saving the \"scaler\" object\n",
        "\n",
        "\"\"\"\n",
        "\n",
        "# Step 1:\n",
        "model_path = '/content/rf_classifier.pkl'\n",
        "scaler_path = '/content/scaler.pkl'\n",
        "\n",
        "# Step 2:\n",
        "joblib.dump(rf_classifier, model_path)\n",
        "\n",
        "# Step 3:\n",
        "joblib.dump(scaler, scaler_path)"
      ],
      "metadata": {
        "colab": {
          "base_uri": "https://localhost:8080/"
        },
        "id": "7iDbHoLpqh8o",
        "outputId": "0355da55-b05b-453d-a7da-88e46e20f3bb"
      },
      "execution_count": 7,
      "outputs": [
        {
          "output_type": "execute_result",
          "data": {
            "text/plain": [
              "['/content/scaler.pkl']"
            ]
          },
          "metadata": {},
          "execution_count": 7
        }
      ]
    },
    {
      "cell_type": "code",
      "source": [
        "\"\"\"\n",
        "Code Description:\n",
        "  - Coding for Dash app initialization and the configuration of the web application\n",
        "  - Setting up the app's layout with:\n",
        "    - Input fields\n",
        "    - Predict button to start the prediction process\n",
        "\n",
        "Code Breakdown:\n",
        "  - Step 1: Initializing Dash app\n",
        "  - Step 2: Defining the app layout\n",
        "  - App layout is sectioned off into 4 parts:\n",
        "    - Step 3 (Title): Displaying main header of the app \"Travel Insurance Claim Prediction\" via \"html.H1()\"\n",
        "    - Step 4 (Inputs): Creating an input area where users can fill out info for each field via \"dcc.Input()\"\n",
        "    - Step 5 (Predict Button): Creating a button that triggers prediction when data is updated via \"html.Button()\"\n",
        "    - Step 6 (Output Display): Allowing it to show prediction results when button is triggered via \"html.Div()\"\n",
        "\"\"\"\n",
        "\n",
        "# Step 1:\n",
        "app = dash.Dash(__name__)\n",
        "server = app.server\n",
        "\n",
        "# Step 2:\n",
        "app.layout = html.Div([\n",
        "    # Step 3:\n",
        "    html.H1(\"Travel Insurance Claim Prediction\"),\n",
        "    # Step 4:\n",
        "    html.Div([\n",
        "        html.Div([\n",
        "            html.Label(\"Agency:\"),\n",
        "            dcc.Input(id=\"agency\", type=\"number\", value=1),\n",
        "        ], className=\"three columns\"),\n",
        "        html.Div([\n",
        "            html.Label(\"Product Name:\"),\n",
        "            dcc.Input(id=\"product_name\", type=\"number\", value=1),\n",
        "        ], className=\"three columns\"),\n",
        "        html.Div([\n",
        "            html.Label(\"Duration:\"),\n",
        "            dcc.Input(id=\"duration\", type=\"number\", value=186),\n",
        "        ], className=\"three columns\"),\n",
        "        html.Div([\n",
        "            html.Label(\"Destination:\"),\n",
        "            dcc.Input(id=\"destination\", type=\"number\", value=1),\n",
        "        ], className=\"three columns\"),\n",
        "        html.Div([\n",
        "            html.Label(\"Net Sales:\"),\n",
        "            dcc.Input(id=\"net_sales\", type=\"number\", value=-29.0),\n",
        "        ], className=\"three columns\"),\n",
        "        html.Div([\n",
        "            html.Label(\"Commission (in value):\"),\n",
        "            dcc.Input(id=\"commission\", type=\"number\", value=9.57),\n",
        "        ], className=\"three columns\"),\n",
        "        html.Div([\n",
        "            html.Label(\"Age:\"),\n",
        "            dcc.Input(id=\"age\", type=\"number\", value=81),\n",
        "        ], className=\"three columns\"),\n",
        "        html.Div([\n",
        "            html.Label(\"Agency Type Encoded:\"),\n",
        "            dcc.Input(id=\"agency_type_encoded\", type=\"number\", value=0),\n",
        "        ], className=\"three columns\"),\n",
        "        html.Div([\n",
        "            html.Label(\"Distribution Channel Encoded:\"),\n",
        "            dcc.Input(id=\"distribution_channel_encoded\", type=\"number\", value=1),\n",
        "        ], className=\"three columns\"),\n",
        "    ], className=\"row\"),\n",
        "    # Step 5:\n",
        "    html.Button(\"Predict\", id=\"predict-btn\", n_clicks=0),\n",
        "    # Step 6:\n",
        "    html.Div(id=\"prediction-output\", style={\"marginTop\": \"20px\"}),\n",
        "])\n",
        "\n",
        "\"\"\"\n",
        "Code Description:\n",
        "  - Implementing callback function to handle predictions in Dash\n",
        "  - Setting it up so that it updates the output display based on user inputs\n",
        "\n",
        "Code Breakdown:\n",
        "  - Step 7: Setting up Callback via \"@app.callback\"\n",
        "    - Linking the predict button's clicks to the prediction output\n",
        "    - Defining inputs and states to capture user inputs from the app's interface\n",
        "      - Input:\n",
        "      - Output:\n",
        "      - State:\n",
        "  - Step 8: Creating the \"predict\" function to process inputs and generate predictions:\n",
        "    - Step 9: Compiling all the input values into array format via \"np.array()\"\n",
        "    - Step 10: Applying scaling to the input features with \"scaler\" object\n",
        "    - Step 11: Implementing the \"rf_classifier\" model to make predictions\n",
        "    - Step 12: Returning prediction result. Features:\n",
        "      - Displaying \"The model predicts:\" output (\"Claim/No Claim\") based on the outcome\n",
        "      - Prompting the user to \"Enter features and click predict\" if no prediction is made\n",
        "  - Step 13: Running the App\n",
        "    - \"app.run_server(debug=True)\": Making the app available for interaction.\n",
        "\"\"\"\n",
        "\n",
        "# Step 7:\n",
        "@app.callback(\n",
        "    Output(\"prediction-output\", \"children\"),\n",
        "    [Input(\"predict-btn\", \"n_clicks\")],\n",
        "    [State(\"agency\", \"value\"), State(\"product_name\", \"value\"),\n",
        "     State(\"duration\", \"value\"), State(\"destination\", \"value\"),\n",
        "     State(\"net_sales\", \"value\"), State(\"commission\", \"value\"),\n",
        "     State(\"age\", \"value\"), State(\"agency_type_encoded\", \"value\"),\n",
        "     State(\"distribution_channel_encoded\", \"value\")]\n",
        ")\n",
        "# Step 8:\n",
        "def predict(n_clicks, agency, product_name, duration, destination, net_sales, commission, age, agency_type_encoded, distribution_channel_encoded):\n",
        "    if n_clicks > 0:\n",
        "        # Step 9:\n",
        "        input_features = np.array([[agency, product_name, duration, destination, net_sales, commission, age, agency_type_encoded, distribution_channel_encoded]])\n",
        "\n",
        "        # Step 10:\n",
        "        input_features_scaled = scaler.transform(input_features)\n",
        "\n",
        "        # Step 11:\n",
        "        prediction = rf_classifier.predict(input_features_scaled)\n",
        "\n",
        "        # Step 12:\n",
        "        if prediction[0] == 1:\n",
        "            return \"The model predicts: Claim\"\n",
        "        else:\n",
        "            return \"The model predicts: No Claim\"\n",
        "    return \"Enter features and click predict\"\n",
        "\n",
        "# Step 13:\n",
        "if __name__ == '__main__':\n",
        "    app.run_server(debug=True)"
      ],
      "metadata": {
        "colab": {
          "base_uri": "https://localhost:8080/",
          "height": 671
        },
        "id": "lk2yuoW5qBQu",
        "outputId": "6d526f69-70d0-49aa-c28a-9efe95eb59c2"
      },
      "execution_count": 8,
      "outputs": [
        {
          "output_type": "display_data",
          "data": {
            "text/plain": [
              "<IPython.core.display.Javascript object>"
            ],
            "application/javascript": [
              "(async (port, path, width, height, cache, element) => {\n",
              "    if (!google.colab.kernel.accessAllowed && !cache) {\n",
              "      return;\n",
              "    }\n",
              "    element.appendChild(document.createTextNode(''));\n",
              "    const url = await google.colab.kernel.proxyPort(port, {cache});\n",
              "    const iframe = document.createElement('iframe');\n",
              "    iframe.src = new URL(path, url).toString();\n",
              "    iframe.height = height;\n",
              "    iframe.width = width;\n",
              "    iframe.style.border = 0;\n",
              "    iframe.allow = [\n",
              "        'accelerometer',\n",
              "        'autoplay',\n",
              "        'camera',\n",
              "        'clipboard-read',\n",
              "        'clipboard-write',\n",
              "        'gyroscope',\n",
              "        'magnetometer',\n",
              "        'microphone',\n",
              "        'serial',\n",
              "        'usb',\n",
              "        'xr-spatial-tracking',\n",
              "    ].join('; ');\n",
              "    element.appendChild(iframe);\n",
              "  })(8050, \"/\", \"100%\", 650, false, window.element)"
            ]
          },
          "metadata": {}
        }
      ]
    },
    {
      "cell_type": "markdown",
      "source": [
        "## Additional Documentation:"
      ],
      "metadata": {
        "id": "rjMQ6fHU6LBA"
      }
    },
    {
      "cell_type": "markdown",
      "source": [
        "For this week's exercise, my initial working environment was Docker and through Docker, I wrote my codes within a Jupyter notebook. However, I was unable to launch the Dash app server in the Docker environment. This issue occurred for both my w11 exercise and the diamond example code.\n",
        "\n",
        "Following your suggestion, I transitioned over to Google Colab and everything worked! I am also including a screenshot of my launced Dash app in case you are unable to see the app's output."
      ],
      "metadata": {
        "id": "WshUdc6c6N1t"
      }
    }
  ]
}