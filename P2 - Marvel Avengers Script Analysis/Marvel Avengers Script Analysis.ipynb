{
 "cells": [
  {
   "cell_type": "markdown",
   "id": "948eb132",
   "metadata": {},
   "source": [
    "# Marvel Avengers Script Analysis\n",
    "---"
   ]
  },
  {
   "cell_type": "markdown",
   "id": "13bb6055",
   "metadata": {},
   "source": [
    "### Table of Content: \n",
    "- Data Preparation\n",
    "- Determining Word Frequency\n",
    "- Custom NER Model Training\n",
    "- Text Analysis\n",
    "- Data Visualization\n",
    "- Text Summarization"
   ]
  },
  {
   "cell_type": "markdown",
   "id": "46d2c837",
   "metadata": {},
   "source": [
    "## Data Preparation\n",
    "---\n",
    "Parsing the PDF file <br> \n",
    "Performing data cleaning procedures to prep data for model training"
   ]
  },
  {
   "cell_type": "markdown",
   "id": "1340a41e",
   "metadata": {},
   "source": [
    "#### PDF File Loading:"
   ]
  },
  {
   "cell_type": "code",
   "execution_count": 35,
   "id": "ce4e3203",
   "metadata": {},
   "outputs": [
    {
     "data": {
      "text/plain": [
       "'Marvel’s THE AVENGERS\\nWritten By\\nJoss Whedon\\nStory By\\nZak Penn and Joss Whedon\\nBased on the characters appearing in the comic books\\nPublished by MARVEL Comics1 EXT. UNKNOWN AREA OF SPACE 1\\nSpace, a floating staircase among the rocks...THE OTHER\\nspeaks to a DISEMBODIED FIGURE in a chair.\\nTHE OTHER (V.O)\\nThe Tesseract has awakened. It is\\non a little world, a human world.\\nThey would wield its power.\\nTHE OTHER hands LOKI a scepter with a glowing blue gem...\\nTHE OTHER (V.O)\\nBut our ally knows its wor'"
      ]
     },
     "execution_count": 35,
     "metadata": {},
     "output_type": "execute_result"
    }
   ],
   "source": [
    "#setup\n",
    "import PyPDF2\n",
    "import spacy\n",
    "\n",
    "#loading the PDF file using open() in read binary mode\n",
    "pdf_file = open('Avengers Script.pdf', 'rb')\n",
    "pdf_reader = PyPDF2.PdfReader(pdf_file)\n",
    "\n",
    "#extracting the text from each page of the PDF file and concatenating them to form a single string\n",
    "text = ''\n",
    "for page in pdf_reader.pages:\n",
    "    text += page.extract_text()\n",
    "\n",
    "#extracting sample of a text\n",
    "sample_text = text[:500]\n",
    "sample_text"
   ]
  },
  {
   "cell_type": "markdown",
   "id": "c79f0916",
   "metadata": {},
   "source": [
    "#### Data Cleaning Step #1:\n",
    "Removing newlines and carriage returns"
   ]
  },
  {
   "cell_type": "code",
   "execution_count": 36,
   "id": "7e1b2cc9",
   "metadata": {},
   "outputs": [
    {
     "data": {
      "text/plain": [
       "'Marvel’s THE AVENGERS Written By Joss Whedon Story By Zak Penn and Joss Whedon Based on the characters appearing in the comic books Published by MARVEL Comics1 EXT. UNKNOWN AREA OF SPACE 1 Space, a floating staircase among the rocks...THE OTHER speaks to a DISEMBODIED FIGURE in a chair. THE OTHER (V.O) The Tesseract has awakened. It is on a little world, a human world. They would wield its power. THE OTHER hands LOKI a scepter with a glowing blue gem... THE OTHER (V.O) But our ally knows its wor'"
      ]
     },
     "execution_count": 36,
     "metadata": {},
     "output_type": "execute_result"
    }
   ],
   "source": [
    "#deleting '\\n' and '\\r' via 'replace()'\n",
    "cleaned_text = text.replace('\\n', ' ').replace('\\r', '')\n",
    "cleaned_text[:500]"
   ]
  },
  {
   "cell_type": "markdown",
   "id": "d8f304ab",
   "metadata": {},
   "source": [
    "#### Data Cleaning Step #2:\n",
    "Removing stopwords from the extracted text"
   ]
  },
  {
   "cell_type": "code",
   "execution_count": 37,
   "id": "8b06673b",
   "metadata": {},
   "outputs": [
    {
     "name": "stderr",
     "output_type": "stream",
     "text": [
      "[nltk_data] Downloading package stopwords to\n",
      "[nltk_data]     C:\\Users\\josep\\AppData\\Roaming\\nltk_data...\n",
      "[nltk_data]   Package stopwords is already up-to-date!\n"
     ]
    }
   ],
   "source": [
    "#setup\n",
    "import nltk\n",
    "nltk.download('stopwords')\n",
    "from nltk.corpus import stopwords\n",
    "\n",
    "#creating a set that contains the list of stopwords for English language\n",
    "stop_words = set(stopwords.words('english'))"
   ]
  },
  {
   "cell_type": "code",
   "execution_count": 39,
   "id": "4723f2e9",
   "metadata": {},
   "outputs": [
    {
     "data": {
      "text/plain": [
       "['Marvel’s', 'THE', 'AVENGERS', 'Written', 'By']"
      ]
     },
     "execution_count": 39,
     "metadata": {},
     "output_type": "execute_result"
    }
   ],
   "source": [
    "#splitting the 'cleaned_text' string into a list of words\n",
    "words = cleaned_text.split()\n",
    "words[:5]"
   ]
  },
  {
   "cell_type": "code",
   "execution_count": 40,
   "id": "d11be9cc",
   "metadata": {
    "scrolled": true
   },
   "outputs": [
    {
     "data": {
      "text/plain": [
       "'Marvel’s AVENGERS Written Joss Whedon Story Zak Penn Joss Whedon Based characters appearing comic books Published MARVEL Comics1 EXT. UNKNOWN AREA SPACE 1 Space, floating staircase among rocks...THE speaks DISEMBODIED FIGURE chair. (V.O) Tesseract awakened. little world, human world. would wield power. hands LOKI scepter glowing blue gem... (V.O) ally knows workings never will. ready lead. force... CHITAURI put face mask get ready. (V.O) ...our Chitauri, follow. world his...the universe, yours. '"
      ]
     },
     "execution_count": 40,
     "metadata": {},
     "output_type": "execute_result"
    }
   ],
   "source": [
    "#creating a list that contains only the words from the 'words' list that are NOT in the 'stop_words' set\n",
    "#filtering out stopwords from the 'words' list \n",
    "filtered_words = [word for word in words if word.lower() not in stop_words]\n",
    "filtered_text = \" \".join(filtered_words)\n",
    "filtered_text[:500]"
   ]
  },
  {
   "cell_type": "markdown",
   "id": "6935d239",
   "metadata": {},
   "source": [
    "#### Data Cleaning Step #3:\n",
    "Converting all text to lowercase"
   ]
  },
  {
   "cell_type": "code",
   "execution_count": 41,
   "id": "b3a45259",
   "metadata": {},
   "outputs": [
    {
     "data": {
      "text/plain": [
       "'marvel’s avengers written joss whedon story zak penn joss whedon based characters appearing comic books published marvel comics1 ext. unknown area space 1 space, floating staircase among rocks...the speaks disembodied figure chair. (v.o) tesseract awakened. little world, human world. would wield power. hands loki scepter glowing blue gem... (v.o) ally knows workings never will. ready lead. force... chitauri put face mask get ready. (v.o) ...our chitauri, follow. world his...the universe, yours. '"
      ]
     },
     "execution_count": 41,
     "metadata": {},
     "output_type": "execute_result"
    }
   ],
   "source": [
    "#modifying each word in the script to lowercase\n",
    "updated_text = filtered_text.lower()\n",
    "updated_text[:500]"
   ]
  },
  {
   "cell_type": "markdown",
   "id": "db37ed0a",
   "metadata": {},
   "source": [
    "## Determining Word Frequency\n",
    "---\n",
    "Analyzing word frequencies and extracting character names from the script"
   ]
  },
  {
   "cell_type": "code",
   "execution_count": 8,
   "id": "761d9fb8",
   "metadata": {},
   "outputs": [
    {
     "data": {
      "text/plain": [
       "[('-', 217),\n",
       " ('fury', 201),\n",
       " ('tony', 201),\n",
       " ('natasha', 193),\n",
       " ('loki', 187),\n",
       " ('continuous', 164),\n",
       " ('man', 140),\n",
       " ('thor', 140),\n",
       " ('iron', 134),\n",
       " ('banner', 132),\n",
       " ('int.', 122),\n",
       " ('steve', 122),\n",
       " ('barton', 120),\n",
       " ('ext.', 98),\n",
       " ('(continued)continued:', 98),\n",
       " ('coulson', 88),\n",
       " ('carrier', 81),\n",
       " ('agent', 77),\n",
       " ('it’s', 77),\n",
       " ('stark', 63)]"
      ]
     },
     "execution_count": 8,
     "metadata": {},
     "output_type": "execute_result"
    }
   ],
   "source": [
    "#setup    \n",
    "from collections import Counter\n",
    "\n",
    "#tokenizing the text into individual words\n",
    "tokens = updated_text.split()\n",
    "\n",
    "#counting the frequency of each word    \n",
    "word_freq = Counter(tokens)\n",
    "\n",
    "#retrieving the most common words and their frequencies\n",
    "most_common_words = word_freq.most_common(20)\n",
    "most_common_words"
   ]
  },
  {
   "cell_type": "markdown",
   "id": "42262196",
   "metadata": {},
   "source": [
    "## Custom NER Model Training\n",
    "---\n",
    "Employing a blank spaCy model to label \"Character\" entities <br>\n",
    "Applying an entity ruler to the script"
   ]
  },
  {
   "cell_type": "code",
   "execution_count": 9,
   "id": "c549ee3f",
   "metadata": {},
   "outputs": [],
   "source": [
    "#setup\n",
    "import spacy\n",
    "from spacy.tokens import Doc, Span\n",
    "from collections import Counter\n",
    "\n",
    "#loading a blank English model   \n",
    "nlp = spacy.blank(\"en\")\n",
    "\n",
    "#defining the entity label 'Character'\n",
    "LABEL = \"Character\"\n",
    "#adding the label to the vocabulary string\n",
    "nlp.vocab.strings.add(LABEL)\n",
    "\n",
    "#defining a list of character names from the Avengers script\n",
    "    #retrieved the names from 'Determining Word Frequency' output\n",
    "character_names = [\"fury\", \"tony\", \"natasha\", \"loki\", \"thor\", \"banner\", \"steve\", \"barton\", \"coulson\"]\n",
    "\n",
    "#defining a pattern for each character name\n",
    "patterns = [{\"label\": LABEL, \"pattern\": name} for name in character_names]\n",
    "\n",
    "#adding the patterns as entity rulers to the pipeline\n",
    "ruler = nlp.add_pipe(\"entity_ruler\")\n",
    "ruler.add_patterns(patterns)\n",
    "\n",
    "#applying entity ruler to the cleaned text\n",
    "doc = nlp(updated_text)"
   ]
  },
  {
   "cell_type": "markdown",
   "id": "9e78b929",
   "metadata": {},
   "source": [
    "## Text Analysis\n",
    "---\n",
    "Analyzing characters with most appearances"
   ]
  },
  {
   "cell_type": "code",
   "execution_count": 45,
   "id": "2515b3f2",
   "metadata": {},
   "outputs": [],
   "source": [
    "#collecting character appearances and their frequencies\n",
    "\n",
    "#counting the freq of character entities\n",
    "character_freq = Counter()\n",
    "\n",
    "#creating a loop to iterate over each entity in the 'ent' attribute of the 'doc' object\n",
    "for ent in doc.ents:\n",
    "    print(ent.text, ent.label_)\n",
    "    #instructing to check if 'ent.label' matches the 'LABEL' which is the string 'Character' then:\n",
    "        #increment the count of 'ent.text' in the 'character_freq' counter\n",
    "        #count the freq of each character entity in script\n",
    "    if ent.label_ == LABEL: \n",
    "        character_freq[ent.text] += 1"
   ]
  },
  {
   "cell_type": "code",
   "execution_count": 11,
   "id": "8adac76e",
   "metadata": {},
   "outputs": [
    {
     "name": "stdout",
     "output_type": "stream",
     "text": [
      "loki: 252 appearances\n",
      "fury: 225 appearances\n",
      "tony: 220 appearances\n",
      "natasha: 213 appearances\n",
      "thor: 162 appearances\n",
      "banner: 157 appearances\n",
      "barton: 147 appearances\n",
      "steve: 135 appearances\n",
      "coulson: 107 appearances\n"
     ]
    }
   ],
   "source": [
    "#displaying character frequencies\n",
    "\n",
    "#creating a loop to iterate items in 'character_freq' in descending order of freq\n",
    "for character, freq in character_freq.most_common():\n",
    "    print(f\"{character}: {freq} appearances\")"
   ]
  },
  {
   "cell_type": "markdown",
   "id": "a66e6bcf",
   "metadata": {},
   "source": [
    "#### Analysis: \n",
    "The analysis results revealed that the character 'Loki' had the highest presence in the script, which aligns with the character's role as the main antagonist in the movie. 'Loki' was prominently featured in numerous scenes throughout the film, matching with the output of the analysis."
   ]
  },
  {
   "cell_type": "markdown",
   "id": "3075c8e8",
   "metadata": {},
   "source": [
    "## Data Visualization\n",
    "---\n",
    "Creating a word cloud to visualize most frequently mentioned characters in the script"
   ]
  },
  {
   "cell_type": "code",
   "execution_count": 30,
   "id": "583714fc",
   "metadata": {},
   "outputs": [
    {
     "data": {
      "image/png": "[encoded data removed]",
      "text/plain": [
       "<Figure size 1000x500 with 1 Axes>"
      ]
     },
     "metadata": {},
     "output_type": "display_data"
    }
   ],
   "source": [
    "import matplotlib.pyplot as plt\n",
    "from wordcloud import WordCloud\n",
    "\n",
    "#creating a dictionary from 'Counter' object 'character_freq'\n",
    "character_freq_dict = dict(character_freq)\n",
    "\n",
    "#generating the word cloud\n",
    "wordcloud = WordCloud(width=800, height=400, background_color='white').generate_from_frequencies(character_freq_dict)\n",
    "\n",
    "#displaying the word cloud using matplotlib\n",
    "plt.figure(figsize=(10, 5))\n",
    "plt.imshow(wordcloud, interpolation='bilinear')\n",
    "plt.axis('off')\n",
    "plt.show()"
   ]
  },
  {
   "cell_type": "markdown",
   "id": "6a0c351e",
   "metadata": {},
   "source": [
    "## Text Summarization\n",
    "---\n",
    "Processing text using spaCy's pre-trained language model to calculate the importance score of each sentence <br>\n",
    "Selecting the top 3 sentences with the highest scores as the summary of the script"
   ]
  },
  {
   "cell_type": "code",
   "execution_count": 46,
   "id": "29e4b64a",
   "metadata": {},
   "outputs": [
    {
     "data": {
      "text/plain": [
       "'Marvel’s THE AVENGERS Written By Joss Whedon Story By Zak Penn and Joss Whedon Based on the characters appearing in the comic books Published by MARVEL Comics1 EXT. UNKNOWN AREA OF SPACE 1 Space, a floating staircase among the rocks...THE OTHER speaks to a DISEMBODIED FIGURE in a chair. THE OTHER (V.O) The Tesseract has awakened. It is on a little world, a human world. They would wield its power. THE OTHER hands LOKI a scepter with a glowing blue gem... THE OTHER (V.O) But our ally knows its wor'"
      ]
     },
     "execution_count": 46,
     "metadata": {},
     "output_type": "execute_result"
    }
   ],
   "source": [
    "#setup\n",
    "import PyPDF2\n",
    "import spacy\n",
    "\n",
    "#loading the PDF file using open() in read binary mode\n",
    "pdf_file = open('Avengers Script.pdf', 'rb')\n",
    "pdf_reader = PyPDF2.PdfReader(pdf_file)\n",
    "\n",
    "#extracting the text from each page of the PDF file and concatenating them to form a single string\n",
    "text_sum = ''\n",
    "for page in pdf_reader.pages:\n",
    "    text_sum += page.extract_text()\n",
    "text_sum\n",
    "\n",
    "#deleting '\\n' and '\\r' via 'replace()'\n",
    "text_sum = text_sum.replace('\\n', ' ').replace('\\r', '')\n",
    "text_sum[:500]"
   ]
  },
  {
   "cell_type": "code",
   "execution_count": 16,
   "id": "508197eb",
   "metadata": {},
   "outputs": [],
   "source": [
    "#loading spacy's english pre-trained language model\n",
    "nlp1 = spacy.load('en_core_web_lg')\n",
    "\n",
    "#applying nlp pipeline to process 'updated_text'\n",
    "doc1 = nlp1(text_sum)"
   ]
  },
  {
   "cell_type": "code",
   "execution_count": 17,
   "id": "fb6017e6",
   "metadata": {},
   "outputs": [
    {
     "name": "stderr",
     "output_type": "stream",
     "text": [
      "C:\\Users\\josep\\AppData\\Local\\Temp\\ipykernel_21552\\1842755202.py:32: UserWarning: [W008] Evaluating Token.similarity based on empty vectors.\n",
      "  similarity_score = token.similarity(sent) * (1 - (sent_length / len(doc1)))\n",
      "C:\\Users\\josep\\AppData\\Local\\Temp\\ipykernel_21552\\1842755202.py:26: UserWarning: [W008] Evaluating Token.similarity based on empty vectors.\n",
      "  similarity_score = token.similarity(sent) * (1 - (sent_length / len(doc1)))\n"
     ]
    }
   ],
   "source": [
    "#calculating the importance score of each sentence\n",
    "sentence_scores = {}\n",
    "\n",
    "#creating a loop that iterates over each sentence in the 'doc1' object\n",
    "for sent in doc1.sents:\n",
    "    #calculating the sentence length\n",
    "    sent_length = len(sent)\n",
    "    \n",
    "    #creating a loop that iterates over each token in the sentence\n",
    "    for token in sent:\n",
    "        #instruction: if the token is a stop word, skip\n",
    "        if token.text.lower() in nlp1.Defaults.stop_words:\n",
    "            continue\n",
    "        \n",
    "        #instruction: if the token is a punctuation mark, skip\n",
    "        if token.is_punct:\n",
    "            continue\n",
    "        \n",
    "        #instruction: if the token is a pronoun, skip\n",
    "        if token.pos_ == 'PRON':\n",
    "            continue\n",
    "        \n",
    "        #instruction: if the sentence is not already in 'sentence_scores', create a new entry\n",
    "        if sent not in sentence_scores.keys():\n",
    "            #adjusting the similarity score based on sentence length\n",
    "            similarity_score = token.similarity(sent) * (1 - (sent_length / len(doc1)))\n",
    "            sentence_scores[sent] = similarity_score\n",
    "        \n",
    "        #instruction: if the sentence is already in 'sentence_scores', the similarity score is added to the existing value  \n",
    "        else:\n",
    "            #adjusting the similarity score based on sentence length\n",
    "            similarity_score = token.similarity(sent) * (1 - (sent_length / len(doc1)))\n",
    "            sentence_scores[sent] += similarity_score"
   ]
  },
  {
   "cell_type": "code",
   "execution_count": 18,
   "id": "216d63a6",
   "metadata": {},
   "outputs": [
    {
     "name": "stdout",
     "output_type": "stream",
     "text": [
      "[360 spin: The Avengers stand in a circle, Hulk roars, Hawkeye nocks an arrow, Thor readies Mjolnir, Black Widow loads her gun, Captain America stands ready and Iron Man hovers above them, landing next to the Hulk., A super soldier, a living legend who kind of lives up to the legend; a man with breath-taking anger management issues; a couple of master assassins, and you, big fella, you’ve managed to piss off every single one of them., The sign on the building reads: JOINT DARK ENERGY MISSION; WESTERN DIVISION; PROJECT PEGASUS, NASA SPACE RADIATION FACILITY, S.H.I.E.L.D ACCELERATOR TEST]\n"
     ]
    }
   ],
   "source": [
    "#creating a tuple and selecting the top 3 sentences with the highest score\n",
    "summary_sentences = sorted(sentence_scores.items(), key=lambda x: x[1], reverse=True)[:3]\n",
    "\n",
    "#creating a list that contains each of the top 3 sentences\n",
    "summary = [sentence[0] for sentence in summary_sentences]\n",
    "print(summary)"
   ]
  },
  {
   "cell_type": "markdown",
   "id": "7132dfcf",
   "metadata": {},
   "source": [
    "#### Insight:\n",
    "The output of the text summarization model reveals: \n",
    "- Pivotal moments in the script where the Avengers unite, showcasing their unique abilities and equipment\n",
    "- Relevant settings or subjects when mentioning Joint Dark Energy Mission, Western Division, and other topics"
   ]
  }
 ],
 "metadata": {
  "kernelspec": {
   "display_name": "Python 3 (ipykernel)",
   "language": "python",
   "name": "python3"
  },
  "language_info": {
   "codemirror_mode": {
    "name": "ipython",
    "version": 3
   },
   "file_extension": ".py",
   "mimetype": "text/x-python",
   "name": "python",
   "nbconvert_exporter": "python",
   "pygments_lexer": "ipython3",
   "version": "3.9.13"
  }
 },
 "nbformat": 4,
 "nbformat_minor": 5
}
